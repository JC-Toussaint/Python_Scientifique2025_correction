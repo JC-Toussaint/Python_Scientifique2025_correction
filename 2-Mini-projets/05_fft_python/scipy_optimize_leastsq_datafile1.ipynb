{
 "cells": [
  {
   "cell_type": "code",
   "execution_count": 1,
   "metadata": {
    "collapsed": false
   },
   "outputs": [
    {
     "name": "stdout",
     "output_type": "stream",
     "text": [
      "<class 'numpy.ndarray'>\n",
      "float64\n",
      "[ 0.  1.  2.  3.  4.  5.]\n",
      "[ 0.1  0.9  2.1  3.1  4.5  5.1]\n",
      "[[ 55.  15.]\n",
      " [ 15.   6.]]   <class 'numpy.ndarray'>\n",
      "[ 57.9  15.8]   <class 'numpy.ndarray'>   (2,)\n"
     ]
    }
   ],
   "source": [
    "import matplotlib.pyplot as plt\n",
    "import numpy as np\n",
    "from scipy import optimize\n",
    "def f(coeff, x, y):\n",
    "    d=(y-coeff[0]*x-coeff[1])\n",
    "    return d\n",
    "\n",
    "x=[]\n",
    "y=[]\n",
    "with open('datafitlin.dat', 'r') as fp:\n",
    "    data = fp.readlines()\n",
    "    for line in data:\n",
    "        [xl, yl] = line.split()\n",
    "        x.append(float(xl))\n",
    "        y.append(float(yl))\n",
    "fp.closed \n",
    "\n",
    "#x=np.array(x) # array (by default) will make a copy of the object, while asarray will not unless necessary.\n",
    "#y=np.array(y)\n",
    "x=np.asarray(x)\n",
    "y=np.asarray(y)\n",
    "print(type(x))\n",
    "print(x.dtype)\n",
    "plt.figure()\n",
    "plt.plot(x, y, 'o')\n",
    "\n",
    "print(x)\n",
    "print(y)\n",
    "guest=(0, 0)\n",
    "\n",
    "res = optimize.leastsq(f, guest[:], args=(x, y))\n",
    "#print(type(res))\n",
    "xfit=np.linspace(0, 5, 2, endpoint=True) \n",
    "yfit=res[0][0]*xfit+res[0][1]\n",
    "plt.plot(xfit, yfit, 'r-')\n",
    "\n",
    "\n",
    "# Approche implementation moindre carrée sous forme syslin\n",
    "un=np.ones_like(x)\n",
    "A=np.vstack((x, un))\n",
    "R=A.dot(A.T)\n",
    "#print(R.shape)\n",
    "b=A.dot(y)\n",
    "print(R, ' ', type(R))\n",
    "print(b, ' ', type(b), ' ', b.shape)\n",
    "coeff=np.linalg.solve(R, b)\n",
    "yfit2=coeff[0]*xfit+coeff[1]\n",
    "plt.plot(xfit, yfit2, 'g.-')\n",
    "plt.grid()\n",
    "plt.show()"
   ]
  },
  {
   "cell_type": "code",
   "execution_count": 24,
   "metadata": {
    "collapsed": false
   },
   "outputs": [
    {
     "name": "stdout",
     "output_type": "stream",
     "text": [
      "Help on function leastsq in module scipy.optimize.minpack:\n",
      "\n",
      "leastsq(func, x0, args=(), Dfun=None, full_output=0, col_deriv=0, ftol=1.49012e-08, xtol=1.49012e-08, gtol=0.0, maxfev=0, epsfcn=None, factor=100, diag=None)\n",
      "    Minimize the sum of squares of a set of equations.\n",
      "    \n",
      "    ::\n",
      "    \n",
      "        x = arg min(sum(func(y)**2,axis=0))\n",
      "                 y\n",
      "    \n",
      "    Parameters\n",
      "    ----------\n",
      "    func : callable\n",
      "        should take at least one (possibly length N vector) argument and\n",
      "        returns M floating point numbers. It must not return NaNs or\n",
      "        fitting might fail.\n",
      "    x0 : ndarray\n",
      "        The starting estimate for the minimization.\n",
      "    args : tuple, optional\n",
      "        Any extra arguments to func are placed in this tuple.\n",
      "    Dfun : callable, optional\n",
      "        A function or method to compute the Jacobian of func with derivatives\n",
      "        across the rows. If this is None, the Jacobian will be estimated.\n",
      "    full_output : bool, optional\n",
      "        non-zero to return all optional outputs.\n",
      "    col_deriv : bool, optional\n",
      "        non-zero to specify that the Jacobian function computes derivatives\n",
      "        down the columns (faster, because there is no transpose operation).\n",
      "    ftol : float, optional\n",
      "        Relative error desired in the sum of squares.\n",
      "    xtol : float, optional\n",
      "        Relative error desired in the approximate solution.\n",
      "    gtol : float, optional\n",
      "        Orthogonality desired between the function vector and the columns of\n",
      "        the Jacobian.\n",
      "    maxfev : int, optional\n",
      "        The maximum number of calls to the function. If `Dfun` is provided\n",
      "        then the default `maxfev` is 100*(N+1) where N is the number of elements\n",
      "        in x0, otherwise the default `maxfev` is 200*(N+1).\n",
      "    epsfcn : float, optional\n",
      "        A variable used in determining a suitable step length for the forward-\n",
      "        difference approximation of the Jacobian (for Dfun=None).\n",
      "        Normally the actual step length will be sqrt(epsfcn)*x\n",
      "        If epsfcn is less than the machine precision, it is assumed that the\n",
      "        relative errors are of the order of the machine precision.\n",
      "    factor : float, optional\n",
      "        A parameter determining the initial step bound\n",
      "        (``factor * || diag * x||``). Should be in interval ``(0.1, 100)``.\n",
      "    diag : sequence, optional\n",
      "        N positive entries that serve as a scale factors for the variables.\n",
      "    \n",
      "    Returns\n",
      "    -------\n",
      "    x : ndarray\n",
      "        The solution (or the result of the last iteration for an unsuccessful\n",
      "        call).\n",
      "    cov_x : ndarray\n",
      "        Uses the fjac and ipvt optional outputs to construct an\n",
      "        estimate of the jacobian around the solution. None if a\n",
      "        singular matrix encountered (indicates very flat curvature in\n",
      "        some direction).  This matrix must be multiplied by the\n",
      "        residual variance to get the covariance of the\n",
      "        parameter estimates -- see curve_fit.\n",
      "    infodict : dict\n",
      "        a dictionary of optional outputs with the key s:\n",
      "    \n",
      "        ``nfev``\n",
      "            The number of function calls\n",
      "        ``fvec``\n",
      "            The function evaluated at the output\n",
      "        ``fjac``\n",
      "            A permutation of the R matrix of a QR\n",
      "            factorization of the final approximate\n",
      "            Jacobian matrix, stored column wise.\n",
      "            Together with ipvt, the covariance of the\n",
      "            estimate can be approximated.\n",
      "        ``ipvt``\n",
      "            An integer array of length N which defines\n",
      "            a permutation matrix, p, such that\n",
      "            fjac*p = q*r, where r is upper triangular\n",
      "            with diagonal elements of nonincreasing\n",
      "            magnitude. Column j of p is column ipvt(j)\n",
      "            of the identity matrix.\n",
      "        ``qtf``\n",
      "            The vector (transpose(q) * fvec).\n",
      "    \n",
      "    mesg : str\n",
      "        A string message giving information about the cause of failure.\n",
      "    ier : int\n",
      "        An integer flag.  If it is equal to 1, 2, 3 or 4, the solution was\n",
      "        found.  Otherwise, the solution was not found. In either case, the\n",
      "        optional output variable 'mesg' gives more information.\n",
      "    \n",
      "    Notes\n",
      "    -----\n",
      "    \"leastsq\" is a wrapper around MINPACK's lmdif and lmder algorithms.\n",
      "    \n",
      "    cov_x is a Jacobian approximation to the Hessian of the least squares\n",
      "    objective function.\n",
      "    This approximation assumes that the objective function is based on the\n",
      "    difference between some observed target data (ydata) and a (non-linear)\n",
      "    function of the parameters `f(xdata, params)` ::\n",
      "    \n",
      "           func(params) = ydata - f(xdata, params)\n",
      "    \n",
      "    so that the objective function is ::\n",
      "    \n",
      "           min   sum((ydata - f(xdata, params))**2, axis=0)\n",
      "         params\n",
      "\n"
     ]
    }
   ],
   "source": [
    "help(optimize.leastsq)"
   ]
  },
  {
   "cell_type": "code",
   "execution_count": 76,
   "metadata": {
    "collapsed": false
   },
   "outputs": [
    {
     "name": "stdout",
     "output_type": "stream",
     "text": [
      "(array([ 1.02018134,  0.02995163]), 3)\n"
     ]
    }
   ],
   "source": [
    "print(res)"
   ]
  },
  {
   "cell_type": "code",
   "execution_count": null,
   "metadata": {
    "collapsed": true
   },
   "outputs": [],
   "source": []
  }
 ],
 "metadata": {
  "anaconda-cloud": {},
  "kernelspec": {
   "display_name": "Python [Root]",
   "language": "python",
   "name": "Python [Root]"
  },
  "language_info": {
   "codemirror_mode": {
    "name": "ipython",
    "version": 3
   },
   "file_extension": ".py",
   "mimetype": "text/x-python",
   "name": "python",
   "nbconvert_exporter": "python",
   "pygments_lexer": "ipython3",
   "version": "3.5.2"
  }
 },
 "nbformat": 4,
 "nbformat_minor": 0
}
