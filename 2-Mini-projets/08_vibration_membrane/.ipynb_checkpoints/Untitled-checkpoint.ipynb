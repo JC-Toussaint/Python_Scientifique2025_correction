{
 "cells": [
  {
   "cell_type": "code",
   "execution_count": null,
   "metadata": {},
   "outputs": [],
   "source": [
    "%matplotlib\n",
    "import scipy\n",
    "from scipy import sparse\n",
    "from scipy.sparse.linalg.dsolve import linsolve\n",
    "import numpy as np\n",
    "\n",
    "N=100\n",
    "A=sparse.rand(N, N, density=0.1, random_state=123) \n",
    "A=A+A.T # symmétrisation\n",
    "\n",
    "# Recette pour rendre une matrice definie positive\n",
    "D=A.diagonal() \t\t# partie diagonale\n",
    "A=A-sparse.diags(D)\t# suppression\n",
    "S=np.abs(A).sum(axis=1)\t# somme des v.a. des termes de chaque ligne\n",
    "D=S.flatten().tolist()\t# Applatissage et conversion vers liste\n",
    "\n",
    "W=sparse.diags(D[0])\n",
    "A=A+W\n",
    "\n",
    "vals, vecs = sparse.linalg.eigsh(Kp, k=n, which='SM')\n"
   ]
  }
 ],
 "metadata": {
  "kernelspec": {
   "display_name": "Python 3",
   "language": "python",
   "name": "python3"
  },
  "language_info": {
   "codemirror_mode": {
    "name": "ipython",
    "version": 3
   },
   "file_extension": ".py",
   "mimetype": "text/x-python",
   "name": "python",
   "nbconvert_exporter": "python",
   "pygments_lexer": "ipython3",
   "version": "3.6.4"
  }
 },
 "nbformat": 4,
 "nbformat_minor": 2
}
