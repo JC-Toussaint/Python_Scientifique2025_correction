{
 "cells": [
  {
   "cell_type": "markdown",
   "metadata": {},
   "source": [
    "# Miniprojet Excel\n",
    "\n",
    "L'objectif de ce miniprojet est d'automatiser un traitement de données sur des fichiers excel.\n",
    "\n",
    "### Question 1 \n",
    "Ecrivez une fonction qui lecture(nom_fichier) qui lit un ficher excel en utilisant la librairie pandas et retourne un objet DataFrame.\n",
    "Le paramètre nom_fichier correspond au nom du fichier.\n",
    "Vous utiliserez la première colonne du fichier excel (= le nom de l'étudiant.e) comme nom des lignes (l'index du DataFrame)\n",
    "\n",
    "Testez votre fonction et vérifiez qu'elle fonctionne correctement avec un argument de type 'str' ou de type 'pathlib.Path'"
   ]
  },
  {
   "cell_type": "code",
   "execution_count": null,
   "metadata": {},
   "outputs": [],
   "source": [
    "import pathlib\n",
    "import pandas as pd\n",
    "\n",
    "def lecture(nom_fichier):\n",
    "    \"\"\"Lit un fichier excel dont le nom est passé en paramètre et retourne un objet DataFrame\"\"\"\n",
    "    # a compléter\n",
    "\n",
    "# test avec str\n",
    "d = lecture(\"notes_2019.xlsx\")\n",
    "print(d.head())\n",
    "\n",
    "# test avec pathlib\n",
    "path = pathlib.Path.cwd() / \"notes_2019.xlsx\"\n",
    "d = lecture(path)\n",
    "print(d.head())"
   ]
  },
  {
   "cell_type": "markdown",
   "metadata": {},
   "source": [
    "### Question 2 : \n",
    "En utilisant la DataFrame retrournée par votre fonction lecture, répondez aux questions suivantes :\n",
    "- Combien Olivia a-t-elle eu en maths ? \n",
    "- Combien y a t-il d'élèves dans la classe ?\n",
    "\n",
    "Pour vous aider, vous pouvez consulter l'aide des méthodes de l'objet DataFrame suivantes : loc et shape "
   ]
  },
  {
   "cell_type": "code",
   "execution_count": null,
   "metadata": {},
   "outputs": [],
   "source": [
    "import pandas as pd"
   ]
  },
  {
   "cell_type": "markdown",
   "metadata": {},
   "source": [
    "### Question 3\n",
    "\n",
    "Calculer la moyenne et l'écart type de la classe dans chaque matière. Pour cela, on vous propose deux méthodes :\n",
    "\n",
    "1) faites une boucle sur les différentes colonnes de la DataFrame (voir la méthode 'columns'), puis calculez la moyenne et l'écart type avec les fonction numpy np.average et np.std\n",
    "2) utilisez les méthodes 'mean' et 'std' de l'objet DataFrame"
   ]
  },
  {
   "cell_type": "code",
   "execution_count": null,
   "metadata": {},
   "outputs": [],
   "source": [
    "import numpy as np"
   ]
  },
  {
   "cell_type": "markdown",
   "metadata": {},
   "source": [
    "### Question 4 : \n",
    "On souhaite à présent récupérer et regrouper les informations présentes sur plusieurs fichiers excel. Ces derniers représentent les notes obtenues au cours de différentes années, par différentes classes d'étudiants, mais toujours sur les mêmes matières.\n",
    "\n",
    "Créez une fonction lecture_multi(liste_fichiers) qui renvoie une liste de DataFrame correspondant aux données présentes dans les différents fichiers excel, dont les noms sont passés en paramètres.\n",
    "\n",
    "Testez votre fonction."
   ]
  },
  {
   "cell_type": "code",
   "execution_count": null,
   "metadata": {},
   "outputs": [],
   "source": []
  },
  {
   "cell_type": "markdown",
   "metadata": {},
   "source": [
    "### Question 5\n",
    "\n",
    "Créez une fonction fichiers_notes(debut, fin) qui renvoie une liste de chaines de caractère du type 'notes_XXXX.xlsx', où XXXX correspond à une année. Les différentes valeurs de l'année seront comprises entre 'debut' et 'fin', les deux paramètres de la fonction."
   ]
  },
  {
   "cell_type": "code",
   "execution_count": null,
   "metadata": {},
   "outputs": [],
   "source": []
  },
  {
   "cell_type": "markdown",
   "metadata": {},
   "source": [
    "### Question 6\n",
    "\n",
    "Affichez sur un graphique l'évolution du nombre d'étudiant.e.s par classe en fonction des années"
   ]
  },
  {
   "cell_type": "code",
   "execution_count": null,
   "metadata": {},
   "outputs": [],
   "source": []
  },
  {
   "cell_type": "markdown",
   "metadata": {},
   "source": [
    "### Question 7\n",
    "\n",
    "Affichez sur un graphique l'évolution de la moyenne dans chaque matère en fonction des années. \n",
    "\n",
    "Pour rassembler les moyennes par matières à partir des différentes DataFrames, il y a plusieurs possibilités. On vous propose ci-dessous une façon de faire, mais n'hésitez pas à faire autrement !\n",
    "\n",
    "1) Créer une Dataframe \"matieres\" qui contient uniquement les noms de colonne correspondant aux différentes matières, sans aucune valeurs\n",
    "2) Grâce à une boucle, insérer au fur et à mesure de nouvelles lignes à la DataFrame \"matières\". Chaque ligne a pour index l'année et pour valeurs la moyenne dans chaque matière de cette année là.\n",
    "3) On peut alors tracer directement toutes ces données à l'aide de la méthode DataFrame.plot()"
   ]
  },
  {
   "cell_type": "code",
   "execution_count": null,
   "metadata": {},
   "outputs": [],
   "source": []
  },
  {
   "cell_type": "markdown",
   "metadata": {},
   "source": [
    "### Bonus\n",
    "\n",
    "Créez, avec l'explorateur Windows ou équivalent, sur votre disque dur plusieurs sous-répertoires nommés 2019, 2020, ... et placez-y le fichier de note correspondant.\n",
    "\n",
    "Ecrivez une nouvelle version de la fonction fichiers_notes(debut, fin), qui renvoie cette fois-ci une liste d'objet pathlib.Path\n",
    "\n",
    "Testez votre fonction dans la question 7"
   ]
  },
  {
   "cell_type": "code",
   "execution_count": null,
   "metadata": {},
   "outputs": [],
   "source": []
  }
 ],
 "metadata": {
  "kernelspec": {
   "display_name": "mesh",
   "language": "python",
   "name": "python3"
  },
  "language_info": {
   "codemirror_mode": {
    "name": "ipython",
    "version": 3
   },
   "file_extension": ".py",
   "mimetype": "text/x-python",
   "name": "python",
   "nbconvert_exporter": "python",
   "pygments_lexer": "ipython3",
   "version": "3.12.0"
  }
 },
 "nbformat": 4,
 "nbformat_minor": 2
}
