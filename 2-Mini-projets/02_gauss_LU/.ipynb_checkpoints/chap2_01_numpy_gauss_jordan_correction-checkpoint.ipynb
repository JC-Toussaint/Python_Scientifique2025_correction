{
 "cells": [
  {
   "cell_type": "markdown",
   "metadata": {},
   "source": [
    "# Librairie Python Numpy \n",
    "\n",
    "NumPy est une extension du langage de programmation Python, pour\n",
    "manipuler des matrices ou des tableaux multidimensionnels.\n",
    "Elle possède des fonctions mathématiques vectorielles opérant sur les tableaux."
   ]
  },
  {
   "cell_type": "markdown",
   "metadata": {},
   "source": [
    "# 1.Gauss Jordan sans changement de pivot"
   ]
  },
  {
   "cell_type": "code",
   "execution_count": 1,
   "metadata": {
    "collapsed": false
   },
   "outputs": [
    {
     "name": "stdout",
     "output_type": "stream",
     "text": [
      "[[ 1.]\n",
      " [ 2.]\n",
      " [-1.]]\n",
      "Residu ----------\n",
      "[[ 0.]\n",
      " [ 0.]\n",
      " [ 0.]]\n"
     ]
    }
   ],
   "source": [
    "import numpy as np\n",
    "\n",
    "import math\n",
    "np.set_printoptions(precision=4, suppress=True)\n",
    "\n",
    "def gauss_jordan(A, B):\n",
    "    n=A.shape[0]\n",
    "    assert A.shape[1]==n, 'number of columns not equal to %r' % n\n",
    "    assert B.shape[0]==n, 'number of rows not equal to %r' % n\n",
    "\n",
    "    A=np.hstack((A, B)) # concaténation\n",
    "    epsilon=1e-6\n",
    "    for k in range(n):\n",
    "        akk=A[k, k]\n",
    "#        print('k :', k, ' akk :', akk)\n",
    "        A[k, :]=A[k, :]/akk\n",
    "#        print(A)\n",
    "        for i in range(n):\n",
    "            if i==k: continue\n",
    "            aik=A[i, k]\n",
    "            A[i, :]=A[i, :]-aik*A[k, :]\n",
    "#        print('-----------')    \n",
    "#        print(A)\n",
    "    R=A[:, n:]\n",
    "    return R\n",
    "        \n",
    "K=np.matrix([[2, 1, -4], [3, 3, -5], [4, 5, -2]], dtype=np.float)\n",
    "L=np.matrix([[8], [14], [16]], dtype=np.float)\n",
    "R=gauss_jordan(K, L)\n",
    "print(R)\n",
    "print('Residu ----------')\n",
    "print(L-(K * R))"
   ]
  },
  {
   "cell_type": "markdown",
   "metadata": {},
   "source": [
    "# 2. Stabilité numérique "
   ]
  },
  {
   "cell_type": "code",
   "execution_count": 2,
   "metadata": {
    "collapsed": false
   },
   "outputs": [
    {
     "name": "stdout",
     "output_type": "stream",
     "text": [
      "[[ -4.]\n",
      " [ 16.]\n",
      " [ -1.]\n",
      " [  1.]]\n",
      "Residu ----------\n",
      "[[ 0.    ]\n",
      " [-4.    ]\n",
      " [-0.3333]\n",
      " [-4.    ]]\n"
     ]
    }
   ],
   "source": [
    "K=np.matrix([[1, 1/4,  0, 0], \n",
    "            [1, 5/4, 12, 0], \n",
    "            [1, 1/3,  1, 1], \n",
    "            [1, 5/4, 13, 1]], dtype=np.float)\n",
    "L=np.matrix([[0], [0], [1], [0]])\n",
    "\n",
    "R=gauss_jordan(K, L)\n",
    "print(R)\n",
    "print('Residu ----------')\n",
    "print(L-(K * R))"
   ]
  },
  {
   "cell_type": "markdown",
   "metadata": {},
   "source": [
    "# Traitement des exceptions"
   ]
  },
  {
   "cell_type": "code",
   "execution_count": 3,
   "metadata": {
    "collapsed": false
   },
   "outputs": [
    {
     "name": "stdout",
     "output_type": "stream",
     "text": [
      "run-time error: pivot akk trop faible\n",
      "run-time error: number of rows not equal to 2\n"
     ]
    }
   ],
   "source": [
    "import numpy as np\n",
    "import math\n",
    "\n",
    "def gauss_jordan(A, B):\n",
    "    n=A.shape[0]\n",
    "    assert A.shape[1]==n, 'number of columns not equal to %r' % n\n",
    "    assert B.shape[0]==n, 'number of rows not equal to %r' % n\n",
    "\n",
    "    A=np.hstack((A, B)) # concaténation\n",
    "    epsilon=1e-6\n",
    "    for k in range(n):\n",
    "        akk=A[k, k]\n",
    "        if abs(akk)<epsilon:\n",
    "            raise ZeroDivisionError(\"pivot akk trop faible\")\n",
    "        A[k, :]=A[k, :]/akk\n",
    "#        print(A)\n",
    "        for i in range(n):\n",
    "            if i==k: continue\n",
    "            aik=A[i, k]\n",
    "            A[i, :]=A[i, :]-aik*A[k, :]\n",
    "#        print('-----------')    \n",
    "#        print(A)\n",
    "    R=A[:, n:]\n",
    "    return R\n",
    "        \n",
    "K=np.matrix([[2, 1, -4], [3, 3, -5], [4, 5, -2]], dtype=np.float)\n",
    "L=np.matrix([[8], [14], [16]], dtype=np.float)\n",
    "gauss_jordan(K, L)\n",
    "\n",
    "K=np.matrix([[0, 1, -4], [3, 3, -5], [4, 5, -2]], dtype=np.float)\n",
    "L=np.matrix([[8], [14], [16]], dtype=np.float)\n",
    "\n",
    "try:\n",
    "    gauss_jordan(K, L)\n",
    "except ZeroDivisionError as err:\n",
    "    print('run-time error:', err)\n",
    "    \n",
    "K=np.array([[2, 1], [3, 3]], dtype=np.float)\n",
    "L=np.array([[8], [14], [16]], dtype=np.float)\n",
    "try:\n",
    "    R=gauss_jordan(K, L)\n",
    "    print(R)\n",
    "except ZeroDivisionError as err:\n",
    "    print('run-time error:', err)\n",
    "except AssertionError as err:\n",
    "    print('run-time error:', err)\n",
    "       "
   ]
  },
  {
   "cell_type": "markdown",
   "metadata": {},
   "source": [
    "La fonction membre shape retourne les dimensions du tableau sous la forme d'un tuple"
   ]
  },
  {
   "cell_type": "markdown",
   "metadata": {
    "collapsed": false
   },
   "source": [
    "# Gauss-Jordan avec pivot"
   ]
  },
  {
   "cell_type": "markdown",
   "metadata": {},
   "source": [
    "Application des opérateurs de calcul arithmétique"
   ]
  },
  {
   "cell_type": "code",
   "execution_count": 4,
   "metadata": {
    "collapsed": false
   },
   "outputs": [
    {
     "name": "stdout",
     "output_type": "stream",
     "text": [
      "avant------\n",
      "[[  1.       0.25     0.       0.       0.    ]\n",
      " [  1.       1.25    12.       0.       0.    ]\n",
      " [  1.       0.3333   1.       1.       1.    ]\n",
      " [  1.       1.25    13.       1.       0.    ]]\n",
      "apres------\n",
      "[[  1.       0.25     0.       0.       0.    ]\n",
      " [  1.       1.25    12.       0.       0.    ]\n",
      " [  1.       0.3333   1.       1.       1.    ]\n",
      " [  1.       1.25    13.       1.       0.    ]]\n",
      "avant------\n",
      "[[  1.       0.25     0.       0.       0.    ]\n",
      " [  0.       1.      12.       0.       0.    ]\n",
      " [  0.       0.0833   1.       1.       1.    ]\n",
      " [  0.       1.      13.       1.       0.    ]]\n",
      "apres------\n",
      "[[  1.       0.25     0.       0.       0.    ]\n",
      " [  0.       1.      12.       0.       0.    ]\n",
      " [  0.       0.0833   1.       1.       1.    ]\n",
      " [  0.       1.      13.       1.       0.    ]]\n",
      "avant------\n",
      "[[  1.   0.  -3.   0.   0.]\n",
      " [  0.   1.  12.   0.   0.]\n",
      " [  0.   0.   0.   1.   1.]\n",
      " [  0.   0.   1.   1.   0.]]\n",
      "apres------\n",
      "[[  1.   0.  -3.   0.   0.]\n",
      " [  0.   1.  12.   0.   0.]\n",
      " [  0.   0.   1.   1.   0.]\n",
      " [  0.   0.   0.   1.   1.]]\n",
      "avant------\n",
      "[[  1.   0.   0.   3.   0.]\n",
      " [  0.   1.   0. -12.   0.]\n",
      " [  0.   0.   1.   1.   0.]\n",
      " [  0.   0.   0.   1.   1.]]\n",
      "apres------\n",
      "[[  1.   0.   0.   3.   0.]\n",
      " [  0.   1.   0. -12.   0.]\n",
      " [  0.   0.   1.   1.   0.]\n",
      " [  0.   0.   0.   1.   1.]]\n",
      "[[ -3.]\n",
      " [ 12.]\n",
      " [ -1.]\n",
      " [  1.]]\n",
      "Residu ----------\n",
      "[[ 0.]\n",
      " [ 0.]\n",
      " [ 0.]\n",
      " [ 0.]]\n"
     ]
    }
   ],
   "source": [
    "import numpy as np\n",
    "import math\n",
    "\n",
    "def gauss_jordan(A, B):\n",
    "    n=A.shape[0]\n",
    "    assert A.shape[1]==n, 'number of columns not equal to %r' % n\n",
    "    assert B.shape[0]==n, 'number of rows not equal to %r' % n\n",
    "\n",
    "    A=np.hstack((A, B)) # concaténation\n",
    "    epsilon=1e-6\n",
    "    for k in range(n):\n",
    "        colk=np.abs(A[k:, k])  # extraction de la sous colonne\n",
    "        kmax=colk.argmax()+k   # offset k pour récupérer la vraie position\n",
    "        print('avant------')\n",
    "        print(A)\n",
    "        A[[k, kmax]]=A[[kmax, k]]\n",
    "        print('apres------')\n",
    "        print(A)        \n",
    "        akk=A[k, k]\n",
    "        if abs(akk)<epsilon:\n",
    "            raise ZeroDivisionError(\"pivot akk trop faible\")\n",
    "        A[k, :]=A[k, :]/akk\n",
    "#        print(A)\n",
    "        for i in range(n):\n",
    "            if i==k: continue\n",
    "            aik=A[i, k]\n",
    "            A[i, :]=A[i, :]-aik*A[k, :]\n",
    "#        print('-----------')    \n",
    "#        print(A)\n",
    "    R=A[:, n:]\n",
    "    return R\n",
    "        \n",
    "K=np.matrix([[2, 1, -4], [3, 3, -5], [4, 5, -2]], dtype=np.float)\n",
    "L=np.matrix([[8], [14], [16]], dtype=np.float)\n",
    "\n",
    "K=np.matrix([[1, 1/4,  0, 0], \n",
    "            [1, 5/4, 12, 0], \n",
    "            [1, 1/3,  1, 1], \n",
    "            [1, 5/4, 13, 1]], dtype=np.float)\n",
    "L=np.matrix([[0], [0], [1], [0]])\n",
    "\n",
    "try:\n",
    "    R=gauss_jordan(K, L)\n",
    "    print(R)\n",
    "except ZeroDivisionError as err:\n",
    "    print('run-time error:', err)\n",
    "    \n",
    "print('Residu ----------')\n",
    "print(L-(K * R))\n"
   ]
  },
  {
   "cell_type": "code",
   "execution_count": 5,
   "metadata": {
    "collapsed": false
   },
   "outputs": [
    {
     "name": "stdout",
     "output_type": "stream",
     "text": [
      "solution ----\n",
      "[[ -3.]\n",
      " [ 12.]\n",
      " [ -1.]\n",
      " [  1.]]\n",
      "[[ 32.0679]\n",
      " [ 22.7805]\n",
      " [ 32.9365]\n",
      " [ 31.0953]]\n",
      "solution ----\n",
      "[[ -3.]\n",
      " [ 12.]\n",
      " [ -1.]\n",
      " [  1.]]\n",
      "[[ 10.491 ]\n",
      " [-14.6788]\n",
      " [  4.8074]\n",
      " [ -1.2215]]\n",
      "2984.09270168\n",
      "2356.66448374\n"
     ]
    }
   ],
   "source": [
    "import numpy as np\n",
    "import math\n",
    "\n",
    "def gauss_jordan(A, B):\n",
    "    n=A.shape[0]\n",
    "    assert A.shape[1]==n, 'number of columns not equal to %r' % n\n",
    "    assert B.shape[0]==n, 'number of rows not equal to %r' % n\n",
    "\n",
    "    A=np.hstack((A, B)) # concaténation\n",
    "    epsilon=1e-6\n",
    "    for k in range(n):\n",
    "        colk=np.abs(A[k:, k])\n",
    "        kmax=colk.argmax()+k\n",
    "        A[[k, kmax]]=A[[kmax, k]]      \n",
    "        akk=A[k, k]\n",
    "        if abs(akk)<epsilon:\n",
    "            raise ZeroDivisionError(\"pivot akk trop faible\")\n",
    "        A[k, :]=A[k, :]/akk\n",
    "#        print(A)\n",
    "        for i in range(n):\n",
    "            if i==k: continue\n",
    "            aik=A[i, k]\n",
    "            A[i, :]=A[i, :]-aik*A[k, :]\n",
    "#        print('-----------')    \n",
    "#        print(A)\n",
    "    R=A[:, n:]\n",
    "    return R\n",
    "\n",
    "K=np.matrix([[10, 7,  8, 7], \n",
    "            [ 7, 5,  6, 5], \n",
    "            [ 8, 6,  10, 9], \n",
    "            [ 7, 5,  9, 10]], dtype=np.float)\n",
    "L0=np.matrix([[32], [23], [33], [31]])\n",
    "\n",
    "try:\n",
    "    x0=gauss_jordan(K, L0)\n",
    "    print('solution ----')\n",
    "    print(R)\n",
    "except ZeroDivisionError as err:\n",
    "    print('run-time error:', err)\n",
    "    \n",
    "#print('Residu ----------')\n",
    "err=0.02*np.random.rand(4, 1)-0.01\n",
    "L=np.multiply(L0, (1+err)) # element-wise multiplication\n",
    "print(L)\n",
    "\n",
    "try:\n",
    "    x=gauss_jordan(K, L)\n",
    "    print('solution ----')\n",
    "    print(R)\n",
    "except ZeroDivisionError as err:\n",
    "    print('run-time error:', err)\n",
    "    \n",
    "x=np.linalg.solve(K, L)\n",
    "print(x)\n",
    "lb, V=np.linalg.eig(K)\n",
    "cond = np.abs(lb).max()/np.abs(lb).min()\n",
    "print(cond)\n",
    "rx=np.linalg.norm(x-x0, ord=np.inf)/np.linalg.norm(x0, ord=np.inf)\n",
    "rb=np.linalg.norm(L-L0, ord=np.inf)/np.linalg.norm(L0, ord=np.inf)\n",
    "print(rx/rb)"
   ]
  },
  {
   "cell_type": "code",
   "execution_count": null,
   "metadata": {
    "collapsed": true
   },
   "outputs": [],
   "source": []
  }
 ],
 "metadata": {
  "anaconda-cloud": {},
  "kernelspec": {
   "display_name": "Python [conda root]",
   "language": "python",
   "name": "conda-root-py"
  },
  "language_info": {
   "codemirror_mode": {
    "name": "ipython",
    "version": 3
   },
   "file_extension": ".py",
   "mimetype": "text/x-python",
   "name": "python",
   "nbconvert_exporter": "python",
   "pygments_lexer": "ipython3",
   "version": "3.5.2"
  }
 },
 "nbformat": 4,
 "nbformat_minor": 0
}
