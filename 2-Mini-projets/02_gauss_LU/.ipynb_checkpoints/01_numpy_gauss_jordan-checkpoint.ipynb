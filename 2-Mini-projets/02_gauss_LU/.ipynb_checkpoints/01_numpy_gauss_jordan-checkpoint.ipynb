{
 "cells": [
  {
   "cell_type": "markdown",
   "metadata": {},
   "source": [
    "# Librairie Python Numpy\n",
    "\n",
    "NumPy est une extension du langage de programmation Python, pour\n",
    "manipuler des matrices ou des tableaux multidimensionnels.\n",
    "Elle possède des fonctions mathématiques vectorielles opérant sur les tableaux."
   ]
  },
  {
   "cell_type": "markdown",
   "metadata": {},
   "source": [
    "# Gauss Jordan sans changement de pivot"
   ]
  },
  {
   "cell_type": "code",
   "execution_count": 7,
   "metadata": {
    "collapsed": false
   },
   "outputs": [
    {
     "name": "stdout",
     "output_type": "stream",
     "text": [
      "<class 'numpy.matrixlib.defmatrix.matrix'>\n"
     ]
    },
    {
     "ename": "NameError",
     "evalue": "name 'R' is not defined",
     "output_type": "error",
     "traceback": [
      "\u001b[0;31m---------------------------------------------------------------------------\u001b[0m",
      "\u001b[0;31mNameError\u001b[0m                                 Traceback (most recent call last)",
      "\u001b[0;32m<ipython-input-7-29a54cfb67c8>\u001b[0m in \u001b[0;36m<module>\u001b[0;34m()\u001b[0m\n\u001b[1;32m     14\u001b[0m \u001b[0mL\u001b[0m\u001b[0;34m=\u001b[0m\u001b[0mnp\u001b[0m\u001b[0;34m.\u001b[0m\u001b[0mmatrix\u001b[0m\u001b[0;34m(\u001b[0m\u001b[0;34m[\u001b[0m\u001b[0;34m[\u001b[0m\u001b[0;36m8\u001b[0m\u001b[0;34m]\u001b[0m\u001b[0;34m,\u001b[0m \u001b[0;34m[\u001b[0m\u001b[0;36m14\u001b[0m\u001b[0;34m]\u001b[0m\u001b[0;34m,\u001b[0m \u001b[0;34m[\u001b[0m\u001b[0;36m16\u001b[0m\u001b[0;34m]\u001b[0m\u001b[0;34m]\u001b[0m\u001b[0;34m,\u001b[0m \u001b[0mdtype\u001b[0m\u001b[0;34m=\u001b[0m\u001b[0mnp\u001b[0m\u001b[0;34m.\u001b[0m\u001b[0mfloat\u001b[0m\u001b[0;34m)\u001b[0m\u001b[0;34m\u001b[0m\u001b[0m\n\u001b[1;32m     15\u001b[0m \u001b[0mprint\u001b[0m\u001b[0;34m(\u001b[0m\u001b[0mtype\u001b[0m\u001b[0;34m(\u001b[0m\u001b[0mL\u001b[0m\u001b[0;34m)\u001b[0m\u001b[0;34m)\u001b[0m\u001b[0;34m\u001b[0m\u001b[0m\n\u001b[0;32m---> 16\u001b[0;31m \u001b[0mR\u001b[0m\u001b[0;34m=\u001b[0m\u001b[0mgauss_jordan\u001b[0m\u001b[0;34m(\u001b[0m\u001b[0mK\u001b[0m\u001b[0;34m,\u001b[0m \u001b[0mL\u001b[0m\u001b[0;34m)\u001b[0m\u001b[0;34m\u001b[0m\u001b[0m\n\u001b[0m\u001b[1;32m     17\u001b[0m \u001b[0mprint\u001b[0m\u001b[0;34m(\u001b[0m\u001b[0mR\u001b[0m\u001b[0;34m)\u001b[0m\u001b[0;34m\u001b[0m\u001b[0m\n\u001b[1;32m     18\u001b[0m \u001b[0mprint\u001b[0m\u001b[0;34m(\u001b[0m\u001b[0;34m'Residu ----------'\u001b[0m\u001b[0;34m)\u001b[0m\u001b[0;34m\u001b[0m\u001b[0m\n",
      "\u001b[0;32m<ipython-input-7-29a54cfb67c8>\u001b[0m in \u001b[0;36mgauss_jordan\u001b[0;34m(A, B)\u001b[0m\n\u001b[1;32m      9\u001b[0m     \u001b[0;31m# A COMPLETER\u001b[0m\u001b[0;34m\u001b[0m\u001b[0;34m\u001b[0m\u001b[0m\n\u001b[1;32m     10\u001b[0m \u001b[0;34m\u001b[0m\u001b[0m\n\u001b[0;32m---> 11\u001b[0;31m     \u001b[0;32mreturn\u001b[0m \u001b[0mR\u001b[0m\u001b[0;34m\u001b[0m\u001b[0m\n\u001b[0m\u001b[1;32m     12\u001b[0m \u001b[0;34m\u001b[0m\u001b[0m\n\u001b[1;32m     13\u001b[0m \u001b[0mK\u001b[0m\u001b[0;34m=\u001b[0m\u001b[0mnp\u001b[0m\u001b[0;34m.\u001b[0m\u001b[0mmatrix\u001b[0m\u001b[0;34m(\u001b[0m\u001b[0;34m[\u001b[0m\u001b[0;34m[\u001b[0m\u001b[0;36m2\u001b[0m\u001b[0;34m,\u001b[0m \u001b[0;36m1\u001b[0m\u001b[0;34m,\u001b[0m \u001b[0;34m-\u001b[0m\u001b[0;36m4\u001b[0m\u001b[0;34m]\u001b[0m\u001b[0;34m,\u001b[0m \u001b[0;34m[\u001b[0m\u001b[0;36m3\u001b[0m\u001b[0;34m,\u001b[0m \u001b[0;36m3\u001b[0m\u001b[0;34m,\u001b[0m \u001b[0;34m-\u001b[0m\u001b[0;36m5\u001b[0m\u001b[0;34m]\u001b[0m\u001b[0;34m,\u001b[0m \u001b[0;34m[\u001b[0m\u001b[0;36m4\u001b[0m\u001b[0;34m,\u001b[0m \u001b[0;36m5\u001b[0m\u001b[0;34m,\u001b[0m \u001b[0;34m-\u001b[0m\u001b[0;36m2\u001b[0m\u001b[0;34m]\u001b[0m\u001b[0;34m]\u001b[0m\u001b[0;34m,\u001b[0m \u001b[0mdtype\u001b[0m\u001b[0;34m=\u001b[0m\u001b[0mnp\u001b[0m\u001b[0;34m.\u001b[0m\u001b[0mfloat\u001b[0m\u001b[0;34m)\u001b[0m\u001b[0;34m\u001b[0m\u001b[0m\n",
      "\u001b[0;31mNameError\u001b[0m: name 'R' is not defined"
     ]
    }
   ],
   "source": [
    "import numpy as np\n",
    "import math\n",
    "np.set_printoptions(precision=4, suppress=True)\n",
    "\n",
    "def gauss_jordan(A, B):\n",
    "    n=A.shape[0]\n",
    "    assert A.shape[1]==n, 'number of columns not equal to %r' % n\n",
    "    assert B.shape[0]==n, 'number of rows not equal to %r' % n\n",
    "    # A COMPLETER\n",
    "\n",
    "    return R\n",
    "        \n",
    "K=np.matrix([[2, 1, -4], [3, 3, -5], [4, 5, -2]], dtype=np.float)\n",
    "L=np.matrix([[8], [14], [16]], dtype=np.float)\n",
    "\n",
    "R=gauss_jordan(K, L)\n",
    "print(R)\n",
    "print('Residu ----------')\n",
    "print(L-(K * R))"
   ]
  },
  {
   "cell_type": "markdown",
   "metadata": {},
   "source": [
    "La fonction membre shape retourne les dimensions du tableau sous la forme d'un tuple.\n",
    "Calculer le résidu."
   ]
  },
  {
   "cell_type": "markdown",
   "metadata": {},
   "source": [
    "# 2. Stabilité numérique \n",
    "Le but est d'étudier l'effet d'un petit pivot sur la résolution d'un système d'équations linéaires"
   ]
  },
  {
   "cell_type": "code",
   "execution_count": null,
   "metadata": {
    "collapsed": false
   },
   "outputs": [],
   "source": [
    "K=np.matrix([[1, 1/4,  0, 0], \n",
    "            [1, 5/4, 12, 0], \n",
    "            [1, 1/3,  1, 1], \n",
    "            [1, 5/4, 13, 1]], dtype=np.float)\n",
    "L=np.matrix([[0], [0], [1], [0]])\n",
    "\n",
    "R=gauss_jordan(K, L)\n",
    "print(R)\n",
    "print('Residu ----------')\n",
    "print(L-(K * R))"
   ]
  },
  {
   "cell_type": "markdown",
   "metadata": {},
   "source": [
    "# Traitement des exceptions\n",
    "On désire provoquer une exception quand le pivot est en module plus petit d'une valeur $\\epsilon = 10^{-6}$ "
   ]
  },
  {
   "cell_type": "code",
   "execution_count": null,
   "metadata": {
    "collapsed": false
   },
   "outputs": [],
   "source": [
    "import numpy as np\n",
    "import math\n",
    "\n",
    "def gauss_jordan(A, B):\n",
    "    n=A.shape[0]\n",
    "    assert A.shape[1]==n, 'number of columns not equal to %r' % n\n",
    "    assert B.shape[0]==n, 'number of rows not equal to %r' % n\n",
    "\n",
    "    # A COMPLETER\n",
    "    \n",
    "    return R\n",
    "        \n",
    "K=np.matrix([[2, 1, -4], [3, 3, -5], [4, 5, -2]], dtype=np.float)\n",
    "L=np.matrix([[8], [14], [16]], dtype=np.float)\n",
    "gauss_jordan(K, L)\n",
    "\n",
    "try:\n",
    "    gauss_jordan(K, L)\n",
    "except ZeroDivisionError as err:\n",
    "    print('run-time error:', err)\n",
    "    \n",
    "K=np.matrix([[2, 1], [3, 3]], dtype=np.float)\n",
    "L=np.matrix([[8], [14], [16]], dtype=np.float)\n",
    "try:\n",
    "    R=gauss_jordan(K, L)\n",
    "    print(R)\n",
    "except ZeroDivisionError as err:\n",
    "    print('run-time error:', err)\n",
    "except AssertionError as err:\n",
    "    print('run-time error:', err)\n",
    "       "
   ]
  },
  {
   "cell_type": "markdown",
   "metadata": {},
   "source": [
    "La fonction membre shape retourne les dimensions du tableau sous la forme d'un tuple"
   ]
  },
  {
   "cell_type": "markdown",
   "metadata": {
    "collapsed": false
   },
   "source": [
    "# Gauss-Jordan avec pivot"
   ]
  },
  {
   "cell_type": "markdown",
   "metadata": {},
   "source": [
    "Application des opérateurs de calcul arithmétique"
   ]
  },
  {
   "cell_type": "code",
   "execution_count": null,
   "metadata": {
    "collapsed": false
   },
   "outputs": [],
   "source": [
    "import numpy as np\n",
    "import math\n",
    "\n",
    "def gauss_jordan(A, B):\n",
    "    n=A.shape[0]\n",
    "    assert(A.shape[1]==n)\n",
    "    assert(B.shape[0]==n)\n",
    "\n",
    "    # A COMPLETER\n",
    "    \n",
    "    return R\n",
    "        \n",
    "K=np.matrix([[2, 1, -4], [3, 3, -5], [4, 5, -2]], dtype=np.float)\n",
    "L=np.matrix([[8], [14], [16]], dtype=np.float)\n",
    "\n",
    "K=np.matrix([[1, 1/4,  0, 0], \n",
    "            [1, 5/4, 12, 0], \n",
    "            [1, 1/3,  1, 1], \n",
    "            [1, 5/4, 13, 1]], dtype=np.float)\n",
    "L=np.matrix([[0], [0], [1], [0]])\n",
    "\n",
    "try:\n",
    "    R=gauss_jordan(K, L)\n",
    "    print(R)\n",
    "except ZeroDivisionError as err:\n",
    "    print('run-time error:', err)\n",
    "    \n",
    "print('Residu ----------')\n",
    "print(L-(K @ R))\n"
   ]
  },
  {
   "cell_type": "markdown",
   "metadata": {},
   "source": [
    "# Cas d'une matrice mal conditionnée\n",
    "On applique la méthode de Gauss-Jordan pour résoudre un système mal conditionné.\n",
    "Après implémentation, tester en moodifiant légèrement le second membre. Calculer à chaque fois\n",
    "le résidu et afficher la solution."
   ]
  },
  {
   "cell_type": "code",
   "execution_count": null,
   "metadata": {
    "collapsed": false
   },
   "outputs": [],
   "source": [
    "import numpy as np\n",
    "import math\n",
    "\n",
    "def gauss_jordan(A, B):\n",
    "    n=A.shape[0]\n",
    "    assert(A.shape[1]==n)\n",
    "    assert(B.shape[0]==n)\n",
    "\n",
    "    # A COMPLETER\n",
    "    \n",
    "    return R\n",
    "\n",
    "K=np.matrix([[10, 7,  8, 7], \n",
    "            [ 7, 5,  6, 5], \n",
    "            [ 8, 6,  10, 9], \n",
    "            [ 7, 5,  9, 10]], dtype=np.float)\n",
    "L0=np.matrix([[32], [23], [33], [31]])\n",
    "\n",
    "try:\n",
    "    x0=gauss_jordan(K, L0)\n",
    "    print('solution ----')\n",
    "    print(R)\n",
    "except ZeroDivisionError as err:\n",
    "    print('run-time error:', err)\n",
    "    \n",
    "#print('Residu ----------')\n",
    "#print(L-(K @ R))\n",
    "err=0.02*np.random.rand(4, 1)-0.01\n",
    "L=L0*(1+err)\n",
    "print(L)\n",
    "\n",
    "try:\n",
    "    x=gauss_jordan(K, L)\n",
    "    print('solution ----')\n",
    "    print(R)\n",
    "except ZeroDivisionError as err:\n",
    "    print('run-time error:', err)\n",
    "    "
   ]
  }
 ],
 "metadata": {
  "anaconda-cloud": {},
  "kernelspec": {
   "display_name": "Python [conda root]",
   "language": "python",
   "name": "conda-root-py"
  },
  "language_info": {
   "codemirror_mode": {
    "name": "ipython",
    "version": 3
   },
   "file_extension": ".py",
   "mimetype": "text/x-python",
   "name": "python",
   "nbconvert_exporter": "python",
   "pygments_lexer": "ipython3",
   "version": "3.5.2"
  }
 },
 "nbformat": 4,
 "nbformat_minor": 0
}
