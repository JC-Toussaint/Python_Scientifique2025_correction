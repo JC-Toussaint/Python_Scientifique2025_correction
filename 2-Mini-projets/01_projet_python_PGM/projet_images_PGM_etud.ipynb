{
 "cells": [
  {
   "attachments": {},
   "cell_type": "markdown",
   "id": "c58e6775",
   "metadata": {},
   "source": [
    "# Traitement d'images au format PGM\n",
    "\n",
    "Le but de ce projet est de développer une application qui permet de lire, écrire et manipuler des images au format PGM.\n",
    "\n",
    "## Introduction\n",
    "\n",
    "Une image peut être stockée sous la forme d'un tableau de points élémentaires appelés pixels (abréviation de picture elements). On s'intéressera dans un premier temps à la manipulation d'images\n",
    " en niveaux de gris (ou grayscale en anglais), c’est-à-dire, des images dont les ''couleurs'' sont uniquement des nuances de gris. On peut représenter une telle image par une matrice d’entiers, dont la valeur des éléments représente l’intensité lumineuse des pixels de l’image. Par conséquent, un traitement d’image peut être réalisé en manipulant \n",
    " la matrice qui la représente.\n",
    "\n",
    "## Fichier PGM\n",
    "\n",
    "Un fichier PGM (Portable Gray Map) est composé de deux parties : \n",
    "\n",
    "* Un entête indiquant les paramètres de l'image\n",
    "* Une matrice dont chaque élément représente le niveau de gris d’un pixel de l’image.\n",
    "\n",
    " L’entête contient 3 lignes. La première ligne est toujours la même, il s’agit de l’identifiant du fichier PGM : P2 pour une image codée en ASCII et P5 pour une image codée en binaire. La seconde ligne contient 2 entiers séparés par un espace: le nombre de colonnes et le nombre de lignes de pixels de l’image.\n",
    "\n",
    "![Codage PGM](latex/exemple_PGM_P2.png)\n",
    "\n",
    " Enfin, la troisième ligne contient la valeur maximale que peut prendre un pixel (par exemple : 255 pour un codage des niveaux de gris entre 0 et 255). \n",
    " Les lignes qui suivent donnent l’intensité de chaque pixel. Ceux-ci sont énumérés ligne par ligne et colonne par colonne. Ainsi la première valeur est l’intensité du pixel du coin supérieur gauche, la seconde est l’intensité du pixel de la première ligne, deuxième colonne, etc.\n",
    "\n",
    "Par exemple, un fichier PGM contenant les informations ci-dessous est l’encodage d’une image représentant une barre oblique blanche sur fond noir (voir Fig. 1 du sujet en pdf). \n",
    "\n",
    "# Organisation du programme\n",
    "\n",
    "Pour travailler sur une image (modifier la valeur des pixels pour changer le contraste de l'image par exemple), il est nécessaire de dissocier deux entités :\n",
    "\n",
    "* Le fichier contenant l'image, qui est stocké sur disque dur.\n",
    "* La représentation en mémoire de l'image, qui est stockée dans la mémoire vive allouée au programme. C'est sur cette représentation mémoire que l'on effectuera toutes les manipulations de l'image. Une fois l'image modifée à notre convenance, il sera possible de la stocker dans un fichier via une fonction dédiée.\n",
    "\n",
    "Dans ce projet, vous stockerez l'image en mémoire sous la forme d'un tableau numpy \n",
    "de taille NROWS $\\times$ NCOLS où NROWS est le nombre de pixels en largeur et NCOLS celui\n",
    "en hauteur. Ce tableau comprendra l'ensemble des pixels de l'image. \n",
    "Par ailleurs, pour minimiser la place mémoire, le tableau sera constitué d'élément du type uint8, qui occupent un octet de mémoire seulement. \n",
    "Seules des images contenant au maximum 256 niveaux de gris pourront donc être traitées par notre programme. Le code suivant donne un exemple de création et d'utilisation du tableau contenant les valeurs des pixels de l'image.\n",
    "\n",
    "On rappelle que\n",
    "  \n",
    "*  A=np.zeros(shape=(NROWS, NCOLS), dtype='uint8')\n",
    "crée un tableau de zéros,\n",
    "*  U=R.astype(np.uint8) force la conversion de type\n",
    "d'un tableau de réels $R$ en un d'entiers non signés uint8. \n",
    "\n",
    "Votre programme devra lire et écrire des images au format PGM au format ASCII (texte).\n",
    "Dans le fichier ASCII de l'image, les données de l'intensité lumineuse des pixels sont \n",
    "écrites sous forme d'un entier, \n",
    "chaque entier étant séparé par un espace  vide au moins, et chaque ligne de l'image étant séparée par un retour à la ligne.\n",
    "\n",
    "# Travail à réaliser\n",
    "On vous demande d'écrire l'ensemble de fonctions suivantes permettant de générer, lire, écrire et manipuler les images au format PGM.\n",
    "\n",
    "## Version scalaire\n",
    "\n",
    "* On utilisera l'entête de programme suivant où deux variables globales MAXLVL et MAXTAIL seront utilisées dans tout le projet."
   ]
  },
  {
   "cell_type": "code",
   "execution_count": null,
   "id": "cb678319",
   "metadata": {},
   "outputs": [],
   "source": [
    "import math\n",
    "import matplotlib.pyplot as plt\n",
    "import matplotlib.cm as cm\n",
    "import numpy as np\n",
    "from PIL import Image\n",
    "from time import process_time\n",
    "\n",
    "MAXLVL =255\n",
    "MAXTAIL=256"
   ]
  },
  {
   "cell_type": "markdown",
   "id": "97d99ccc",
   "metadata": {},
   "source": [
    "# Question 1 : \n",
    "créer une fonction fun(x, y) qui à partir d'un couple de réels (x, y) \n",
    "retourne l'évaluation de $\\frac{1}{2} (\\sin(x)\\; \\sin(y)+1)$.\n",
    "La valeur retournée est dans $[0, 1]$."
   ]
  },
  {
   "cell_type": "code",
   "execution_count": null,
   "id": "69311ffc",
   "metadata": {},
   "outputs": [],
   "source": [
    "def fun(x, y):\n",
    "# A COMPLETER"
   ]
  },
  {
   "cell_type": "markdown",
   "id": "b0cb2d9d",
   "metadata": {},
   "source": [
    "# Question 2 : \n",
    " créer une fonction centering(i, L) qui à partir de deux entiers $i$ et $L$\n",
    "retourne $2 i/L-1$. La fonction vérifiera que $i \\in [0, L[$. \n",
    "\n",
    "On pourra mettre en oeuvre l'instruction suivante : \n",
    "assert condition, \"out of range\" en adaptant la condition à votre usage.\n",
    "On notera que Assert renvoie une erreur de type __AssertionError__ si la condition n'est pas vérifiée"
   ]
  },
  {
   "cell_type": "code",
   "execution_count": null,
   "id": "d622b9cf",
   "metadata": {},
   "outputs": [],
   "source": [
    "def centering(i, L):\n",
    "# A COMPLETER    "
   ]
  },
  {
   "cell_type": "markdown",
   "id": "6aed7a2f",
   "metadata": {},
   "source": [
    "# Question 3 :  \n",
    "créer une fonction createImg(fun, NROWS=MAXTAIL, NCOLS=MAXTAIL, NLEVELS = MAXLVL)\n",
    "qui retourne un tableau img de type numpy de taille NROWS $\\times$ NCOLS contenant les valeurs\n",
    "des pixels comprises entre 0 et 255. \n",
    "\n",
    "Pour tout couple d'indice $(i, j) \\in $ [0, NROWS[ $\\times$ [0, NCOLS[, définir\n",
    "x=$\\pi$ centering(i, NROWS) et y=$\\pi$  centering(j, NCOLS)\n",
    "et stocker dans l'élément $(i, j)$ la valeur de NLEVELS $\\times$ fun(x, y)\n",
    "dont on ne gardera que la partie entière. \n",
    "\n",
    "Pour ce faire utiliser la fonction $floor$\n",
    "du module math.\n",
    "\n"
   ]
  },
  {
   "cell_type": "code",
   "execution_count": null,
   "id": "20ada5ae",
   "metadata": {},
   "outputs": [],
   "source": [
    "def createImg(fun, NROWS = MAXTAIL, NCOLS = MAXTAIL, NLEVELS = MAXLVL):   \n",
    "# A COMPLETER"
   ]
  },
  {
   "cell_type": "markdown",
   "id": "667a8106",
   "metadata": {},
   "source": [
    "# Question 4 : \n",
    "créer une fonction writeImg(img, filename) qui sauvegarde\n",
    "dans le fichier filename l'image img au format PGM ASCII.\n",
    "\n"
   ]
  },
  {
   "cell_type": "code",
   "execution_count": null,
   "id": "90927239",
   "metadata": {},
   "outputs": [],
   "source": [
    "def writeImg(img, filename):\n",
    "# A COMPLETER"
   ]
  },
  {
   "cell_type": "markdown",
   "id": "85f611fe",
   "metadata": {},
   "source": [
    "# Question 5 : \n",
    "  Proposer un petit programme test sur une petite image. Vérifier\n",
    "avec un éditeur de texte que le fichier a la bonne structure.\n",
    "Tester-le en prenant des valeurs de NROWS et NCOLS différentes!\n",
    "\n",
    "On pourra utiliser un petit programme comme OpenSeeIt sous windows ou eog\n",
    "sous linux pour visualiser l'image stockée.\n",
    "\n"
   ]
  },
  {
   "cell_type": "code",
   "execution_count": null,
   "id": "49866a07",
   "metadata": {},
   "outputs": [],
   "source": [
    "# PETIT PGM A DEVELOPPER\n"
   ]
  },
  {
   "cell_type": "markdown",
   "id": "a7b9806b",
   "metadata": {},
   "source": [
    "# Question 6 :  \n",
    "un de vos collègues vous a fourni une fonction readImg(filename)\n",
    "qui lit  le fichier PGM filename et qui retourne un tuple, en omettant de le documenter ! \n",
    "\n",
    "Quelle est la structure du tuple retourné? Où se trouve le tableau\n",
    "contenant l'image, quelles sont ses dimensions?\n",
    "A quoi correspond le triplet (data[1],data[0]),data[2]) ?"
   ]
  },
  {
   "cell_type": "code",
   "execution_count": null,
   "id": "789a2673",
   "metadata": {},
   "outputs": [],
   "source": [
    "# CODE FOURNI AUX APPRENANTS\n",
    "def readImg(filename):\n",
    "    with open(filename) as f:\n",
    "        lines = f.readlines()\n",
    "\n",
    "    # Ignores commented lines\n",
    "    for l in list(lines):\n",
    "        if l[0] == '#':\n",
    "            lines.remove(l)\n",
    "\n",
    "    # Makes sure it is ASCII format (P2)\n",
    "    # leading and trailing whitespace removed\n",
    "    assert lines[0].strip() == 'P2' \n",
    "\n",
    "    # Converts data to a list of integers\n",
    "    data = []\n",
    "    for line in lines[1:]:\n",
    "        data.extend([int(c) for c in line.split()])\n",
    "\n",
    "    return (np.array(data[3:]),(data[1],data[0]),data[2])"
   ]
  },
  {
   "cell_type": "markdown",
   "id": "f92813a9",
   "metadata": {},
   "source": [
    "# Votre réponse :"
   ]
  },
  {
   "cell_type": "markdown",
   "id": "de25d0d1",
   "metadata": {},
   "source": [
    "# Question 7 : \n",
    " Compléter le programme test en lisant une image PGM stocker dans un fichier\n",
    "en utilisant  la fonction précédente tup = readImg(filename) puis\n",
    "en insérant la portion de code suivante :"
   ]
  },
  {
   "cell_type": "code",
   "execution_count": null,
   "id": "1c26985d",
   "metadata": {},
   "outputs": [],
   "source": [
    "# A COMPLETER\n",
    "\n",
    "plt.imshow(np.reshape(tup[0],tup[1]), cmap=cm.jet) \n",
    "plt.colorbar()\n",
    "plt.show()\n"
   ]
  },
  {
   "cell_type": "markdown",
   "id": "43bd43ca",
   "metadata": {},
   "source": [
    "# Question 8 : \n",
    " En vous référant à la documentation de la fonction plt.imshow,\n",
    "expliquer que fait la fonction numpy np.reshape(tup[0],tup[1])?"
   ]
  },
  {
   "cell_type": "markdown",
   "id": "abd2290e",
   "metadata": {},
   "source": [
    "# Votre réponse :"
   ]
  },
  {
   "cell_type": "markdown",
   "id": "1d913c23",
   "metadata": {},
   "source": [
    "# Question 9 :\n",
    " On désire mesurer le temps CPU nécessaire pour générer une image\n",
    "de taille 512 $\\times$ 512. Utiliser la portion de code ci-après.\n",
    "Noter le temps écoulé."
   ]
  },
  {
   "cell_type": "code",
   "execution_count": null,
   "id": "169aecd6",
   "metadata": {},
   "outputs": [],
   "source": [
    "# CODE FOURNI AUX APPRENANTS\n",
    "from time import process_time\n",
    "\n",
    "# Start the stopwatch / counter \n",
    "t1_start = process_time() \n",
    "\n",
    "NROWS, NCOLS = 512, 512   \n",
    "Z=createImg(fun, NROWS, NCOLS)\n",
    "  \n",
    "# Stop the stopwatch / counter\n",
    "t1_stop = process_time()\n",
    "print(\"Elapsed time (s):\", t1_stop-t1_start) "
   ]
  },
  {
   "cell_type": "markdown",
   "id": "196ecab8",
   "metadata": {},
   "source": [
    "# Version vectorielle\n",
    "\n",
    "On complète notre programme test avec des versions vectorisées des\n",
    "fonctions fun et createImg.\n",
    "\n",
    "# Question 10\n",
    " Créer une fonction createImgVec(funvec, NROWS = MAXTAIL, NCOLS = MAXTAIL, NLEVELS = MAXDEG)\n",
    "qui utilisera la fonction numpy np.meshgrid(x, y) où\n",
    "x est un tableau numpy de NROWS valeurs équi-espacées entre $[-\\pi,\\pi]$\n",
    "et y de NCOLS valeurs équi-espacées entre $[-\\pi,\\pi]$.\n",
    "La fonction funvec mettra en oeuvre les versions vectorielles numpy de\n",
    "la fonction sinus. \n",
    "\n",
    "La documentation de np.floor nous informe que la valeur retournée est un réel.\n",
    "L'image étant codée avec des entiers non signés 8 bits,\n",
    "il faut donc convertir le type en utilisant la méthode astype, vue dans la\n",
    "section 3."
   ]
  },
  {
   "cell_type": "code",
   "execution_count": null,
   "id": "361e93a3",
   "metadata": {},
   "outputs": [],
   "source": [
    "def centering(i, L):\n",
    "    assert 0<= i.all() < L, \"out of range\"\n",
    "    return (2.0*i-L)/L\n",
    "    \n",
    "def createImgVec(fun, NROWS, NCOLS, NLEVELS=255):    \n",
    "# A COMPLETER"
   ]
  },
  {
   "cell_type": "markdown",
   "id": "fbc1e0e8",
   "metadata": {},
   "source": [
    "# Question 11:\n",
    " mesurer de nouveau le temps écoulé pour créer une image de taille 512 $\\times$ 512\n",
    "avec la fonction createImgVec. Que remarquez-vous?"
   ]
  },
  {
   "cell_type": "code",
   "execution_count": null,
   "id": "00e1ac1a",
   "metadata": {},
   "outputs": [],
   "source": [
    "# CODE FOURNI AUX APPRENANTS\n",
    "from time import process_time\n",
    "\n",
    "# Start the stopwatch / counter \n",
    "t1_start = process_time() \n",
    "\n",
    "# A COMPLETER\n",
    "  \n",
    "# Stop the stopwatch / counter\n",
    "t1_stop = process_time()\n",
    "print(\"Elapsed time (s):\", t1_stop-t1_start) "
   ]
  },
  {
   "cell_type": "markdown",
   "id": "e194c6de",
   "metadata": {},
   "source": [
    "# Question 12:\n",
    " développer une fonction de seuillage threshold(img, seuil) où seuil\n",
    "est un entier compris entre 0 et NLEVELS. Cette fonction remplace toute valeur\n",
    "supérieure au seuil par cette valeur de seuil. \n",
    "Montrer qu'il est possible d'écrire le corps de cette fonction en une ligne.\n",
    "\n",
    "__Indication : faire une recherche sur internet en tapant numpy array with condition.__"
   ]
  },
  {
   "cell_type": "code",
   "execution_count": null,
   "id": "e806a517",
   "metadata": {},
   "outputs": [],
   "source": [
    "def threshold(A, thres):\n",
    "# A COMPLETER"
   ]
  },
  {
   "cell_type": "markdown",
   "id": "0c72e94d",
   "metadata": {},
   "source": [
    "# Question 13:\n",
    " proposer un petit programme test montrant le résultat d'un seuillage avec une valeur de seuil de 127. Que remarquez-vous?"
   ]
  },
  {
   "cell_type": "code",
   "execution_count": null,
   "id": "480e4e28",
   "metadata": {},
   "outputs": [],
   "source": [
    "# A COMPLETER"
   ]
  },
  {
   "cell_type": "markdown",
   "id": "e92d1d28-5372-4c9a-b2fb-e99a59e2dd6c",
   "metadata": {},
   "source": [
    "# Question 14:\n",
    "\n",
    "créer une fonction __createMaskVec__ qui est un tableau numpy de même taille que img\n",
    "  valant true pour $x^2 + y^2 > \\pi^2$ après recentrage\n",
    "\n",
    "développer une fonction de masque __applyMaskVec__(img, masque)\n",
    "  qui met à zéro tous les pixels localisés du masque. \n"
   ]
  },
  {
   "cell_type": "code",
   "execution_count": null,
   "id": "f5d86679-755c-46ca-ad78-a860688d3c58",
   "metadata": {},
   "outputs": [],
   "source": [
    "# A COMPLETER"
   ]
  },
  {
   "cell_type": "markdown",
   "id": "d50e3d8a-286f-467e-984d-d012e606b371",
   "metadata": {},
   "source": [
    "# BONUS : stockage des images en format binaire ’P5’\n",
    "\n",
    "On désire modifier la fonction writeImg(img, filename) pour stocker l’image en niveau\n",
    "de gris dans un fichier au format binaire ’P5’.\n",
    "\n",
    "L'ouverture d'un fichier binaire en écriture se fait avec la fonction python open(filename, ’wb’)\n",
    "et en lecture par open(filename, ’rb’).\n",
    "\n",
    "Noter que la conversion d'un tableau d'entiers z en octets peut être réalisée avec la fonction membre z.tobytes().\n",
    "\n",
    "On vous donne les routines d'écriture et de lecture suivantes.\n",
    "\n",
    "## Exercice :\n",
    "Vérifier leur bon fonctionnemment."
   ]
  },
  {
   "cell_type": "code",
   "execution_count": null,
   "id": "ce200270-e8f8-4c21-981c-aea45fc8f895",
   "metadata": {},
   "outputs": [],
   "source": [
    "# Version efficace avec numpy\n",
    "import numpy as np\n",
    "\n",
    "def writeImg(img, filename):    \n",
    "    \"\"\"\n",
    "    Ecrit une image contenue dans un tableau numpy dans un fichier PGM format P5 (binaire)\n",
    "    \"\"\"\n",
    "    nrows, ncols = img.shape\n",
    "    nlevs = img.max()\n",
    "    assert nlevs < 256, f\"Le nombre de niveaux de gris ({nlevs}) dépasse 255\"\n",
    "    \n",
    "    with open(filename, 'wb') as f:\n",
    "        # Écriture de l'en-tête en ASCII\n",
    "        # f.write(...) en mode binaire ('wb') attend des octets (bytes), pas une chaîne\n",
    "        f.write(b'P5\\n')\n",
    "        f.write(f'{ncols} {nrows}\\n'.encode('ascii'))\n",
    "        f.write(f'{nlevs}\\n'.encode('ascii'))\n",
    "        \n",
    "        # Conversion en uint8 et écriture directe\n",
    "        img_bytes = img.astype(np.uint8).tobytes()\n",
    "        f.write(img_bytes)\n"
   ]
  },
  {
   "cell_type": "markdown",
   "id": "19fa9053-86b2-47c5-972e-a28d29cdbec7",
   "metadata": {},
   "source": [
    "## Lecture d'un fichier au format binaire 'P5'"
   ]
  },
  {
   "cell_type": "code",
   "execution_count": null,
   "id": "49f5fe6b-b869-476b-b72c-5497a3f71a03",
   "metadata": {},
   "outputs": [],
   "source": [
    "import struct\n",
    "import numpy as np\n",
    "\n",
    "import math\n",
    "import matplotlib.pyplot as plt\n",
    "import matplotlib.cm as cm\n",
    "import numpy as np\n",
    "from PIL import Image\n",
    "from time import process_time\n",
    "\n",
    "def readImg(filename):\n",
    "    \"\"\"\n",
    "    Lit un fichier PGM format P5 (binaire)\n",
    "    Retourne l'image sous forme de tableau numpy\n",
    "    \"\"\"\n",
    "    with open(filename, 'rb') as f:\n",
    "        # Lecture de l'en-tête\n",
    "        # La méthode .strip() en Python supprime les espaces et caractères invisibles au début et à la fin d'une chaîne de caractères.\n",
    "        magic = f.readline().decode('ascii').strip()\n",
    "        if magic != 'P5':\n",
    "            raise ValueError(f\"Format non supporté: {magic}. Attendu: P5\")\n",
    "        \n",
    "        # Lecture des dimensions (en gérant les commentaires)\n",
    "        line = f.readline().decode('ascii').strip()\n",
    "        while line.startswith('#'):\n",
    "            line = f.readline().decode('ascii').strip()\n",
    "\n",
    "        # Ecriture compacte de\n",
    "        # tokens = line.split(); ncols, nrows = int(tokens[0]), int(tokens[1])\n",
    "        ncols, nrows = map(int, line.split())\n",
    "        \n",
    "        # Lecture de la valeur maximale\n",
    "        line = f.readline().decode('ascii').strip()\n",
    "        while line.startswith('#'):\n",
    "            line = f.readline().decode('ascii').strip()\n",
    "        \n",
    "        max_val = int(line)\n",
    "        \n",
    "        # Lecture de nrows x ncols octets\n",
    "        data = f.read(nrows * ncols)\n",
    "\n",
    "        # np.frombuffer(...) crée un tableau NumPy sans copier les données, directement depuis le buffer mémoire (data)\n",
    "        img = np.frombuffer(data, dtype=np.uint8)\n",
    "        # Reshape en matrice 2D\n",
    "        img = img.reshape(nrows, ncols)\n",
    "        \n",
    "    return img\n",
    "    "
   ]
  }
 ],
 "metadata": {
  "kernelspec": {
   "display_name": "Python 3 (ipykernel)",
   "language": "python",
   "name": "python3"
  },
  "language_info": {
   "codemirror_mode": {
    "name": "ipython",
    "version": 3
   },
   "file_extension": ".py",
   "mimetype": "text/x-python",
   "name": "python",
   "nbconvert_exporter": "python",
   "pygments_lexer": "ipython3",
   "version": "3.12.7"
  }
 },
 "nbformat": 4,
 "nbformat_minor": 5
}
