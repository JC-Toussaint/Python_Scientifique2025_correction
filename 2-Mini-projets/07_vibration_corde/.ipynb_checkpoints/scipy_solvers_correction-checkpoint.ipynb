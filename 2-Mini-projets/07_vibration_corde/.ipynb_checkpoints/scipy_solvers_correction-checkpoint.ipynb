{
 "cells": [
  {
   "cell_type": "markdown",
   "metadata": {},
   "source": [
    "# La bibliothèque scipy\n",
    "\n",
    "Le module scipy comporte les sous-modules importants suivants\n",
    "* scipy.constants : constantes physiques et mathématiques\n",
    "* scipy.fft : transformée de Fourier discrète\n",
    "* scipy.integrate : intégration et équations différentielles\n",
    "* scipy.interpolate : interpolation\n",
    "* __scipy.linalg__ : algèbre linéaire\n",
    "* scipy.optimize : optimisation et recherche de racines\n",
    "* scipy.signal : traitement du signal\n",
    "* __scipy.sparse__ : matrices creuses\n",
    "* scipy.stats : fonctions statistiques\n",
    "\n",
    "## Matrices creuses\n",
    "\n",
    "Ce sont des matrices comportant beaucoup de zéros. Plusieurs formats existent pour stocker uniquement que\n",
    "les termes non nuls.\n",
    "\n",
    "* csc\\_matrix : Compressed Sparse Column\n",
    "* csr\\_matrix : Compressed Sparse Row\n",
    "* bsr\\_matrix : Block Sparse Row\n",
    "* lil\\_matrix : List of Lists\n",
    "* dok\\_matrix : Dictionary of Keys\n",
    "* coo\\_matrix : COOrdinate\n",
    "\n",
    "L'exemple suivant construit une matrice creuse $3 \\times 3$ sous forme __CSC__ avec les éléments non nuls suivants :"
   ]
  },
  {
   "cell_type": "code",
   "execution_count": 4,
   "metadata": {},
   "outputs": [
    {
     "name": "stdout",
     "output_type": "stream",
     "text": [
      "  (0, 0)\t1\n",
      "  (2, 0)\t2\n",
      "  (2, 1)\t3\n",
      "  (0, 2)\t4\n",
      "  (1, 2)\t5\n",
      "  (2, 2)\t6\n",
      "--------------------\n",
      "[[1 0 4]\n",
      " [0 0 5]\n",
      " [2 3 6]]\n"
     ]
    }
   ],
   "source": [
    "import numpy as np\n",
    "import scipy.sparse as sp\n",
    "\n",
    "row  = np.array([0, 2, 2, 0, 1, 2])\n",
    "col  = np.array([0, 0, 1, 2, 2, 2])\n",
    "data = np.array([1, 2, 3, 4, 5, 6])\n",
    "\n",
    "M = sp.csc_matrix((data, (row, col)), shape=(3, 3))\n",
    "print(M)\n",
    "print('-'*20)\n",
    "print(M.todense())"
   ]
  },
  {
   "cell_type": "markdown",
   "metadata": {},
   "source": [
    "Chaque colonne est stockée séquentiellement avec les valeurs et indices de ligne correspondants.\n",
    "\n",
    "### Avantages :\n",
    "* Opérations arithmétiques efficaces : __csc__ + __csc__, __csc__ * __csc__\n",
    "* Slicing efficace selon les colonnes\n",
    "* Produit matrice-vecteur rapide\n",
    "\n",
    "### Inconvénients :\n",
    "* Accès aux lignes moins efficace qu'en __csr__\n",
    "* Conversion coûteuse vers d'autres formats\n",
    "\n",
    "L'exemple suivant transforme une matrice creuse __csc__ en __csr__"
   ]
  },
  {
   "cell_type": "code",
   "execution_count": 5,
   "metadata": {},
   "outputs": [
    {
     "name": "stdout",
     "output_type": "stream",
     "text": [
      "<class 'scipy.sparse._csc.csc_matrix'>\n",
      "<class 'scipy.sparse._csr.csr_matrix'>\n",
      "csr\n",
      "  (0, 0)\t1\n",
      "  (0, 2)\t4\n",
      "  (1, 2)\t5\n",
      "  (2, 0)\t2\n",
      "  (2, 1)\t3\n",
      "  (2, 2)\t6\n",
      "[[1 0 4]\n",
      " [0 0 5]\n",
      " [2 3 6]]\n"
     ]
    }
   ],
   "source": [
    "M = sp.csc_matrix((data, (row, col)), shape=(3, 3))\n",
    "print(type(M))\n",
    "M = sp.csr_matrix(M) # appel du constructeur\n",
    "print(type(M))\n",
    "print(M.getformat()) \n",
    "print(M)\n",
    "print(M.todense())"
   ]
  },
  {
   "cell_type": "markdown",
   "metadata": {},
   "source": [
    "# Résolution d'une équation laplacienne\n",
    "On modélise la déformation d'une membrane souple par une équation laplacienne du type :\n",
    "$$ \\frac{\\partial^2 u}{\\partial x^2} + q(x) =0 $$\n",
    "où $u$ est le déplacement selon Oz et $q(x)$ la distribution de charges.\n",
    "\n",
    "On suppose que la membrane est fixée en $x=0$ et $x=L$. Autrement dit, $u(x=0)=0$ et $u(x=L)$.\n",
    "Pour ce faire, on montre que l'opérateur laplacien en différences finies peut être généré par :"
   ]
  },
  {
   "cell_type": "code",
   "execution_count": 2,
   "metadata": {},
   "outputs": [],
   "source": [
    "import numpy as np\n",
    "from scipy.sparse import diags\n",
    "\n",
    "def laplacien_1D_dirichlet(N, h):\n",
    "    \"\"\"\n",
    "    Génère la matrice du Laplacien 1D discrétisé avec conditions de Dirichlet homogènes.\n",
    "    \n",
    "    Paramètres : \n",
    "    - N : nombre de points internes (sans les bords)\n",
    "    - h : pas d'espace (distance entre les points)\n",
    "      o--|--|--|--|--|--|--|--|--o\n",
    "    Retourne :\n",
    "    - L : matrice creuse (sparse) du Laplacien (N x N)\n",
    "    \"\"\"\n",
    "    diagonale = -2 * np.ones(N)\n",
    "    off_diagonale = np.ones(N - 1)\n",
    "    data = [off_diagonale, diagonale, off_diagonale]\n",
    "    offsets = [-1, 0, 1]\n",
    "    L = diags(data, offsets, format='csr') / h**2\n",
    "    return L"
   ]
  },
  {
   "cell_type": "markdown",
   "metadata": {},
   "source": [
    "Tester cette fonction et afficher la matrice creuse sous une forme matricielle lisible en utilisant la fonction membre\n",
    "__toarray()__"
   ]
  },
  {
   "cell_type": "code",
   "execution_count": 3,
   "metadata": {},
   "outputs": [
    {
     "name": "stdout",
     "output_type": "stream",
     "text": [
      "[[-200.  100.    0.    0.    0.    0.    0.    0.    0.]\n",
      " [ 100. -200.  100.    0.    0.    0.    0.    0.    0.]\n",
      " [   0.  100. -200.  100.    0.    0.    0.    0.    0.]\n",
      " [   0.    0.  100. -200.  100.    0.    0.    0.    0.]\n",
      " [   0.    0.    0.  100. -200.  100.    0.    0.    0.]\n",
      " [   0.    0.    0.    0.  100. -200.  100.    0.    0.]\n",
      " [   0.    0.    0.    0.    0.  100. -200.  100.    0.]\n",
      " [   0.    0.    0.    0.    0.    0.  100. -200.  100.]\n",
      " [   0.    0.    0.    0.    0.    0.    0.  100. -200.]]\n",
      "<class 'scipy.sparse._csr.csr_matrix'>\n"
     ]
    }
   ],
   "source": [
    "N = 9   # nombre de points internes\n",
    "L = 1.0\n",
    "h = L / (N + 1)  # on inclut les deux points frontières dans le maillage total\n",
    "\n",
    "A = laplacien_1D_dirichlet(N, h)\n",
    "print(A.toarray())\n",
    "print(type(A))"
   ]
  },
  {
   "cell_type": "markdown",
   "metadata": {},
   "source": [
    "On suppose que la charge $q$ est uniforme et vaut $-1$, générer le système matricielle puis le résoudre avec une méthode itérative du type gradient conjugué stabilisé."
   ]
  },
  {
   "cell_type": "code",
   "execution_count": 6,
   "metadata": {},
   "outputs": [
    {
     "name": "stdout",
     "output_type": "stream",
     "text": [
      "Help on function cgs in module scipy.sparse.linalg._isolve.iterative:\n",
      "\n",
      "cgs(A, b, x0=None, tol=1e-05, maxiter=None, M=None, callback=None, atol=None)\n",
      "    Use Conjugate Gradient Squared iteration to solve ``Ax = b``.\n",
      "    \n",
      "    Parameters\n",
      "    ----------\n",
      "    A : {sparse matrix, ndarray, LinearOperator}\n",
      "        The real-valued N-by-N matrix of the linear system.\n",
      "        Alternatively, ``A`` can be a linear operator which can\n",
      "        produce ``Ax`` using, e.g.,\n",
      "        ``scipy.sparse.linalg.LinearOperator``.\n",
      "    b : ndarray\n",
      "        Right hand side of the linear system. Has shape (N,) or (N,1).\n",
      "    \n",
      "    Returns\n",
      "    -------\n",
      "    x : ndarray\n",
      "        The converged solution.\n",
      "    info : integer\n",
      "        Provides convergence information:\n",
      "            0  : successful exit\n",
      "            >0 : convergence to tolerance not achieved, number of iterations\n",
      "            <0 : illegal input or breakdown\n",
      "    \n",
      "    Other Parameters\n",
      "    ----------------\n",
      "    x0 : ndarray\n",
      "        Starting guess for the solution.\n",
      "    tol, atol : float, optional\n",
      "        Tolerances for convergence, ``norm(residual) <= max(tol*norm(b), atol)``.\n",
      "        The default for ``atol`` is ``'legacy'``, which emulates\n",
      "        a different legacy behavior.\n",
      "    \n",
      "        .. warning::\n",
      "    \n",
      "           The default value for `atol` will be changed in a future release.\n",
      "           For future compatibility, specify `atol` explicitly.\n",
      "    maxiter : integer\n",
      "        Maximum number of iterations.  Iteration will stop after maxiter\n",
      "        steps even if the specified tolerance has not been achieved.\n",
      "    M : {sparse matrix, ndarray, LinearOperator}\n",
      "        Preconditioner for A.  The preconditioner should approximate the\n",
      "        inverse of A.  Effective preconditioning dramatically improves the\n",
      "        rate of convergence, which implies that fewer iterations are needed\n",
      "        to reach a given error tolerance.\n",
      "    callback : function\n",
      "        User-supplied function to call after each iteration.  It is called\n",
      "        as callback(xk), where xk is the current solution vector.\n",
      "    \n",
      "    Examples\n",
      "    --------\n",
      "    >>> import numpy as np\n",
      "    >>> from scipy.sparse import csc_matrix\n",
      "    >>> from scipy.sparse.linalg import cgs\n",
      "    >>> R = np.array([[4, 2, 0, 1],\n",
      "    ...               [3, 0, 0, 2],\n",
      "    ...               [0, 1, 1, 1],\n",
      "    ...               [0, 2, 1, 0]])\n",
      "    >>> A = csc_matrix(R)\n",
      "    >>> b = np.array([-1, -0.5, -1, 2])\n",
      "    >>> x, exit_code = cgs(A, b)\n",
      "    >>> print(exit_code)  # 0 indicates successful convergence\n",
      "    0\n",
      "    >>> np.allclose(A.dot(x), b)\n",
      "    True\n",
      "\n"
     ]
    }
   ],
   "source": [
    "import scipy.sparse as sparse\n",
    "help(sparse.linalg.cgs)"
   ]
  },
  {
   "cell_type": "code",
   "execution_count": 27,
   "metadata": {},
   "outputs": [
    {
     "name": "stdout",
     "output_type": "stream",
     "text": [
      "Temps CPU : 0.250000 secondes\n",
      "(99,)\n"
     ]
    },
    {
     "data": {
      "image/png": "[encoded data removed]",
      "text/plain": [
       "<Figure size 640x480 with 1 Axes>"
      ]
     },
     "metadata": {},
     "output_type": "display_data"
    }
   ],
   "source": [
    "import numpy as np\n",
    "import matplotlib.pylab as plt\n",
    "from scipy import optimize\n",
    "import scipy.sparse as sparse\n",
    "import time\n",
    "\n",
    "def solve_sparse(A, b):\n",
    "    num_iters = 0\n",
    "\n",
    "    def callback(xk):\n",
    "        nonlocal num_iters\n",
    "        num_iters+=1\n",
    "\n",
    "    M=None # SANS PRECONDITIONNEUR\n",
    "\n",
    "    x,status=sparse.linalg.cgs(A, b, M=M, tol=1e-15, callback=callback)\n",
    "    return x,status,num_iters\n",
    "\n",
    "N = 99   # nombre de points internes\n",
    "L = 1.0\n",
    "h = L / (N + 1)  # on inclut les deux points frontières dans le maillage total\n",
    "\n",
    "A =  laplacien_1D_dirichlet(N, h)\n",
    "b =  np.ones(shape=(N, 1))\n",
    "start = time.process_time()\n",
    "u, status, num_iters = solve_sparse(A, b)\n",
    "end = time.process_time()\n",
    "print(f\"Temps CPU : {end - start:.6f} secondes\")\n",
    "\n",
    "print(u.shape)\n",
    "x = np.linspace(0, 1, N+2)\n",
    "ut = np.zeros(shape=(N+2))\n",
    "ut[1:N+1]=u[0:N]  # ATTENTION slicing la borne droite est exclue\n",
    "plt.plot(x, ut, 'r')\n",
    "plt.grid()"
   ]
  },
  {
   "attachments": {},
   "cell_type": "markdown",
   "metadata": {
    "collapsed": true,
    "jupyter": {
     "outputs_hidden": true
    }
   },
   "source": [
    "### avec préconditionnement\n",
    "Un préconditionneur est une matrice permettant d'améliorer le conditionnement de la matrice du système linéaire et en pratique, cela permet d'optimiser le temps de calcul sur de grands systèmes. Curieusement, scipy ne propose pas de préconditionneur du type choleski adapté à notre problème mais un de type factorisation LU incomplète plus général."
   ]
  },
  {
   "cell_type": "code",
   "execution_count": 28,
   "metadata": {},
   "outputs": [
    {
     "name": "stdout",
     "output_type": "stream",
     "text": [
      "<class 'scipy.sparse._csr.csr_matrix'>\n",
      "Temps CPU : 0.093750 secondes\n",
      "(99,)\n"
     ]
    },
    {
     "name": "stderr",
     "output_type": "stream",
     "text": [
      "C:\\Users\\toussaij\\anaconda3\\Lib\\site-packages\\scipy\\sparse\\linalg\\_dsolve\\linsolve.py:506: SparseEfficiencyWarning: spilu converted its input to CSC format\n",
      "  warn('spilu converted its input to CSC format',\n"
     ]
    },
    {
     "data": {
      "image/png": "[encoded data removed]",
      "text/plain": [
       "<Figure size 640x480 with 1 Axes>"
      ]
     },
     "metadata": {},
     "output_type": "display_data"
    }
   ],
   "source": [
    "import numpy as np\n",
    "import matplotlib.pylab as plt\n",
    "from scipy import optimize\n",
    "import scipy.sparse as sparse\n",
    "import time\n",
    "\n",
    "def solve_sparse(A, b):\n",
    "    num_iters = 0\n",
    "\n",
    "    def callback(xk):\n",
    "        nonlocal num_iters\n",
    "        num_iters+=1\n",
    "\n",
    "    A=A.tocsc() # spilu impose que A soit stockee format CSC\n",
    "    ILU=sparse.linalg.spilu(A) \n",
    "    M = sparse.linalg.LinearOperator(shape=(N, N), matvec=ILU.solve)\n",
    "\n",
    "    x,status=sparse.linalg.cg(A, b, M=M, tol=1e-15, callback=callback)\n",
    "    return x,status,num_iters\n",
    "\n",
    "N = 99   # nombre de points internes\n",
    "L = 1.0\n",
    "h = L / (N + 1)  # on inclut les deux points frontières dans le maillage total\n",
    "\n",
    "A =  laplacien_1D_dirichlet(N, h)\n",
    "print(type(A))\n",
    "b =  np.ones(shape=(N, 1))\n",
    "\n",
    "start = time.process_time()\n",
    "u, status, num_iters = solve_sparse(A, b)\n",
    "end = time.process_time()\n",
    "print(f\"Temps CPU : {end - start:.6f} secondes\")\n",
    "\n",
    "print(u.shape)\n",
    "x = np.linspace(0, 1, N+2)\n",
    "ut = np.zeros(shape=(N+2))\n",
    "ut[1:N+1]=u[0:N]  # ATTENTION slicing la borne droite est exclue\n",
    "plt.plot(x, ut, 'r')\n",
    "plt.grid()"
   ]
  }
 ],
 "metadata": {
  "anaconda-cloud": {},
  "kernelspec": {
   "display_name": "Python 3 (ipykernel)",
   "language": "python",
   "name": "python3"
  },
  "language_info": {
   "codemirror_mode": {
    "name": "ipython",
    "version": 3
   },
   "file_extension": ".py",
   "mimetype": "text/x-python",
   "name": "python",
   "nbconvert_exporter": "python",
   "pygments_lexer": "ipython3",
   "version": "3.11.7"
  }
 },
 "nbformat": 4,
 "nbformat_minor": 4
}
