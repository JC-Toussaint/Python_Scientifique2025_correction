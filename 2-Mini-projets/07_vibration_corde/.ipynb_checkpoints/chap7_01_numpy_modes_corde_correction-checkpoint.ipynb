{
 "cells": [
  {
   "cell_type": "markdown",
   "metadata": {},
   "source": [
    "## Modes de vibration d'une corde"
   ]
  },
  {
   "cell_type": "markdown",
   "metadata": {},
   "source": [
    "* Une matrice creuse est une matrice qui contient très peu de termes non nuls\n",
    "* Pour stocker uniquement que ces termes non nuls, on utilise une technique de double indexage.\n",
    "* Un exemple de matrice creuse est appelé \"compressed sparse row matrix\"\n",
    "où chaque ligne est repérée par un pointeur\n",
    "-----------------------------------------------------------\n",
    "* L'exemple ci-dessous montre comment supprimer des lignes."
   ]
  },
  {
   "cell_type": "code",
   "execution_count": 12,
   "metadata": {},
   "outputs": [
    {
     "name": "stdout",
     "output_type": "stream",
     "text": [
      "<class 'scipy.sparse.csr.csr_matrix'>\n",
      "[[1. 0. 0. 0. 0.]\n",
      " [0. 0. 0. 1. 0.]\n",
      " [0. 0. 0. 0. 1.]]\n",
      "<class 'numpy.ndarray'>\n"
     ]
    }
   ],
   "source": [
    "import scipy\n",
    "from scipy import sparse\n",
    "import numpy as np\n",
    "import numpy.matlib as npm\n",
    "\n",
    "def delete_rows(mat, indices):\n",
    "    valid = isinstance(mat, scipy.sparse.lil_matrix) or \\\n",
    "            isinstance(mat, scipy.sparse.csr_matrix)\n",
    "    if not valid:\n",
    "        raise ValueError(\"works only for LIL / CSR format -- use .tolil() / .tocsr() first\")\n",
    "    indices = list(indices)\n",
    "    mask = np.ones(mat.shape[0], dtype=bool)\n",
    "    mask[indices] = False\n",
    "    return mat[mask]\n",
    "\n",
    "P=np.matlib.identity(5)\n",
    "P=sparse.csr_matrix(P)\n",
    "print(type(P))\n",
    "P=delete_rows(P, [1, 2])\n",
    "\n",
    "print(P.toarray())\n",
    "K=P.toarray()\n",
    "print(type(K))"
   ]
  },
  {
   "cell_type": "markdown",
   "metadata": {},
   "source": [
    "## Recherche des modes propres d'une corde\n",
    "On cherche à résoudre l'équation aux valeurs propres\n",
    "$$ -\\Delta u = k^2 u $$\n",
    "avec les conditions aux limites $u(0)=u(L)=0$\n",
    "\n",
    "En notant $K=-\\Delta$ et $P$ la matrice de projection sur l'espace des solutions.\n",
    "\n",
    "On résoud en fait l'équation aux valeurs propres : $$P K P^t u_p = k^2 u_p$$\n",
    "On reconstruit la solution complète $u=P^t u_p$\n"
   ]
  },
  {
   "cell_type": "code",
   "execution_count": 1,
   "metadata": {},
   "outputs": [
    {
     "name": "stdout",
     "output_type": "stream",
     "text": [
      "<class 'scipy.sparse.csr.csr_matrix'>\n",
      "(64, 5)\n"
     ]
    },
    {
     "data": {
      "text/plain": [
       "<matplotlib.figure.Figure at 0xa0fbf0400>"
      ]
     },
     "metadata": {},
     "output_type": "display_data"
    },
    {
     "data": {
      "text/plain": [
       "<matplotlib.figure.Figure at 0xa1b3a4b00>"
      ]
     },
     "metadata": {},
     "output_type": "display_data"
    }
   ],
   "source": [
    "#%matplotlib inline\n",
    "import scipy\n",
    "from scipy import sparse\n",
    "from scipy.sparse.linalg.dsolve import linsolve\n",
    "import numpy as np\n",
    "\n",
    "from mpl_toolkits.mplot3d import Axes3D\n",
    "from matplotlib import cm\n",
    "from matplotlib.ticker import LinearLocator\n",
    "import matplotlib.pyplot as plt\n",
    "\n",
    "class Fdm:\n",
    "    'grille differences finies'\n",
    "    fdmCount = 0\n",
    "\n",
    "    def __init__(self, Lx, Nx):\n",
    "        self.Lx = Lx\n",
    "        self.Nx = Nx\n",
    "        self.N  = Nx\n",
    "        self.dx = Lx/(Nx-1);\n",
    "        Fdm.fdmCount += 1\n",
    "   \n",
    "    def displayCount(self):\n",
    "        print (\"Instances {:d}\".format(Fdm.fdmCount)) \n",
    "                \n",
    "    def __dirichlet(self):\n",
    "        self.ld = [0, self.Nx-1]                  \n",
    "        self.ld = np.unique(self.ld)\n",
    "\n",
    "    def __build_K(self):    \n",
    "        row  = []\n",
    "        col  = []\n",
    "        data = []\n",
    "\n",
    "        D=2/self.dx**2;        \n",
    "        for ix in range(self.Nx):\n",
    "            n=ix  \n",
    "            if n in self.ld: # test d'appartenance\n",
    "                continue\n",
    "            else:\n",
    "                row.append(n)\n",
    "                col.append(n)\n",
    "                data.append(D)\n",
    "                    \n",
    "                p=ix+1\n",
    "                row.append(n)\n",
    "                col.append(p)\n",
    "                data.append(-1/self.dx**2)\n",
    "\n",
    "                p=ix-1\n",
    "                row.append(n)\n",
    "                col.append(p)\n",
    "                data.append(-1/self.dx**2)\n",
    "                    \n",
    "        K=sparse.csr_matrix( (data,(row,col)), shape=(self.N, self.N) )\n",
    "        return K\n",
    "\n",
    "    def solve(self, n):\n",
    "        self.__dirichlet();\n",
    "        K = self.__build_K();\n",
    "        UN= np.ones(self.N)\n",
    "        P=sparse.diags(UN).tocsr()\n",
    "        P=delete_rows(P, fdm.ld)\n",
    "        print(type(K))\n",
    "#        print(fdm.ld)\n",
    "#        print('P shape : ', P.shape)\n",
    "        \n",
    "#        Kp=P @ K @ P.T\n",
    "        Kp=P * K * P.T\n",
    "#        print(Kp.shape)\n",
    "        plt.figure(1)\n",
    "        plt.spy(Kp)\n",
    "\n",
    "        vals, vecs = sparse.linalg.eigsh(Kp, k=n, which='SM')\n",
    "        vecs = P.T*vecs\n",
    "        print(vecs.shape)\n",
    "        \n",
    "        plt.figure(2)\n",
    "        X = np.linspace(0, self.Lx, num=self.Nx, endpoint=True)\n",
    "#        print(vecs[:, n-1])\n",
    "        for i in range(n):\n",
    "            Y = vecs[:, i]\n",
    "            plt.plot(X, Y)\n",
    "        plt.grid()\n",
    "        plt.show()\n",
    "\n",
    "def delete_rows(mat, indices):\n",
    "    valid = isinstance(mat, scipy.sparse.lil_matrix) or \\\n",
    "            isinstance(mat, scipy.sparse.csr_matrix)\n",
    "    if not valid:\n",
    "        raise ValueError(\"works only for LIL / CSR format -- use .tolil() / .tocsr() first\")\n",
    "    indices = list(indices)\n",
    "    mask = np.ones(mat.shape[0], dtype=bool)\n",
    "    mask[indices] = False\n",
    "    return mat[mask]\n",
    "\n",
    "\n",
    "fdm = Fdm(1.0, 64)\n",
    "fdm.solve(5)\n",
    "\n"
   ]
  },
  {
   "cell_type": "code",
   "execution_count": null,
   "metadata": {},
   "outputs": [],
   "source": []
  },
  {
   "cell_type": "code",
   "execution_count": null,
   "metadata": {
    "collapsed": true
   },
   "outputs": [],
   "source": []
  }
 ],
 "metadata": {
  "anaconda-cloud": {},
  "kernelspec": {
   "display_name": "Python 3",
   "language": "python",
   "name": "python3"
  },
  "language_info": {
   "codemirror_mode": {
    "name": "ipython",
    "version": 3
   },
   "file_extension": ".py",
   "mimetype": "text/x-python",
   "name": "python",
   "nbconvert_exporter": "python",
   "pygments_lexer": "ipython3",
   "version": "3.6.4"
  }
 },
 "nbformat": 4,
 "nbformat_minor": 2
}
