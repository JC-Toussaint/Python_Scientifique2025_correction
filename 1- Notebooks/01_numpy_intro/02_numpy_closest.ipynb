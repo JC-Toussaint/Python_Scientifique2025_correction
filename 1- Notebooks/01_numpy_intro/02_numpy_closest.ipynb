{
 "cells": [
  {
   "cell_type": "markdown",
   "metadata": {},
   "source": [
    "# Interet du calcul vectoriel\n",
    "Le but de cet exemple d'illustrer l'efficacité des tableaux\n",
    "numpy par rapport aux listes python.\n",
    "\n",
    "A partir d'un nuage de points générés aléatoirement dans [0, 1[,\n",
    "on cherche à identifier celui qui se trouve le plus proche d'un point M0(x0, y0).\n",
    "On crée une fonction closest où les arguments sont \n",
    "un tuple (position de M0) et une liste (ou tableau) des coordonnées des points."
   ]
  },
  {
   "cell_type": "code",
   "execution_count": 1,
   "metadata": {},
   "outputs": [],
   "source": [
    "def closest(pos0, points):\n",
    "    x0, y0 = pos0\n",
    "    dbest, ibest = None, None # avantage de python initialiser \n",
    "                                 # avec une valeur indéfinie\n",
    "    for i, (x, y) in enumerate(points):\n",
    "        # carre de la distance au point M0\n",
    "        d = (x - x0) ** 2 + (y - y0) ** 2\n",
    "        if dbest is None or d < dbest:\n",
    "            dbest, ibest = d, i \n",
    "    return ibest"
   ]
  },
  {
   "cell_type": "markdown",
   "metadata": {},
   "source": [
    "## Utilisation des listes python\n",
    "Comment générer une liste de coordonnées (x,y) en python, puis appeler la fonction closest"
   ]
  },
  {
   "cell_type": "code",
   "execution_count": 2,
   "metadata": {},
   "outputs": [
    {
     "name": "stdout",
     "output_type": "stream",
     "text": [
      "Wall time: 40.6 ms\n",
      "42.4 ms ± 660 µs per loop (mean ± std. dev. of 7 runs, 10 loops each)\n"
     ]
    }
   ],
   "source": [
    "import random\n",
    "N=100000\n",
    "random.seed(123)\n",
    "positions = [(random.random(), random.random()) for _ in range(N)] \n",
    "# utilisation d'une variable muette\n",
    "\n",
    "pos0=(0.5, 0.5)\n",
    "%time i=closest(pos0, positions)\n",
    "%timeit i=closest(pos0, positions) \n",
    "# donne le meilleur temps = seul qui est reproductible"
   ]
  },
  {
   "cell_type": "markdown",
   "metadata": {},
   "source": [
    "Utilisation du compilateur jit du module numba"
   ]
  },
  {
   "cell_type": "code",
   "execution_count": 10,
   "metadata": {},
   "outputs": [
    {
     "name": "stderr",
     "output_type": "stream",
     "text": [
      "C:\\Users\\toussaij\\anaconda3\\lib\\site-packages\\numba\\core\\ir_utils.py:2139: NumbaPendingDeprecationWarning: \u001b[1m\n",
      "Encountered the use of a type that is scheduled for deprecation: type 'reflected list' found for argument 'points' of function 'closest'.\n",
      "\n",
      "For more information visit https://numba.pydata.org/numba-doc/latest/reference/deprecation.html#deprecation-of-reflection-for-list-and-set-types\n",
      "\u001b[1m\n",
      "File \"..\\..\\..\\..\\..\\..\\..\\AppData\\Local\\Temp\\ipykernel_47488\\350467145.py\", line 5:\u001b[0m\n",
      "\u001b[1m<source missing, REPL/exec in use?>\u001b[0m\n",
      "\u001b[0m\n",
      "  warnings.warn(NumbaPendingDeprecationWarning(msg, loc=loc))\n"
     ]
    },
    {
     "name": "stdout",
     "output_type": "stream",
     "text": [
      "Wall time: 1.24 s\n",
      "1.06 s ± 13.5 ms per loop (mean ± std. dev. of 7 runs, 1 loop each)\n"
     ]
    }
   ],
   "source": [
    "# ATTENTION Version dépréciée\n",
    "import random\n",
    "from numba import jit\n",
    "\n",
    "@jit\n",
    "def closest(pos0, points):\n",
    "       x0, y0 = pos0\n",
    "       dbest, ibest = None, None \n",
    "       for i, (x, y) in enumerate(points):\n",
    "           # carre de la distance au point M0\n",
    "           d = (x - x0) ** 2 + (y - y0) ** 2\n",
    "           if dbest is None or d < dbest:\n",
    "               dbest, ibest = d, i \n",
    "       return ibest\n",
    "\n",
    "N=100000\n",
    "random.seed(123)\n",
    "positions = [(random.random(), random.random()) for _ in range(N)] \n",
    "#print(positions)\n",
    "pos0=(0.5, 0.5)\n",
    "%time i=closest(pos0, positions)\n",
    "%timeit i=closest(pos0, positions)"
   ]
  },
  {
   "cell_type": "code",
   "execution_count": 11,
   "metadata": {},
   "outputs": [
    {
     "name": "stdout",
     "output_type": "stream",
     "text": [
      "Wall time: 110 ms\n",
      "316 µs ± 6.65 µs per loop (mean ± std. dev. of 7 runs, 1000 loops each)\n"
     ]
    }
   ],
   "source": [
    "import random\n",
    "from numba import jit\n",
    "from numba.typed import List\n",
    "\n",
    "@jit\n",
    "def closest(pos0, points):\n",
    "       x0, y0 = pos0\n",
    "       dbest, ibest = None, None \n",
    "       for i, (x, y) in enumerate(points):\n",
    "           # carre de la distance au point M0\n",
    "           d = (x - x0) ** 2 + (y - y0) ** 2\n",
    "           if dbest is None or d < dbest:\n",
    "               dbest, ibest = d, i \n",
    "       return ibest\n",
    "\n",
    "N=100000\n",
    "random.seed(123)\n",
    "positions = List()\n",
    "[positions.append((random.random(), random.random())) for _ in range(N)]\n",
    "\n",
    "#print(positions)\n",
    "pos0=(0.5, 0.5)\n",
    "%time i=closest(pos0, positions)\n",
    "%timeit i=closest(pos0, positions)"
   ]
  },
  {
   "cell_type": "markdown",
   "metadata": {},
   "source": [
    "Le premier temps explose car il intègre la phase de compilation\n",
    "Le second utilise la version compilée de la fonction, d'où le gain en performance"
   ]
  },
  {
   "cell_type": "markdown",
   "metadata": {},
   "source": [
    "## Utilisation d'un tableau numpy\n",
    "Comment générer un tableau numpy 2D , puis appeler la fonction closest\n"
   ]
  },
  {
   "cell_type": "code",
   "execution_count": 15,
   "metadata": {},
   "outputs": [
    {
     "name": "stdout",
     "output_type": "stream",
     "text": [
      "253 µs ± 865 ns per loop (mean ± std. dev. of 7 runs, 1000 loops each)\n",
      "1.01 ms ± 3.92 µs per loop (mean ± std. dev. of 7 runs, 1000 loops each)\n"
     ]
    }
   ],
   "source": [
    "import numpy as np  \n",
    "\n",
    "# tableau numpy sans jit\n",
    "def numpy_closest(pos0, points):\n",
    "    x0, y0 = pos0\n",
    "    x,  y  = points[:,0], points[:,1]\n",
    "    d = (x - x0) ** 2 + (y - y0) ** 2    \n",
    "    return d.argmin()\n",
    "\n",
    "N=100000\n",
    "np.random.seed(123)\n",
    "positions = np.random.rand(N, 2)\n",
    "#print(positions)\n",
    "#print(type(positions))\n",
    "pos0=(0.5, 0.5)\n",
    "%timeit i=closest(pos0, positions)\n",
    "%timeit i=numpy_closest(pos0, positions)"
   ]
  },
  {
   "cell_type": "markdown",
   "metadata": {},
   "source": [
    "Le gain de performance est du à la suppression de la boucle explicite"
   ]
  },
  {
   "cell_type": "markdown",
   "metadata": {
    "collapsed": true
   },
   "source": [
    "Utilisation du compilateur jit du module numba"
   ]
  },
  {
   "cell_type": "code",
   "execution_count": 18,
   "metadata": {},
   "outputs": [
    {
     "name": "stdout",
     "output_type": "stream",
     "text": [
      "254 µs ± 1.89 µs per loop (mean ± std. dev. of 7 runs, 1000 loops each)\n",
      "179 µs ± 4.33 µs per loop (mean ± std. dev. of 7 runs, 10000 loops each)\n"
     ]
    }
   ],
   "source": [
    "import random\n",
    "import numpy as np  \n",
    "from numba import jit\n",
    "\n",
    "@jit\n",
    "def numpy_closest(pos0, points):\n",
    "    x0, y0 = pos0\n",
    "    x,  y  = points[:,0], points[:,1]\n",
    "    d = (x - x0) ** 2 + (y - y0) ** 2    \n",
    "    return d.argmin()\n",
    "\n",
    "N=100000\n",
    "np.random.seed(123)\n",
    "positions = np.random.rand(N, 2)\n",
    "#print(positions)\n",
    "#print(type(positions))\n",
    "pos0=(0.5, 0.5)\n",
    "%timeit i=closest(pos0, positions)\n",
    "%timeit i=numpy_closest(pos0, positions)"
   ]
  },
  {
   "cell_type": "markdown",
   "metadata": {},
   "source": [
    "## Utilisation d'un arbre \n",
    "A titre informel, la libraire scipy contient une recherche de plus proches voisins optimisée\n",
    "à base d'arbre binaire"
   ]
  },
  {
   "cell_type": "code",
   "execution_count": 19,
   "metadata": {},
   "outputs": [
    {
     "name": "stdout",
     "output_type": "stream",
     "text": [
      "30.7 µs ± 313 ns per loop (mean ± std. dev. of 7 runs, 10000 loops each)\n",
      "61502\n",
      "[0.49981353 0.49615511]\n"
     ]
    }
   ],
   "source": [
    "import scipy.spatial as spatial\n",
    "import random\n",
    "\n",
    "N=100000\n",
    "np.random.seed(123)\n",
    "positions = np.random.rand(N, 2)\n",
    "\n",
    "kdtree = spatial.KDTree(positions)\n",
    "pos0=(0.5, 0.5)\n",
    "%timeit d, i = kdtree.query(pos0, 1)\n",
    "d, i = kdtree.query(pos0, 1)\n",
    "print(i)\n",
    "print(positions[i, :])"
   ]
  },
  {
   "cell_type": "code",
   "execution_count": null,
   "metadata": {
    "collapsed": true
   },
   "outputs": [],
   "source": []
  }
 ],
 "metadata": {
  "anaconda-cloud": {},
  "kernelspec": {
   "display_name": "Python 3 (ipykernel)",
   "language": "python",
   "name": "python3"
  },
  "language_info": {
   "codemirror_mode": {
    "name": "ipython",
    "version": 3
   },
   "file_extension": ".py",
   "mimetype": "text/x-python",
   "name": "python",
   "nbconvert_exporter": "python",
   "pygments_lexer": "ipython3",
   "version": "3.9.7"
  }
 },
 "nbformat": 4,
 "nbformat_minor": 1
}
