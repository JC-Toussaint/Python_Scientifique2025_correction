{
 "cells": [
  {
   "cell_type": "code",
   "execution_count": 32,
   "metadata": {},
   "outputs": [
    {
     "name": "stdout",
     "output_type": "stream",
     "text": [
      "2839875776752\n",
      "2839875778960\n",
      "[[ 0  1  2  3 10 11 12 13]\n",
      " [ 4  5  6  7 14 15 16 17]\n",
      " [ 8  9 10 11 18 19 20 21]]\n"
     ]
    }
   ],
   "source": []
  },
  {
   "cell_type": "markdown",
   "metadata": {},
   "source": [
    "# Comment savoir si c'est une copie ou une vue?"
   ]
  },
  {
   "cell_type": "code",
   "execution_count": 25,
   "metadata": {},
   "outputs": [
    {
     "name": "stdout",
     "output_type": "stream",
     "text": [
      "[0 1 2 3 4 5 6 7 8 9]\n",
      "None\n",
      "----------------------------------------\n",
      "il n'y a pas d'objet ayant servi à construire a\n",
      "a a servi à construire b\n",
      "\n",
      " === Partage mémoire ===\n",
      "a et b    True\n",
      "a et c    True\n",
      "b et c    False\n",
      "c et cpy  False\n",
      "----------------------------------------\n",
      "[-1  1  2  3  4  5  6  7  8  9]\n",
      "----------------------------------------\n",
      "isbase(a)   :  True\n",
      "isbase(b)   :  False\n",
      "isbase(c)   :  False\n",
      "isbase(cpy) :  True\n",
      "----------------------------------------\n",
      "mem shared a et c    True\n",
      "isbase(a)   :  False\n",
      "isbase(c)   :  False\n",
      "----------------------------------------\n",
      "[ 4  5  6  7 -1  9]\n",
      "[ 4  5  6  7 -1  9]\n",
      "----------------------------------------\n",
      "[ 4  5  6  7 42  9]\n",
      "[ 4  5  6  7 42  9]\n",
      "is_view(a)   :  True\n",
      "is_view(c)   :  True\n"
     ]
    }
   ],
   "source": [
    "import numpy as np\n",
    "\n",
    "def is_base(a):\n",
    "    return a.base is None\n",
    "\n",
    "def is_view(a):\n",
    "    return not (a.base is None)\n",
    "\n",
    "def memory_shared(a, b):\n",
    "    return np.shares_memory(a, b)\n",
    "\n",
    "a=np.arange(10)\n",
    "b=a[0:4]\n",
    "c=a[4:]\n",
    "cpy=a[4:].copy()\n",
    "\n",
    "print(a)\n",
    "print(a.base) # Base object if memory is from some other object\n",
    "\n",
    "print('-'*40)\n",
    "\n",
    "if is_base(a):  # if a.base is None:\n",
    "    print(\"il n'y a pas d'objet ayant servi à construire a\")\n",
    "\n",
    "if is_base(b):  # if b.base is None:\n",
    "    print(\"il n'y a pas d'objet ayant servi à construire b\")\n",
    "    \n",
    "if b.base is a:\n",
    "    print(\"a a servi à construire b\")\n",
    "    \n",
    "if cpy.base is a:\n",
    "    print(\"a a servi à construire cpy\")\n",
    " \n",
    "print('\\n === Partage mémoire ===')\n",
    "\n",
    "print(\"a et b   \", memory_shared(a, b))\n",
    "print(\"a et c   \", memory_shared(a, c))\n",
    "print(\"b et c   \", memory_shared(b, c))\n",
    "print(\"c et cpy \", memory_shared(c, cpy))\n",
    "\n",
    "print('-'*40)\n",
    "b[0]=-1\n",
    "print(a)\n",
    "\n",
    "print('-'*40)\n",
    "\n",
    "print('isbase(a)   : ', isbase(a))\n",
    "print('isbase(b)   : ', isbase(b))\n",
    "print('isbase(c)   : ', isbase(c))\n",
    "print('isbase(cpy) : ', isbase(cpy))\n",
    "\n",
    "print('-'*40)\n",
    "\n",
    "a=c\n",
    "print(\"mem shared a et c   \", memory_shared(a, c))\n",
    "print('isbase(a)   : ', isbase(a))\n",
    "print('isbase(c)   : ', isbase(c))\n",
    "\n",
    "print('-'*40)\n",
    "c[4]=-1\n",
    "print(c)\n",
    "print(a)\n",
    "\n",
    "print('-'*40)\n",
    "a[4]=42\n",
    "print(c)\n",
    "print(a)\n",
    "\n",
    "print('is_view(a)   : ', is_view(a))\n",
    "print('is_view(c)   : ', is_view(c))\n"
   ]
  }
 ],
 "metadata": {
  "anaconda-cloud": {},
  "kernelspec": {
   "display_name": "Python 3 (ipykernel)",
   "language": "python",
   "name": "python3"
  },
  "language_info": {
   "codemirror_mode": {
    "name": "ipython",
    "version": 3
   },
   "file_extension": ".py",
   "mimetype": "text/x-python",
   "name": "python",
   "nbconvert_exporter": "python",
   "pygments_lexer": "ipython3",
   "version": "3.12.7"
  }
 },
 "nbformat": 4,
 "nbformat_minor": 4
}
