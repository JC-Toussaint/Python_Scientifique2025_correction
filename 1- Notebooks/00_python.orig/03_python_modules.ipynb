{
 "cells": [
  {
   "cell_type": "markdown",
   "metadata": {},
   "source": [
    "# Le langage Python  -  les modules de base\n"
   ]
  },
  {
   "cell_type": "markdown",
   "metadata": {},
   "source": [
    "#  Le module math"
   ]
  },
  {
   "cell_type": "code",
   "execution_count": 4,
   "metadata": {},
   "outputs": [
    {
     "name": "stdout",
     "output_type": "stream",
     "text": [
      "0.5000000000000001\n",
      "0.5000000000000001 0.8660254037844386\n"
     ]
    }
   ],
   "source": [
    "import math\n",
    "x=math.pi/3\n",
    "print(math.cos(x))\n",
    "#help(math)\n",
    "\n",
    "from math import cos, sin\n",
    "print(cos(x), sin(x))"
   ]
  },
  {
   "cell_type": "markdown",
   "metadata": {},
   "source": [
    "# Le module random\n",
    "Le module random propose diverses fonctions permettant de générer\n",
    "des nombres pseudo-aléatoires qui suivents differentes distributions math."
   ]
  },
  {
   "cell_type": "code",
   "execution_count": 13,
   "metadata": {},
   "outputs": [
    {
     "name": "stdout",
     "output_type": "stream",
     "text": [
      "rand  0\n",
      "rand  2\n",
      "0.8377948374087613\n"
     ]
    }
   ],
   "source": [
    "import random\n",
    "#random.seed(1232691) # initialise la graine\n",
    "\n",
    "r=random.randrange(0, 10, 2)# choisit un entier aleatoirement dans range(p,n,h)\n",
    "print('rand ', r)\n",
    "\n",
    "r=random.randrange(0, 10, 2)# choisit un entier aleatoirement dans range(p,n,h)\n",
    "print('rand ', r)\n",
    "\n",
    "r=random.randint(0, 10)\n",
    "# choisit un entier N aleatoirement tel que\n",
    "# a <= N <= b.\n",
    "r=random.choice([0, 1, 2, 3])# choisit un aleatoirement dans la sequence seq\n",
    "\n",
    "r=random.random()# renvoie un decimal aleatoire dans [0,1[\n",
    "\n",
    "r=random.uniform(0, 1)\n",
    "# choisit un reel N aleatoirement, tel que\n",
    "# a <= N < b si a<b\n",
    "print(r)"
   ]
  },
  {
   "cell_type": "markdown",
   "metadata": {},
   "source": [
    "#  Comment créer son propre \"package\"\n",
    "On a créé un répertoire  **fibonacci** contenant  les  scripts \\_\\_init\\_\\_.py et fib_gen.py.\n",
    "Le premier est exécuté lors de l'importation.\n"
   ]
  },
  {
   "cell_type": "code",
   "execution_count": 14,
   "metadata": {},
   "outputs": [
    {
     "name": "stdout",
     "output_type": "stream",
     "text": [
      "module fibonacci imported\n"
     ]
    }
   ],
   "source": [
    "#__init__.py\n",
    "print('module fibonacci imported')"
   ]
  },
  {
   "cell_type": "code",
   "execution_count": 15,
   "metadata": {},
   "outputs": [
    {
     "name": "stdout",
     "output_type": "stream",
     "text": [
      "[1, 1, 2, 3, 5, 8]\n"
     ]
    }
   ],
   "source": [
    "#fib_gen.py\n",
    "\"\"\" fibonacci series \"\"\"\n",
    "\n",
    "def fib_gen(n):   # return Fibonacci series up to n\n",
    "    result = []\n",
    "    a, b = 0, 1\n",
    "    while b < n:\n",
    "        result.append(b)\n",
    "        a, b = b, a+b\n",
    "    return result\n",
    "\n",
    "# test de la fonction fib\n",
    "if __name__ == \"__main__\":\n",
    "    print(fib_gen(10))"
   ]
  },
  {
   "cell_type": "markdown",
   "metadata": {},
   "source": [
    "Exemple de programme  test  utilisant le package fibonacci"
   ]
  },
  {
   "cell_type": "code",
   "execution_count": 17,
   "metadata": {},
   "outputs": [
    {
     "name": "stdout",
     "output_type": "stream",
     "text": [
      "module fibonacci imported\n",
      "[1, 1, 2, 3, 5, 8]\n"
     ]
    }
   ],
   "source": [
    "from fibonacci.fib_gen import *\n",
    "\n",
    "# test de la fonction table\n",
    "if __name__ == \"__main__\":\n",
    "    print(fib_gen(10))"
   ]
  },
  {
   "cell_type": "markdown",
   "metadata": {},
   "source": [
    "# Ouverture et fermeture des fichiers\n"
   ]
  },
  {
   "cell_type": "code",
   "execution_count": 26,
   "metadata": {},
   "outputs": [
    {
     "name": "stdout",
     "output_type": "stream",
     "text": [
      "toto\n",
      "\n",
      "abc\n"
     ]
    }
   ],
   "source": [
    "with open('data', 'w') as f:\n",
    "    s='toto'\n",
    "    f.write(s + '\\n')\n",
    "    l=['a', 'b', 'c']\n",
    "    f.writelines(l)\n",
    "    f.close() # pas nécessaire avec un with\n",
    "\n",
    "\n",
    "with open('data', 'r') as f:\n",
    "    s=f.readline()\n",
    "    print(s)\n",
    "    s=f.readline()\n",
    "    print(s)\n"
   ]
  },
  {
   "cell_type": "markdown",
   "metadata": {},
   "source": [
    "# Sauvegarde de données dans fichier ASCII\n",
    "\n",
    "\n",
    "Exemple de sauvegarde de données dans un fichier ASCII en format libre\n",
    "\n"
   ]
  },
  {
   "cell_type": "code",
   "execution_count": 27,
   "metadata": {},
   "outputs": [
    {
     "name": "stdout",
     "output_type": "stream",
     "text": [
      "+0 +1\n",
      "+0.785398 +0.707107\n",
      "+1.5708 +6.12323e-17\n",
      "+2.35619 -0.707107\n"
     ]
    }
   ],
   "source": [
    "import math\n",
    "with open('data', 'w') as f:\n",
    "    for k in range(4):\n",
    "        x=math.pi*k/4\n",
    "        str='{:+g} {:+g}'.format(x, math.cos(x))\n",
    "        print(str)\n",
    "        f.write(str + '\\n')\n"
   ]
  },
  {
   "cell_type": "code",
   "execution_count": 28,
   "metadata": {},
   "outputs": [
    {
     "name": "stdout",
     "output_type": "stream",
     "text": [
      "  +0.00000 +1.00000e+00\n",
      "  +0.78540 +7.07107e-01\n",
      "  +1.57080 +6.12323e-17\n",
      "  +2.35619 -7.07107e-01\n"
     ]
    }
   ],
   "source": [
    "from math import *\n",
    "with open('data', 'w') as f:\n",
    "    for k in range(4):\n",
    "        x=math.pi*k/4\n",
    "        str=f'{x:+10.5f} {cos(x):+10.5e}'\n",
    "        print(str)\n",
    "        f.write(str + '\\n')"
   ]
  },
  {
   "cell_type": "markdown",
   "metadata": {
    "collapsed": true
   },
   "source": [
    "Exemple de sauvegarde de données dans un fichier ASCII format float"
   ]
  },
  {
   "cell_type": "code",
   "execution_count": null,
   "metadata": {},
   "outputs": [],
   "source": [
    "import math\n",
    "with open('data', 'w') as f:\n",
    "    for k in range(4):\n",
    "        x=math.pi*k/4\n",
    "        str='{:+10.5f} {:+10.5f}'.format(x, math.cos(x))\n",
    "        print(str)\n",
    "        f.write(str + '\\n')\n"
   ]
  },
  {
   "cell_type": "markdown",
   "metadata": {},
   "source": [
    "# Lecture de données ASCII\n",
    "Exemple de lecture de données depuis un fichier ASCII\n",
    "\n",
    "1ère version : lecture ligne à ligne"
   ]
  },
  {
   "cell_type": "code",
   "execution_count": 33,
   "metadata": {},
   "outputs": [
    {
     "name": "stdout",
     "output_type": "stream",
     "text": [
      "[0.0, 0.7854, 1.5708, 2.35619]\n",
      "[1.0, 0.707107, 6.12323e-17, -0.707107]\n"
     ]
    }
   ],
   "source": [
    "x=[]\n",
    "y=[]\n",
    "\n",
    "with open('data', 'r') as f:\n",
    "    for line in f:\n",
    "        lst = line.split()\n",
    "        #print(lst)\n",
    "        x.append(float(lst[0]))\n",
    "        y.append(float(lst[1]))      \n",
    "\n",
    "print(x)\n",
    "print(y)"
   ]
  },
  {
   "cell_type": "markdown",
   "metadata": {},
   "source": [
    "2ème version :  lecture de toutes les lignes"
   ]
  },
  {
   "cell_type": "code",
   "execution_count": null,
   "metadata": {},
   "outputs": [],
   "source": [
    "x=[]\n",
    "y=[]\n",
    "\n",
    "with open('data', 'r') as f:\n",
    "    lines=f.readlines()\t# lecture de toutes les lignes dans la liste lines\n",
    "    for line in lines:\n",
    "        lst = line.split()\n",
    "        x.append(float(lst[0])) # conversion vers float\n",
    "        y.append(float(lst[1]))        \n",
    "\n",
    "print(x)\n",
    "print(y)\n"
   ]
  },
  {
   "cell_type": "code",
   "execution_count": 34,
   "metadata": {},
   "outputs": [],
   "source": [
    "#help(int)"
   ]
  },
  {
   "cell_type": "code",
   "execution_count": 13,
   "metadata": {},
   "outputs": [
    {
     "name": "stdout",
     "output_type": "stream",
     "text": [
      "4\n",
      "<class 'int'>\n",
      "28\n"
     ]
    },
    {
     "ename": "NameError",
     "evalue": "name 'sizeof' is not defined",
     "output_type": "error",
     "traceback": [
      "\u001b[0;31m---------------------------------------------------------------------------\u001b[0m",
      "\u001b[0;31mNameError\u001b[0m                                 Traceback (most recent call last)",
      "\u001b[0;32m<ipython-input-13-2e77ffeea163>\u001b[0m in \u001b[0;36m<module>\u001b[0;34m()\u001b[0m\n\u001b[1;32m      3\u001b[0m \u001b[0mprint\u001b[0m\u001b[0;34m(\u001b[0m\u001b[0mtype\u001b[0m\u001b[0;34m(\u001b[0m\u001b[0mn\u001b[0m\u001b[0;34m)\u001b[0m\u001b[0;34m)\u001b[0m\u001b[0;34m\u001b[0m\u001b[0m\n\u001b[1;32m      4\u001b[0m \u001b[0mprint\u001b[0m\u001b[0;34m(\u001b[0m\u001b[0mn\u001b[0m\u001b[0;34m.\u001b[0m\u001b[0m__sizeof__\u001b[0m\u001b[0;34m(\u001b[0m\u001b[0;34m)\u001b[0m\u001b[0;34m)\u001b[0m\u001b[0;34m\u001b[0m\u001b[0m\n\u001b[0;32m----> 5\u001b[0;31m \u001b[0mprint\u001b[0m\u001b[0;34m(\u001b[0m\u001b[0msizeof\u001b[0m\u001b[0;34m(\u001b[0m\u001b[0mn\u001b[0m\u001b[0;34m)\u001b[0m\u001b[0;34m)\u001b[0m\u001b[0;34m\u001b[0m\u001b[0m\n\u001b[0m",
      "\u001b[0;31mNameError\u001b[0m: name 'sizeof' is not defined"
     ]
    }
   ],
   "source": [
    "n=int('0b100', base=2)\n",
    "print(n)\n"
   ]
  },
  {
   "cell_type": "code",
   "execution_count": 21,
   "metadata": {},
   "outputs": [
    {
     "ename": "TypeError",
     "evalue": "Can't convert 'int' object to str implicitly",
     "output_type": "error",
     "traceback": [
      "\u001b[0;31m---------------------------------------------------------------------------\u001b[0m",
      "\u001b[0;31mTypeError\u001b[0m                                 Traceback (most recent call last)",
      "\u001b[0;32m<ipython-input-21-c3074781db04>\u001b[0m in \u001b[0;36m<module>\u001b[0;34m()\u001b[0m\n\u001b[1;32m      1\u001b[0m \u001b[0ms\u001b[0m\u001b[0;34m=\u001b[0m\u001b[0;34m'bonjour'\u001b[0m\u001b[0;34m\u001b[0m\u001b[0m\n\u001b[0;32m----> 2\u001b[0;31m \u001b[0mprint\u001b[0m\u001b[0;34m(\u001b[0m\u001b[0ms\u001b[0m\u001b[0;34m.\u001b[0m\u001b[0mcount\u001b[0m\u001b[0;34m(\u001b[0m\u001b[0;36m0\u001b[0m\u001b[0;34m)\u001b[0m\u001b[0;34m)\u001b[0m\u001b[0;34m\u001b[0m\u001b[0m\n\u001b[0m",
      "\u001b[0;31mTypeError\u001b[0m: Can't convert 'int' object to str implicitly"
     ]
    }
   ],
   "source": [
    "s='bonjour'\n"
   ]
  },
  {
   "cell_type": "code",
   "execution_count": 23,
   "metadata": {},
   "outputs": [
    {
     "name": "stdout",
     "output_type": "stream",
     "text": [
      "bxnjxur\n"
     ]
    }
   ],
   "source": [
    "print(s.replace('o', 'x'))"
   ]
  },
  {
   "cell_type": "code",
   "execution_count": 24,
   "metadata": {},
   "outputs": [
    {
     "name": "stdout",
     "output_type": "stream",
     "text": [
      "Help on built-in function isinstance in module builtins:\n",
      "\n",
      "isinstance(obj, class_or_tuple, /)\n",
      "    Return whether an object is an instance of a class or of a subclass thereof.\n",
      "    \n",
      "    A tuple, as in ``isinstance(x, (A, B, ...))``, may be given as the target to\n",
      "    check against. This is equivalent to ``isinstance(x, A) or isinstance(x, B)\n",
      "    or ...`` etc.\n",
      "\n"
     ]
    }
   ],
   "source": [
    "help (isinstance)"
   ]
  },
  {
   "cell_type": "code",
   "execution_count": 29,
   "metadata": {},
   "outputs": [
    {
     "name": "stdout",
     "output_type": "stream",
     "text": [
      "ok\n"
     ]
    }
   ],
   "source": [
    "s='bonjour'\n",
    "if isinstance(s, str):\n",
    "    print('ok')"
   ]
  },
  {
   "cell_type": "code",
   "execution_count": null,
   "metadata": {
    "collapsed": true
   },
   "outputs": [],
   "source": []
  }
 ],
 "metadata": {
  "anaconda-cloud": {},
  "kernelspec": {
   "display_name": "Python 3 (ipykernel)",
   "language": "python",
   "name": "python3"
  },
  "language_info": {
   "codemirror_mode": {
    "name": "ipython",
    "version": 3
   },
   "file_extension": ".py",
   "mimetype": "text/x-python",
   "name": "python",
   "nbconvert_exporter": "python",
   "pygments_lexer": "ipython3",
   "version": "3.9.7"
  }
 },
 "nbformat": 4,
 "nbformat_minor": 1
}
