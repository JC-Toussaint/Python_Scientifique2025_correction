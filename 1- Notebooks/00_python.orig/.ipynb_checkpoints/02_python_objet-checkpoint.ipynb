{
 "cells": [
  {
   "cell_type": "markdown",
   "metadata": {},
   "source": [
    "# Le langage Python  -  l'approche objet\n",
    "\n",
    "Python est un langage de programmation objet, multiplateformes. Il favorise la programmation impérative structurée, fonctionnelle et orientée objet. Il est doté d'un typage dynamique, d'une gestion automatique de la mémoire par ramasse-miettes et d'un système de gestion d'exceptions "
   ]
  },
  {
   "cell_type": "markdown",
   "metadata": {},
   "source": [
    "* En programmation objet les méthodes sont des propriétés des données membres (aussi appelés attributs).\n",
    "\n",
    "* Une classe python est composée d'attributs et de méthodes.\n",
    "* Instance : Construction d'un objet, appel de la méthode nommée __init__(self)\n",
    "* Héritage : Une classe dérivant d’une classe mère, hérite de ses attributs et de ses méthodes.\n",
    "\n",
    "* Quand une méthode est appelée lors de l’exécution, une référence vers l'objet principal est passée en tant que premier argument. Par convention, ce premier argument est toujours : self."
   ]
  },
  {
   "cell_type": "markdown",
   "metadata": {},
   "source": [
    "#  Une classe en Python\n",
    "* Le constructeur est la fonction membre __init__(self, nom=None)\n",
    "le premier paramètre est une référence sur l'objet courant, on peut  fixer la valeur par défaut"
   ]
  },
  {
   "cell_type": "code",
   "execution_count": 3,
   "metadata": {},
   "outputs": [
    {
     "name": "stdout",
     "output_type": "stream",
     "text": [
      "titeuf\n",
      "---------\n",
      "None\n"
     ]
    }
   ],
   "source": [
    "class Personne(object):\n",
    "    def __init__(self , nom=None):  # None valeur par défaut\n",
    "        self.__nom = nom            # __nom donnée privée\n",
    "\n",
    "    def who(self):        # getter = accesseur\n",
    "        return self.__nom\n",
    "\n",
    "pers=Personne('titeuf')  # pers est une instance de la classe Personne\n",
    "print(pers.who())        # op • donne accès aux méthodes publiques\n",
    "\n",
    "# pers.__nom=’bill’   impossible __nom est privée\n",
    "\n",
    "print('---------')\n",
    "pers=Personne()\n",
    "#print(pers.__nom)\n",
    "print(pers.who())"
   ]
  },
  {
   "cell_type": "markdown",
   "metadata": {},
   "source": [
    "#  Accesseur (getter) et mutateur (setter)\n",
    "\n",
    "* Le concepteur se pose la question : quelles sont les données et fonctions de ma classe, utiles aux autres classes, i.e. au monde extérieur ?\n",
    "\n",
    "Ce qui est utile pour le monde extérieur est public.\n",
    "Ce qui relève du fonctionnement interne de ma classe est private.\n",
    "\n",
    "* L’extérieur ne peut modifier le comportement interne de la classe et voulu\n",
    "par le concepteur : c’est l’encapsulation\n",
    "\n",
    "* En pratique, les attributs d’une classe sont souvent privés\n",
    "Si besoin, autoriser la lecture de l’attribut par un accesseur (getter) à définir\n",
    "Parfois, autoriser la modification d’un attribut par un mutateur (setter) à définir\n",
    "\n",
    "* C’est le concepteur de la classe qui décide de l’accès possible aux données\n",
    "membres privées de la classe.\n"
   ]
  },
  {
   "cell_type": "markdown",
   "metadata": {},
   "source": [
    "#  La classe Robot\n"
   ]
  },
  {
   "cell_type": "code",
   "execution_count": null,
   "metadata": {},
   "outputs": [],
   "source": [
    "class Robot(object):\n",
    "    def __init__(self, name=None, build_year=None):\n",
    "        self.__name = name               # __name et __build_year données privées\n",
    "        self.__build_year = build_year\n",
    "\n",
    "    def say_hi(self):\n",
    "        if self.__name:\n",
    "            print(\"Hi, I am \" + self.__name) # les fonctions membres ont accès\n",
    "        else:                               # aux données privées\n",
    "            print(\"Hi, I am a robot without a name\")\n",
    "\n",
    "    def set_name(self, name):   # setter\n",
    "        if isinstance(name, str):\n",
    "            self.__name = name\n",
    "\n",
    "    def get_name(self):         # getter\n",
    "        return self.__name\n",
    "\n",
    "    def set_build_year(self, by):\n",
    "        self.__build_year = by\n",
    "\n",
    "    def get_build_year(self):\n",
    "        return self.__build_year\n",
    "\n",
    "rob1 = Robot(\"Henry\", 2008)\n",
    "rob2 = Robot()\n",
    "\n",
    "name=rob1.get_name()\n",
    "rob2.set_name(name)\n",
    "\n",
    "print(rob1.get_name(), rob1.get_build_year())\n",
    "print(rob2.get_name(), rob2.get_build_year())\n"
   ]
  },
  {
   "cell_type": "markdown",
   "metadata": {},
   "source": [
    "Dans  cet exemple, les getters et setters reviennnent à donner accès aux données privées.\n",
    "On brise l'encapsulation."
   ]
  },
  {
   "cell_type": "markdown",
   "metadata": {},
   "source": [
    "#  Les \"properties\"\n",
    "* On  peut alléger l'utilisation des getters et setters en utilisant la notion de properties\n",
    "* Il faut par contre commencer par définir le getter puis le setter"
   ]
  },
  {
   "cell_type": "code",
   "execution_count": null,
   "metadata": {},
   "outputs": [],
   "source": [
    "class Robot(object):\n",
    "    def __init__(self, name=None, build_year=None):\n",
    "        self.__name = name               # __name et __build_year données privées\n",
    "        self.__build_year = build_year\n",
    "\n",
    "    def say_hi(self):\n",
    "        if self.__name:\n",
    "            print(\"Hi, I am \" + self.__name) # les fonctions membres ont accès\n",
    "        else:                               # aux données privées\n",
    "            print(\"Hi, I am a robot without a name\")\n",
    "\n",
    "    @property\n",
    "    def name(self):         # getter\n",
    "        return self.__name\n",
    "    \n",
    "    @name.setter\n",
    "    def name(self, name):   # setter\n",
    "        if name is None:\n",
    "            raise NameError('zero length string')\n",
    "        self.__name = name\n",
    "\n",
    "    @property\n",
    "    def build_year(self):\n",
    "        return self.__build_year\n",
    "\n",
    "    @build_year.setter\n",
    "    def build_year(self, by):\n",
    "        self.__build_year = by\n",
    "\n",
    "\n",
    "\n",
    "rob1 = Robot(\"Henry\", 2008)\n",
    "rob2 = Robot()\n",
    "\n",
    "name=rob1.name\n",
    "rob2.name=name\n",
    "\n",
    "print(rob1.name, rob1.build_year)\n",
    "print(rob2.name, rob2.build_year)"
   ]
  },
  {
   "cell_type": "markdown",
   "metadata": {},
   "source": [
    "# Exercice \n",
    "Dans quel cas, l'exception NameError est-elle levée?"
   ]
  },
  {
   "cell_type": "markdown",
   "metadata": {},
   "source": [
    "# Une classe Vector\n",
    "But : créer une classe permettant de faire de l'analyse vectorielle en 2D"
   ]
  },
  {
   "cell_type": "code",
   "execution_count": 6,
   "metadata": {},
   "outputs": [
    {
     "name": "stdout",
     "output_type": "stream",
     "text": [
      "4512599568\n",
      "__iadd__\n",
      "4512738048\n",
      "__rmul__\n",
      "self  :  4512738048\n",
      "other :  4466234736\n",
      "<class 'int'>\n",
      "__mul__\n",
      "self  :  4512738048\n",
      "other :  4466234736\n"
     ]
    }
   ],
   "source": [
    "class Vector(object):\n",
    "    def __init__(self , x, y):\n",
    "        self.__x = x  # __nom donnée privée\n",
    "        self.__y = y  # __nom donnée privée\n",
    "\n",
    "    def __add__(self, other):\n",
    "        return Vector(self.__x + other.__x, self.__y + other.__y)\n",
    "\n",
    "    def __iadd__(self, other):\n",
    "        print('__iadd__')\n",
    "        self.__x += other.__x\n",
    "        self.__y += other.__y\n",
    "        return self\n",
    "#        return Vector(self.__x + other.__x, self.__y + other.__y) # FAUX\n",
    "    \n",
    "    def get(self):\t # getter pour lire les données privées\n",
    "        return self.__x, self.__y\n",
    "\n",
    "    def __repr__(self): # appelé lors d’un print\n",
    "        return '('+str(self.__x)+', '+str(self.__y)+')'\n",
    "\n",
    "    def __mul__(self, other):\n",
    "        print('__mul__')\n",
    "        print('self  : ', id(self))\n",
    "        print('other : ',id(other))\n",
    "        return Vector(self.__x*other, self.__y*other)\n",
    "       \n",
    "    def __rmul__(self, other):\n",
    "        print('__rmul__')\n",
    "        print('self  : ', id(self))\n",
    "        print('other : ',id(other))\n",
    "        print(type(other))\n",
    "        return Vector(self.__x*other, self.__y*other)\n",
    "    \n",
    "u=Vector(1, +1)\n",
    "v=Vector(2, -2)\n",
    "u = u+v\n",
    "\n",
    "#print(u.get()) \n",
    "print(id(u))\n",
    "u += v\n",
    "print(id(u))\n",
    "\n",
    "#print(u.get()) \n",
    "\n",
    "#print(u)          # appelle la fonction magique __repr__\n",
    "\n",
    "#a=2\n",
    "#print(id(a))\n",
    "#print(id(u))\n",
    "v=2*u\n",
    "v=u*2\n",
    "\n",
    "#v=u*u"
   ]
  },
  {
   "cell_type": "code",
   "execution_count": 13,
   "metadata": {},
   "outputs": [
    {
     "name": "stdout",
     "output_type": "stream",
     "text": [
      "<class 'numbers.Number'>\n",
      "Help on class Number in module numbers:\n",
      "\n",
      "class Number(builtins.object)\n",
      " |  All numbers inherit from this class.\n",
      " |  \n",
      " |  If you just want to check if an argument x is a number, without\n",
      " |  caring what kind, use isinstance(x, Number).\n",
      " |  \n",
      " |  Data and other attributes defined here:\n",
      " |  \n",
      " |  __abstractmethods__ = frozenset()\n",
      " |  \n",
      " |  __hash__ = None\n",
      "\n"
     ]
    }
   ],
   "source": [
    "import numbers\n",
    "var=10.0\n",
    "isinstance(var, numbers.Number)\n",
    "print(numbers.Number)\n",
    "help(numbers.Number)"
   ]
  },
  {
   "cell_type": "markdown",
   "metadata": {},
   "source": [
    "# Exercice sur la classe Vector\n",
    "On veut effectuer la multiplication d’un vecteur par un scalaire \n",
    "\n",
    "Il est nécessaire de définir les fonctions membres suivantes\n",
    "\n",
    "def \\_\\_mul\\_\\_(self, other):  #  à compléter\n",
    "\n",
    "    return Vector(..................................)\n",
    "\n",
    "def \\_\\_rmul\\_\\_(self, other):\n",
    "\n",
    "    return Vector(..................................)\n"
   ]
  },
  {
   "cell_type": "code",
   "execution_count": null,
   "metadata": {},
   "outputs": [],
   "source": [
    "u=Vector(+1, +1)\n",
    "u = u*2\n",
    "u = 2*u"
   ]
  },
  {
   "cell_type": "code",
   "execution_count": 7,
   "metadata": {},
   "outputs": [
    {
     "name": "stdout",
     "output_type": "stream",
     "text": [
      "(3, -1)\n",
      "(5, -3)\n",
      "(5, -3)\n",
      "(10, -6)\n",
      "(20, -12)\n"
     ]
    }
   ],
   "source": [
    "class Vector(object):\n",
    "    def __init__(self , x, y):\n",
    "        self.__x = x  # __nom donnée privée\n",
    "        self.__y = y  # __nom donnée privée\n",
    "\n",
    "    def __add__(self, other):\n",
    "        return Vector(self.__x + other.__x, self.__y + other.__y)\n",
    "\n",
    "    def __iadd__(self, other):\n",
    "        return Vector(self.__x + other.__x, self.__y + other.__y)\n",
    "    \n",
    "    def get(self):\t # getter pour lire les données privées\n",
    "        return self.__x, self.__y\n",
    "\n",
    "    def __repr__(self): # appelé lors d’un print\n",
    "        return '('+str(self.__x)+', '+str(self.__y)+')'\n",
    "\n",
    "    def __mul__(self, other):\n",
    "        return Vector(self.__x*other, self.__y*other)\n",
    "\n",
    "    def __rmul__(self, other):\n",
    "        return Vector(self.__x*other, self.__y*other)\n",
    "    \n",
    "u=Vector(1, +1)\n",
    "v=Vector(2, -2)\n",
    "u = u+v\n",
    "\n",
    "print(u.get()) \n",
    "u += v\n",
    "\n",
    "print(u.get()) \n",
    "\n",
    "print(u)          # appelle la fonction magique __repr__\n",
    "u=u*2\n",
    "print(u)\n",
    "\n",
    "u=2*u\n",
    "print(u)\n"
   ]
  },
  {
   "cell_type": "markdown",
   "metadata": {},
   "source": [
    "# Héritage : une classe dérivée issue d’une classe parente \n",
    "\n",
    "données membres et méthodes héritées de la classe parente ne sont plus à redéfinir. \n",
    "\n",
    "Les méthodes de la classe parente sont utilisables (sous condition) dans la classe dérivée.\n",
    "\n",
    "Ajout dans la classe dérivée de nouvelles fonctionnalités sans tout redévelopper.\n",
    "\n",
    "Cloisonnement des nouveaux éléments pour sécuriser le code existant.\n",
    "Héritage en Programmation Objet\n",
    "\n"
   ]
  },
  {
   "cell_type": "markdown",
   "metadata": {},
   "source": [
    "# Exercice\n",
    "Développer une classe  PointColor  héritière de la classe Point.\n",
    "Elle possède une donnée membre supplémentaire __color\n",
    "\n",
    "Le constructeur de  la classe PointColor fait appel au constructeur de la classe Point grâce\n",
    "à  l'opérateur super()"
   ]
  },
  {
   "cell_type": "code",
   "execution_count": null,
   "metadata": {},
   "outputs": [],
   "source": [
    "class Point(object):\n",
    "    def __init__(self, x=0, y=0):\n",
    "        self.__x=x\n",
    "        self.__y=y\n",
    "\n",
    "    def __repr__(self):  # appelé lors d’un print\n",
    "        return str(self.__x) + ', ' + str(self.__y)\n",
    "\n",
    "\n",
    "\n",
    "class PointColor(Point):\n",
    "    def __init__(self, x=0, y=0, color=None):\n",
    "        super().__init__(x, y)\t# appel du constructeur de la classe Point\n",
    "# A COMPLETER\n",
    "\n",
    "point=Point(10, 20)     \n",
    "print(point)            \n",
    "\n",
    "pointcol=PointColor(10, 20, 255)\n",
    "print(pointcol)"
   ]
  }
 ],
 "metadata": {
  "anaconda-cloud": {},
  "kernelspec": {
   "display_name": "Python 3 (ipykernel)",
   "language": "python",
   "name": "python3"
  },
  "language_info": {
   "codemirror_mode": {
    "name": "ipython",
    "version": 3
   },
   "file_extension": ".py",
   "mimetype": "text/x-python",
   "name": "python",
   "nbconvert_exporter": "python",
   "pygments_lexer": "ipython3",
   "version": "3.9.7"
  }
 },
 "nbformat": 4,
 "nbformat_minor": 1
}
