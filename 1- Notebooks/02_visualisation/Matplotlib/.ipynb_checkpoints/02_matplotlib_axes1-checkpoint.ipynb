{
 "cells": [
  {
   "cell_type": "markdown",
   "metadata": {},
   "source": [
    "# Matplotlib - axes\n",
    "\n",
    "Matplotlib offre une grande flexibilité dans la gestion des axes grâce à l'objet Axes qui constitue le cœur de chaque graphique. \n",
    "\n",
    "Vous pouvez personnaliser facilement les étiquettes avec set_xlabel() et set_ylabel(), définir les limites d'affichage avec set_xlim() et set_ylim(), et contrôler l'espacement des graduations avec set_xticks() et set_yticks(). \n",
    "\n",
    "Les axes supportent différentes échelles (linéaire, logarithmique, semilog) via set_xscale() et set_yscale(), permettent d'ajouter des grilles avec grid(), et offrent des options avancées comme l'inversion d'axe avec invert_xaxis() ou la création d'axes secondaires avec twinx() et twiny(). \n",
    "\n",
    "Cette richesse fonctionnelle permet de créer des visualisations précises et professionnelles adaptées à tous types de données scientifiques ou statistiques."
   ]
  },
  {
   "cell_type": "markdown",
   "metadata": {},
   "source": [
    "## Deux figures avec des proprités communes"
   ]
  },
  {
   "cell_type": "markdown",
   "metadata": {},
   "source": [
    "Comment créer deux figures juxtaposées partageant les mêmes valeurs selon Ox et Oy"
   ]
  },
  {
   "cell_type": "code",
   "execution_count": 2,
   "metadata": {},
   "outputs": [],
   "source": [
    "%matplotlib inline\n",
    "# %matplotlib qt\n",
    "    \n",
    "import matplotlib.pyplot as plt\n",
    "import numpy as np\n",
    "\n",
    "plt.close('all') #efface fenêtre graphique\n",
    "\n",
    "# data\n",
    "xv = np.linspace(0, 2 * np.pi, 400)\n",
    "yv = np.sin(xv)\n",
    "\n",
    "# une figure avec 2 subplot-axes\n",
    "f, ax = plt.subplots(nrows=1, ncols=2, sharex=True, sharey=True) # partage des axes\n",
    "ax[0].plot(xv, yv, color='red', linewidth=2.0, linestyle=\"-\")\n",
    "ax[0].set_title('plot1')\n",
    "ax[0].grid()\n",
    "\n",
    "ax[1].plot(-xv, 2*yv, color='blue', linewidth=2.0, linestyle=\"-\")\n",
    "ax[0].set_title('plot2')\n",
    "ax[1].grid()\n",
    "plt.show()"
   ]
  },
  {
   "cell_type": "markdown",
   "metadata": {},
   "source": [
    "## Encapsulation de figures"
   ]
  },
  {
   "cell_type": "markdown",
   "metadata": {},
   "source": [
    "Comment créer une sous-figure encapsulée dans une plus grande"
   ]
  },
  {
   "cell_type": "code",
   "execution_count": null,
   "metadata": {},
   "outputs": [],
   "source": [
    "from mpl_toolkits.axes_grid1.inset_locator import inset_axes\n",
    "import matplotlib.pyplot as plt\n",
    "import numpy as np\n",
    "\n",
    "xv = np.linspace(0, 2 * np.pi, 400)\n",
    "yv = np.sin(xv)\n",
    "\n",
    "fig, ax = plt.subplots(figsize=(6, 4))\n",
    "ax.plot(xv, yv, color='red', linewidth=2.0)\n",
    "ax.set_title('Courbe principale')\n",
    "ax.grid(True)\n",
    "\n",
    "# Incrustation repositionnée plus bas\n",
    "inset_ax = inset_axes(ax, width=\"35%\", height=\"35%\",\n",
    "                      loc='upper right',\n",
    "                      bbox_to_anchor=(0, -0.02, 1, 1),  # décale verticalement\n",
    "                      bbox_transform=ax.transAxes)\n",
    "\n",
    "inset_ax.plot(xv, yv, color='blue', linewidth=2.0)\n",
    "inset_ax.set_title(\"Zoom sin(x)\", fontsize=8, pad=3)  # titre plus discret\n",
    "inset_ax.grid(True)\n",
    "# inset_ax.set_facecolor(\"#f8f8f8\")\n",
    "inset_ax.patch.set_edgecolor('gray')\n",
    "inset_ax.patch.set_linewidth(1)\n",
    "\n",
    "plt.show()\n"
   ]
  },
  {
   "cell_type": "markdown",
   "metadata": {},
   "source": [
    "## Deux courbes sur le même graphique\n",
    "Deux courbes sur un seul graphique, avec deux axes Y :\n",
    "* à gauche : température (en rouge),\n",
    "* à droite : humidité (en bleu, pointillée).\n",
    "  \n",
    "Le tout bien aligné horizontalement."
   ]
  },
  {
   "cell_type": "code",
   "execution_count": null,
   "metadata": {},
   "outputs": [],
   "source": [
    "import matplotlib.pyplot as plt\n",
    "import numpy as np\n",
    "\n",
    "# Données simulées\n",
    "temps = np.linspace(0, 24, 100)  # heures\n",
    "temperature = 10 + 10 * np.sin(np.pi * temps / 24)\n",
    "humidite = 80 - 30 * np.cos(np.pi * temps / 24)\n",
    "\n",
    "# Création de la figure et du 1er axe\n",
    "fig, ax1 = plt.subplots()\n",
    "\n",
    "# Courbe 1 : Température\n",
    "couleur_temp = 'tab:red'\n",
    "ax1.plot(temps, temperature, color=couleur_temp, label=\"Température (°C)\")\n",
    "ax1.set_xlabel(\"Temps (heures)\")\n",
    "ax1.set_ylabel(\"Température (°C)\", color=couleur_temp)\n",
    "ax1.tick_params(axis='y', labelcolor=couleur_temp)\n",
    "ax1.grid(True)\n",
    "\n",
    "# Création d’un second axe y partageant le même axe x\n",
    "ax2 = ax1.twinx()\n",
    "\n",
    "# Courbe 2 : Humidité\n",
    "couleur_hum = 'tab:blue'\n",
    "ax2.plot(temps, humidite, color=couleur_hum, linestyle='--', label=\"Humidité (%)\")\n",
    "ax2.set_ylabel(\"Humidité (%)\", color=couleur_hum)\n",
    "ax2.tick_params(axis='y', labelcolor=couleur_hum)\n",
    "\n",
    "# Titre et ajustement\n",
    "plt.title(\"Température et Humidité sur 24h\")\n",
    "fig.tight_layout()  # évite les chevauchements\n",
    "\n",
    "plt.show()\n"
   ]
  }
 ],
 "metadata": {
  "anaconda-cloud": {},
  "kernelspec": {
   "display_name": "Python 3 (ipykernel)",
   "language": "python",
   "name": "python3"
  },
  "language_info": {
   "codemirror_mode": {
    "name": "ipython",
    "version": 3
   },
   "file_extension": ".py",
   "mimetype": "text/x-python",
   "name": "python",
   "nbconvert_exporter": "python",
   "pygments_lexer": "ipython3",
   "version": "3.12.7"
  }
 },
 "nbformat": 4,
 "nbformat_minor": 4
}
