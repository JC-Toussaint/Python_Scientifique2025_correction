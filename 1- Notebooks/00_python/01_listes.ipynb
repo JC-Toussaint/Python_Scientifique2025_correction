{
 "cells": [
  {
   "cell_type": "markdown",
   "id": "3fa9bc47",
   "metadata": {},
   "source": [
    "# 2- Les collections\n",
    "\n",
    "Plusieurs types de collections en python, dont :\n",
    "- les listes : collection modifiable\n",
    "- les tuples : collection non modifiable\n",
    "- les dictionnaires : collection de paires clé / valeur\n",
    "\n",
    "##  Les listes : definition et exemples\n",
    "Collection __hétérogène, ordonnée et modifiable__ d’éléments\n",
    "\n",
    "- création d'un liste : donner les éléments séparés par des virgules, et entourés de crochets.\n",
    "- accès à un élément d'une liste avec l'opérateur []. La numérotation commence à 0"
   ]
  },
  {
   "cell_type": "code",
   "execution_count": null,
   "id": "2dd83037",
   "metadata": {},
   "outputs": [],
   "source": [
    "fruits = ['figue', 'raisin', 'abricot', 'poire']\n",
    "print(fruits[2]) \n",
    "\n",
    "fruits[1]=13\n",
    "print(fruits) \n",
    "\n",
    "print(len(fruits)) # len renvoie le nombre d'éléments dans la liste"
   ]
  },
  {
   "cell_type": "markdown",
   "id": "eba792b8",
   "metadata": {},
   "source": [
    "On peut faire des listes de listes"
   ]
  },
  {
   "cell_type": "code",
   "execution_count": null,
   "id": "48d53e56",
   "metadata": {},
   "outputs": [],
   "source": [
    "liste1 = [1,2,3,5,7,11,13]\n",
    "liste2 = [4,6,8,9,10,12,14]\n",
    "liste = [liste1, liste2]\n",
    "print(liste)"
   ]
  },
  {
   "cell_type": "markdown",
   "id": "dc7d5a26",
   "metadata": {},
   "source": [
    "### Accès à une sous-liste : slicing\n",
    "\n",
    "On peut accéder à un sous-ensemble d'éléments contigus de la liste grâce à une syntaxe spéciale :\n",
    "- entre crochets, au lieu de spécifier un chiffre, on en utilise 2 voire 3, séparés par le symbole \":\"\n",
    "- ma_liste[2:5] signifie que l'on souhaite extraire les éléments 2 à 5 de la liste\n",
    "- ma_liste[3:7:2] siginfie que l'on souhaite extraire les éléments 3 à 7 par pas de 2\n",
    "\n",
    "Règles concernant les indices\n",
    "- tous les indices sont numérotés en commençant à 0 (ma_liste[0] est le premier élément, ma_liste[1] est le second)\n",
    "- le premier indice (point de départ) est inclus dans la sous-liste\n",
    "- le second indice (point d'arrivée) est exclus de la sous-liste\n",
    "- un indice négatif correspond à un comptage en partant de la fin. maliste[-i] = ma_liste[len(ma_liste)-i]\n",
    "- si un indice n'est pas indiqué, sa valeur par défaut vaut 0 pour le premier indice et \"le dernier élément inclus\" pour le second indice"
   ]
  },
  {
   "cell_type": "code",
   "execution_count": null,
   "id": "2efebe9f",
   "metadata": {},
   "outputs": [],
   "source": [
    "fruits = ['figue', 'raisin', 'abricot', 'poire', 'groseille', 'citron', 'kiwi']\n",
    "\n",
    "fruits_1 = fruits[2] # 'abricot'\n",
    "print(fruits_1)\n",
    "\n",
    "fruits_2 = fruits[2:4] # ['abricot', 'poire']\n",
    "print(fruits_2)\n",
    "\n",
    "fruits_3 = fruits[2:6:2] # ['abricot', 'groseille']\n",
    "print(fruits_3)\n",
    "\n",
    "fruits_4 = fruits[4:-1] # ['groseille', 'citron']\n",
    "print(fruits_4)\n",
    "\n",
    "fruits_5 = fruits[:2] #  ['figue', 'raisin']\n",
    "print(fruits_5)\n",
    "\n",
    "fruits_6 = fruits[4:] # ['groseille', 'citron', 'kiwi']\n",
    "print(fruits_6)"
   ]
  },
  {
   "cell_type": "markdown",
   "id": "abd81e73",
   "metadata": {},
   "source": [
    "Les tranches d'une liste créent une copie partielle de la liste : elles ne partagent pas le même espace mémoire que la liste dont elles sont issues."
   ]
  },
  {
   "cell_type": "code",
   "execution_count": null,
   "id": "ddc9508c",
   "metadata": {},
   "outputs": [],
   "source": [
    "fruits = ['figue', 'raisin', 'abricot', 'poire', 'groseille', 'citron', 'kiwi']\n",
    "print(\"fruits de départ :\\t\", fruits)\n",
    "fruits_6 = fruits[4:] # ['groseille', 'citron', 'kiwi']\n",
    "\n",
    "fruits_6[0] = \"cassis\"\n",
    "print(\"fruits_6 après modif :\\t\", fruits_6) # groseille remplacé par cassis\n",
    "\n",
    "print(\"fruits à la fin :\\t\", fruits) # identique à la liste de départ"
   ]
  },
  {
   "cell_type": "markdown",
   "id": "fdfd8080",
   "metadata": {},
   "source": [
    "## Insertion d’éléments dans une liste"
   ]
  },
  {
   "cell_type": "code",
   "execution_count": null,
   "id": "8ef9ea85",
   "metadata": {},
   "outputs": [],
   "source": [
    "fruits = ['figue', 'raisin', 'abricot', 'poire', 'abricot']\n",
    "print(fruits)\n",
    "\n",
    "fruits.append('orange') # insertion à la fin\n",
    "print(fruits)\n",
    "\n",
    "fruits.insert(2, 'pomme') # insertion avant la position 2\n",
    "print(fruits)"
   ]
  },
  {
   "cell_type": "markdown",
   "id": "07a1cc22",
   "metadata": {},
   "source": [
    "## Suppression et remplacement d’éléments dans une liste.\n",
    "\n",
    "Règle : une tranche dans le membre de gauche, une liste dans le membre de droite\n"
   ]
  },
  {
   "cell_type": "code",
   "execution_count": null,
   "id": "b8dd81f1",
   "metadata": {},
   "outputs": [],
   "source": [
    "fruits = ['figue', 'raisin', 'abricot', 'poire', 'orange']\n",
    "print(fruits)\n",
    "\n",
    "x = fruits.pop() # suppression du dernier élément\n",
    "print(f\"{x} a été supprimé de la liste, les éléments restants sont : {fruits}\")\n",
    "\n",
    "del fruits[1]  # supprime l'élément en position 1 = 'raisin'\n",
    "print(fruits) "
   ]
  },
  {
   "cell_type": "code",
   "execution_count": null,
   "id": "d010bbee",
   "metadata": {},
   "outputs": [],
   "source": [
    "fruits = ['figue', 'raisin', 'abricot', 'poire', 'abricot']\n",
    "print(fruits)\n",
    "fruits.remove('abricot') #enlève la première occurrence de 'abricot'\n",
    "print(fruits)\n",
    "\n",
    "fruits.remove('abricot') # enlève la première occurrence de 'abricot' dans la nouvelle liste\n",
    "print(fruits)\n",
    "\n",
    "fruits.remove('abricot') # essaie d'enlever la première occurrence de 'abricot', mais il n'y en a plus => erreur"
   ]
  },
  {
   "cell_type": "markdown",
   "id": "70757286",
   "metadata": {},
   "source": [
    "Pour vérifier si un élément fait partie d'une liste => mot-clé __in__"
   ]
  },
  {
   "cell_type": "code",
   "execution_count": null,
   "id": "b3a3ce76",
   "metadata": {},
   "outputs": [],
   "source": [
    "fruits = ['figue', 'raisin', 'abricot', 'poire', 'abricot']\n",
    "x = 'abricot' in fruits\n",
    "print(x)"
   ]
  },
  {
   "cell_type": "code",
   "execution_count": null,
   "id": "57824c93",
   "metadata": {},
   "outputs": [],
   "source": [
    "print(fruits.index('abricot'))"
   ]
  },
  {
   "cell_type": "markdown",
   "id": "297dfcf3",
   "metadata": {},
   "source": [
    "### Concaténation de listes"
   ]
  },
  {
   "cell_type": "code",
   "execution_count": null,
   "id": "2a40e3af",
   "metadata": {},
   "outputs": [],
   "source": [
    "fruits = ['figue', 'raisin', 'abricot', 'poire', 'abricot']\n",
    "print(fruits)\n",
    "\n",
    "legumes = ['carotte', 'chou', 'poireau']\n",
    "print(legumes)\n",
    "\n",
    "print(fruits + legumes)"
   ]
  },
  {
   "cell_type": "markdown",
   "id": "b4f04590",
   "metadata": {},
   "source": [
    "Les chaines de caractères sont (presque) des listes de caractères"
   ]
  },
  {
   "cell_type": "code",
   "execution_count": null,
   "id": "3f56d96c",
   "metadata": {},
   "outputs": [],
   "source": [
    "s = 'Bonjour'\n",
    "print(s[2])\n",
    "s.append('!')  # Erreur, les chaînes de caractères ne sont pas modifiables"
   ]
  },
  {
   "cell_type": "markdown",
   "id": "65dab1a0",
   "metadata": {},
   "source": [
    "# Les tuples\n",
    "Un tuple est une collection très semblable à la liste (hétérogène et ordonnée), mais dont on ne peut pas modifier les éléments.\n",
    "\n",
    "Ce type de collection est utile lorsque l'on souhaite que le nombre d'éléments de la collection ne change pas, car cela permet d'attribuer une variable à chaque élément du tuple très simplement.\n",
    "Par ailleurs, les tuples sont utilisés par les fonctions retournant plusieurs valeurs."
   ]
  },
  {
   "cell_type": "code",
   "execution_count": null,
   "id": "223ca8a3",
   "metadata": {},
   "outputs": [],
   "source": [
    "tup = (1,4,8)  # parenthèses => création d'un tuple\n",
    "print(type(tup))\n",
    "\n",
    "print(tup[1]) # 4\n",
    "\n",
    "tup[1] = 5 # erreur : interdiction de modifier un tuple"
   ]
  },
  {
   "cell_type": "code",
   "execution_count": null,
   "id": "3d2a050f",
   "metadata": {},
   "outputs": [],
   "source": [
    "tup = (1,4,8)\n",
    "x,y,z = tup  # création des variables x,y et z à partir des valeurs des éléments du tuple\n",
    "print(y)"
   ]
  },
  {
   "cell_type": "markdown",
   "id": "1a829ed4",
   "metadata": {},
   "source": [
    "# Quelques générateurs\n",
    "Les générateurs sont des fonctions permettant de renvoyer une valeur de manière successive, sans stocker toutes les valeurs en mémoire (on stocke seulement la méthode pour calculer la valeur suivante). On donne ici deux générateurs très utiles : range et enumerate"
   ]
  },
  {
   "cell_type": "code",
   "execution_count": null,
   "id": "9e86d595",
   "metadata": {},
   "outputs": [],
   "source": [
    "a = range(2,6) # suite d'entiers de 2 à 5\n",
    "print(a)\n",
    "print(type(a))\n",
    "\n",
    "# pour connaître les valeurs successives renvoyées par le range, on peut le transformer en liste\n",
    "li = list(a)\n",
    "print(li)"
   ]
  },
  {
   "cell_type": "code",
   "execution_count": null,
   "id": "22ca0898",
   "metadata": {},
   "outputs": [],
   "source": [
    "fruits = ['figue', 'raisin', 'abricot', 'poire', 'abricot']\n",
    "enum = enumerate(fruits)\n",
    "print(enum)\n",
    "print(type(enum))\n",
    "\n",
    "# pour connaitre les valeurs successives de l'objet enumerate, on peut le transformer en liste :\n",
    "li = list(enum)\n",
    "print(li)   # chaque valeur retournée par l'objet enumerate est un tuple contenant la position et la valeur de chaque élément de la liste fournie lors de la création de l'objet enumerate "
   ]
  },
  {
   "cell_type": "markdown",
   "id": "fadd3d24",
   "metadata": {},
   "source": [
    "#  Les dictionnaires\n",
    "Un dictionnaire est  une collection de couples clé-valeur entourée d’accolades.\n",
    "\n",
    "On les appelle aussi \"tableaux associatifs\". \n",
    "Les indices sont appelés \"clés\".\n",
    "\n",
    "\n"
   ]
  },
  {
   "cell_type": "code",
   "execution_count": null,
   "id": "26da4f84",
   "metadata": {},
   "outputs": [],
   "source": [
    "stock = {'figue' : 48, 'raisin' : 33, 'abricot' : 28, 'poire' : 4}  # accolades => création d'un dictionnaire\n",
    "print(stock)\n",
    "\n",
    "print(stock['figue']) # on accède à la valeur d'une clé donnée (ici 'figue') avec l'opérateur []\n",
    "\n",
    "stock['figue'] = 47 # modification d'une valeur\n",
    "stock['citron'] = 100 # création d'une nouvelle paire clé/valeur\n",
    "print(stock)"
   ]
  },
  {
   "cell_type": "code",
   "execution_count": null,
   "id": "290c1a82",
   "metadata": {},
   "outputs": [],
   "source": [
    "inventaire = {'figue' : (120,48,2.5), 'raisin' : (120,33,1.2), 'abricot' : (120,28,3.3), 'poire' : (120,4,0.8)}\n",
    "print(\"stock d'abricots restants :\", inventaire['abricot'][1])"
   ]
  },
  {
   "cell_type": "code",
   "execution_count": null,
   "id": "801dec1c",
   "metadata": {},
   "outputs": [],
   "source": [
    "d = {'Bureau Marie' : 201 , 'Bureau Pierre' : 202 , 'Bureau Alain' : 203 , 'Bureau Jeanne' : 204}\n",
    "if 'Bureau Marie' not in d: d['Bureau Marie'] = 33  # test pour vérifier si une clé appartient à un dictionnaire\n",
    "print(d)"
   ]
  },
  {
   "cell_type": "code",
   "execution_count": null,
   "id": "5b1cc3e7",
   "metadata": {},
   "outputs": [],
   "source": [
    "d = {'Bureau Marie' : 201 , 'Bureau Pierre' : 202 , 'Bureau Alain' : 203 , 'Bureau Jeanne' : 204}\n",
    "\n",
    "print(d.keys())  # liste des clés du dictonnaire\n",
    "print(d.items())  # liste des tuple clé/valeur du dictionnaire"
   ]
  }
 ],
 "metadata": {
  "kernelspec": {
   "display_name": "py312",
   "language": "python",
   "name": "python3"
  },
  "language_info": {
   "codemirror_mode": {
    "name": "ipython",
    "version": 3
   },
   "file_extension": ".py",
   "mimetype": "text/x-python",
   "name": "python",
   "nbconvert_exporter": "python",
   "pygments_lexer": "ipython3",
   "version": "3.12.4"
  }
 },
 "nbformat": 4,
 "nbformat_minor": 5
}
