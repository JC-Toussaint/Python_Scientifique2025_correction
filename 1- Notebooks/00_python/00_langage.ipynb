{
 "cells": [
  {
   "cell_type": "markdown",
   "metadata": {},
   "source": [
    "# Le langage Python \n",
    "\n",
    "Python est un langage de __programmation__ objet, multiplateformes. Il favorise la programmation impérative structurée, fonctionnelle et orientée objet. Il est doté d'un typage dynamique, d'une gestion automatique de la mémoire par ramasse-miettes et d'un système de gestion d'exceptions "
   ]
  },
  {
   "cell_type": "markdown",
   "metadata": {},
   "source": [
    "## Références\n",
    "* Tutoriaux python http://www.python-course.eu\n",
    "* G. Swinnen, “Apprendre à programmer avec Python3”, Eyrolles (ISBN 978-2-212-13434-6)\n",
    "* I. Idris, ”Numpy Beginner’s guide”, Packt Publishing\n",
    "* J. Grus, ”Data Science from Scratch”, O’Reilly\n",
    "* W. McKinney, ”Python for Data Analysis”, O’Reilly "
   ]
  },
  {
   "cell_type": "markdown",
   "metadata": {},
   "source": [
    "# Introduction\n",
    "\n",
    "## Utilisation du notebook\n",
    "\n",
    "* Le curseur est localisé sur la cellule active\n",
    "  * <kbd>CTRL</kbd> + <kbd>ENTER</kbd> execute le contenu de la cellule\n",
    "  * <kbd>SHIFT</kbd> + <kbd>ENTER</kbd> executela cellule et déplace le curseur sur la suivante voire en crée une nouvelle\n",
    "\n",
    "* Pour passer du mode edit en mode meta en pressant <kbd>ESC</kbd>\n",
    "  * suivi de <kbd>h</kbd> pour obtenir de l'aide\n",
    "  * suivi de <kbd>m</kbd> pour passer en mode texte (markdown)\n",
    "  * suivi de <kbd>y</kbd> pour passer en mode code\n",
    "  * suivi de <kbd>x</kbd> pour supprimer la cellule courante\n",
    "  * suivi de <kbd>l</kbd> pour avoir les numeros de ligne\n",
    "  \n",
    "* Pour passer du mode meta au mode edit en pressant <kbd>ENTER</kbd>\n",
    "  * En mode edit <kbd>ENTER</kbd> génère un retour chariot ou permet d'éditer du texte \n",
    "  * _mode text_ autorise des expressions $\\LaTeX$, html, javascript, ...\n",
    "  * _mode code_ permet de compléter une instruction (<kbd>TAB</kbd>), help (?), ..."
   ]
  },
  {
   "cell_type": "markdown",
   "metadata": {},
   "source": [
    "## La fonction print "
   ]
  },
  {
   "cell_type": "code",
   "execution_count": null,
   "metadata": {},
   "outputs": [],
   "source": [
    "print(\"bonjour\") # affiche une chaine de caractères\n",
    "print(42) # affiche un entier\n",
    "print(3.14) # affiche un flottant"
   ]
  },
  {
   "cell_type": "code",
   "execution_count": null,
   "metadata": {},
   "outputs": [],
   "source": [
    "x = 12\n",
    "print(x) # affiche la valeur de la variable x\n",
    "y = \"bonjour\"\n",
    "print(y)# affiche la valeur de la chaine de caractères y\n",
    "print(2*x)  # calcule une expression puis l'affiche\n",
    "print(x+2, y) # on peut afficher plusieurs valeurs à la fois"
   ]
  },
  {
   "cell_type": "code",
   "execution_count": null,
   "metadata": {},
   "outputs": [],
   "source": [
    "# les variables sont sauvegardées entre les différentes cellules du notebook\n",
    "print(x, y, sep=' - ') # on peut changer le séparateur entre les valeurs\n",
    "print(2*x, y, end='. ') # on peut changer la fin de ligne\n",
    "print(\"fin\")"
   ]
  },
  {
   "cell_type": "markdown",
   "metadata": {},
   "source": [
    "# Les données et les variables\n",
    "Variable : nom donné à une valeur = référence à une adresse mémoire.\n"
   ]
  },
  {
   "cell_type": "code",
   "execution_count": null,
   "metadata": {},
   "outputs": [],
   "source": [
    "a = 1 # on affecte la valeur 1 à la variable a\n",
    "a = 2 # on change la valeur de a\n",
    "a = a+1 # on change la valeur de a en utilisant sa valeur actuelle (le terme de droite est évalué avant l'affectation)\n",
    "a = 2.5 # on change la valeur et le type de a\n",
    "print(a) # affiche la valeur actuelle de a\n",
    "print(type(a)) # affiche le type de a"
   ]
  },
  {
   "cell_type": "markdown",
   "metadata": {},
   "source": [
    "### les types d'objets\n",
    "\n",
    "- nombre entier : int\n",
    "- nombre flottant : float\n",
    "- nombre complexe : complex\n",
    "- chaine de caractères : str\n",
    "- booléen : bool"
   ]
  },
  {
   "cell_type": "markdown",
   "metadata": {},
   "source": [
    "### Arithmétique de base sur les nombres"
   ]
  },
  {
   "cell_type": "code",
   "execution_count": null,
   "metadata": {},
   "outputs": [],
   "source": [
    "div=19//3 # division entière\n",
    "print(div)\n",
    "\n",
    "mod=19%3 # reste de la division entière\n",
    "print(mod)\n",
    "\n",
    "puis=2**0.5 # puissance\n",
    "print(puis)"
   ]
  },
  {
   "cell_type": "markdown",
   "metadata": {},
   "source": [
    "# Conversion de types\n",
    "Pour convertir une variable dans un nouveau type, on utilise le nom du type cible.\n",
    "\n",
    "Exemple : conversion d'une chaine de caractères vers un nombre"
   ]
  },
  {
   "cell_type": "code",
   "execution_count": null,
   "metadata": {},
   "outputs": [],
   "source": [
    "a = '10'\n",
    "b = int(a) # conversion de la chaine de caractères '10' en entier\n",
    "print(a, b)\n",
    "\n",
    "c = float(a) # conversion de la chaine de caractères '10' en flottant\n",
    "print(a, c)"
   ]
  },
  {
   "cell_type": "markdown",
   "metadata": {},
   "source": [
    "Conversion numérique -> chaine de caractères"
   ]
  },
  {
   "cell_type": "code",
   "execution_count": null,
   "metadata": {},
   "outputs": [],
   "source": [
    "a = 12.8\n",
    "b = str(a) # conversion du flottant 12.8 en chaine de caractères\n",
    "print(a, b)\n",
    "print(type(a), type(b)) # affiche le type de a et b"
   ]
  },
  {
   "cell_type": "markdown",
   "metadata": {},
   "source": [
    "# Expressions booléennes\n",
    "Deux valeurs possibles : False, True. (Attention première lettre en majuscule !)\n",
    "\n",
    "Operateurs de comparaison : ==  !=  >  >= <  <="
   ]
  },
  {
   "cell_type": "code",
   "execution_count": null,
   "metadata": {},
   "outputs": [],
   "source": [
    "b = 2<8\n",
    "print(b)\n",
    "\n",
    "t= 2<=8<15\n",
    "print(t, \"de type :\", type(t))"
   ]
  },
  {
   "cell_type": "code",
   "execution_count": null,
   "metadata": {},
   "outputs": [],
   "source": [
    "b1 = 1.0 == 1\n",
    "print(b1) # affiche True car 1.0 est égal à 1, même si les types sont différents. \n",
    "#ATTENTION : Eviter les comparaisons entre flottants avec == car elles peuvent être imprécises.\n",
    "\n",
    "b2 = 0.1 == 0.10000000000000001\n",
    "print(b2) # affiche True à cause de la précision avec laquelle les flottants sont stockés en mémoire.\n",
    "\n",
    "# il est préférable d'utiliser la fonction abs pour comparer les flottants\n",
    "x = 0.1\n",
    "y = 0.10000000000000001\n",
    "b3 = abs(x-y) < 1e-10 \n",
    "print(b3) # affiche True si la différence entre x et y est inférieure à 1e-10, ce qui est une manière de comparer les flottants de manière plus sûre."
   ]
  },
  {
   "cell_type": "markdown",
   "metadata": {},
   "source": [
    "Operateurs logiques  : not, or, and"
   ]
  },
  {
   "cell_type": "code",
   "execution_count": null,
   "metadata": {},
   "outputs": [],
   "source": [
    "b = (3==3) or (9 >24) \n",
    "print(b)"
   ]
  },
  {
   "cell_type": "markdown",
   "metadata": {},
   "source": [
    "### Implémentation de xor\n",
    "(a or b) and not (a and b)"
   ]
  },
  {
   "cell_type": "code",
   "execution_count": 10,
   "metadata": {},
   "outputs": [
    {
     "name": "stdout",
     "output_type": "stream",
     "text": [
      "False\n",
      "False\n"
     ]
    }
   ],
   "source": [
    "a, b = True, True\n",
    "t = (a or b) and not (a and b)\n",
    "print(t)\n",
    "print(a ^ b)"
   ]
  },
  {
   "cell_type": "markdown",
   "metadata": {},
   "source": [
    "#  Les entrées utilisateur\n",
    "L'instruction input permet de saisir une entrée au clavier. Elle retourne une chaine de caractères. \n",
    "\n",
    "Cela impose de faire une conversion de type explicite si l'on demande un nombre à l'utilisateur\n"
   ]
  },
  {
   "cell_type": "code",
   "execution_count": null,
   "metadata": {},
   "outputs": [],
   "source": [
    "chaine = input(\"taper quelque chose : \")\n",
    "print(chaine, type(chaine))"
   ]
  },
  {
   "cell_type": "code",
   "execution_count": null,
   "metadata": {},
   "outputs": [],
   "source": [
    "n = int(input(\"Entrez une valeur entière :\"))\n",
    "print(n)"
   ]
  },
  {
   "cell_type": "code",
   "execution_count": null,
   "metadata": {},
   "outputs": [],
   "source": [
    "x = float(input(\"Entrez une valeur réelle :\"))\n",
    "print(x)"
   ]
  },
  {
   "cell_type": "markdown",
   "metadata": {},
   "source": [
    "\n",
    "# Les sorties formatées\n",
    "La méthode recommandée pour formatter les chaines de caractères est le f-string\n"
   ]
  },
  {
   "cell_type": "code",
   "execution_count": null,
   "metadata": {},
   "outputs": [],
   "source": [
    "nom = \"Jojo\"\n",
    "chaine = f'Bonjour {nom}, comment ça va ?'\n",
    "\n",
    "print(chaine)  "
   ]
  },
  {
   "cell_type": "code",
   "execution_count": null,
   "metadata": {},
   "outputs": [],
   "source": [
    "x=123.456; y=-23.45\n",
    "print(f\"x={x:.2f}, y={y:.5f}\")  # formatage utilisant les f-strings"
   ]
  },
  {
   "cell_type": "code",
   "execution_count": null,
   "metadata": {},
   "outputs": [],
   "source": [
    "s1=f'la valeur de x est {x:+10.2f}'\n",
    "s2=f'la valeur de y est {y:+10.2f}'\n",
    "print(s1)\n",
    "print(s2)\n",
    "\n",
    "s=f'les valeurs de x et y sont {x:.2e} et {y:.2e}'\n",
    "print(s)"
   ]
  }
 ],
 "metadata": {
  "anaconda-cloud": {},
  "kernelspec": {
   "display_name": "Python 3 (ipykernel)",
   "language": "python",
   "name": "python3"
  },
  "language_info": {
   "codemirror_mode": {
    "name": "ipython",
    "version": 3
   },
   "file_extension": ".py",
   "mimetype": "text/x-python",
   "name": "python",
   "nbconvert_exporter": "python",
   "pygments_lexer": "ipython3",
   "version": "3.12.7"
  }
 },
 "nbformat": 4,
 "nbformat_minor": 4
}
