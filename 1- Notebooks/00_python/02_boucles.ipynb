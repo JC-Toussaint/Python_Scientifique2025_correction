{
 "cells": [
  {
   "cell_type": "markdown",
   "id": "9ddabf72",
   "metadata": {},
   "source": [
    "# Instructions conditionnelles\n",
    "Il est possible, après un if de tester autant de conditions que l'on\n",
    "souhaite avec des elif (y compris 0); par contre, il ne peut y avoir\n",
    "qu'un seul else à la fin.\n",
    "\n",
    "Le caractère : est obligatoire a la fin de chaque ligne contenant if, elif ou else.\n",
    "Chaque bloc d'instructions est indenté\n",
    " "
   ]
  },
  {
   "cell_type": "code",
   "execution_count": null,
   "id": "76e23583",
   "metadata": {},
   "outputs": [],
   "source": [
    "x, y = 10, 20\n",
    "\n",
    "# Ecriture classique\n",
    "if x<y:    \n",
    "   min=x     #   ATTENTION un bloc est une liste d'instructions indentée\n",
    "else:    \n",
    "   min=y     #   ATTENTION un bloc est une liste d'instructions indentée\n",
    "\n",
    "# Syntaxe abrégée\n",
    "min = x if x<y else y\n",
    "print(min)"
   ]
  },
  {
   "cell_type": "markdown",
   "id": "a01879bc",
   "metadata": {},
   "source": [
    "# Les boucles\n",
    "boucle while : répéter une portion de code sous condition"
   ]
  },
  {
   "cell_type": "code",
   "execution_count": null,
   "id": "b82f4399",
   "metadata": {},
   "outputs": [],
   "source": [
    "x = 10\n",
    "while x != 0:\n",
    "    x=x-1\n",
    "    print (\" décroit, valeur non nulle egale à \", x)\n",
    "print (\"La boucle est finie, x est nul\")\n"
   ]
  },
  {
   "cell_type": "code",
   "execution_count": null,
   "id": "55953fe5",
   "metadata": {},
   "outputs": [],
   "source": [
    "x = 0\n",
    "while x != 10:\n",
    "    print (\"valeur non nulle egale à \", x)\n",
    "    x=x+1\n",
    "\n",
    "print (\"La boucle est finie\")"
   ]
  },
  {
   "cell_type": "code",
   "execution_count": null,
   "id": "9791a3b4",
   "metadata": {},
   "outputs": [],
   "source": [
    "x=0\n",
    "while True:\n",
    "    print(x)\n",
    "    if x==9:\n",
    "        break\n",
    "    x=x+1\n",
    "    "
   ]
  },
  {
   "cell_type": "code",
   "execution_count": null,
   "id": "bfd4c293",
   "metadata": {},
   "outputs": [],
   "source": [
    "while True:\n",
    "    try:\n",
    "        n = int(input(\"Entrez une valeur entière : \"))\n",
    "        break\n",
    "    except ValueError:\n",
    "        print(\"Oops!  Essayez encore ...\")\n",
    "\n",
    "print('n =', n)"
   ]
  },
  {
   "cell_type": "markdown",
   "id": "6eb18ed4",
   "metadata": {},
   "source": [
    "boucle for : répéter une portion de code pour chaque valeur d'une séquence ou d'un générateur\n",
    "(chaine de caractères, liste, tuple, range, ...). "
   ]
  },
  {
   "cell_type": "code",
   "execution_count": null,
   "id": "57fa8f4d",
   "metadata": {},
   "outputs": [],
   "source": [
    "for i in range(0, 10, 2):\n",
    "    print(i)\n",
    "    \n",
    "lst = [\"bleu\", \"rouge\", \"jaune\"]\n",
    "for i in lst:\n",
    "    print(\"ma couleur préférée est le\", i)\n",
    "    \n",
    "for lettre in \"bonjour\":\n",
    "    print(lettre)"
   ]
  },
  {
   "cell_type": "code",
   "execution_count": null,
   "id": "2fc4d40d",
   "metadata": {},
   "outputs": [],
   "source": [
    "couleurs = [\"bleu\", \"rouge\", \"jaune\"]\n",
    "\n",
    "for numero, couleur in enumerate(couleurs):\n",
    "    print(f\"la couleur numéro {numero} est le {couleur}\")"
   ]
  },
  {
   "cell_type": "code",
   "execution_count": null,
   "id": "7a7cf476",
   "metadata": {},
   "outputs": [],
   "source": [
    "stock = {'figue' : 48, 'raisin' : 33, 'abricot' : 28, 'poire' : 4}\n",
    "for fruit, nombre in stock.items():\n",
    "    print(f\"le fruit {fruit} a un stock de {nombre}\")"
   ]
  },
  {
   "cell_type": "code",
   "execution_count": null,
   "id": "bdea09eb",
   "metadata": {},
   "outputs": [],
   "source": [
    "inventaire = {'figue' : (120,48,2.5), 'raisin' : (120,33,1.2), 'abricot' : (120,28,3.3), 'poire' : (120,4,0.8)}\n",
    "\n",
    "for fruit, (max, stock, prix) in inventaire.items():\n",
    "    print(f\"le fruit {fruit} a un stock de {stock} / {max}, son prix au kg est {prix:.2f}\")"
   ]
  },
  {
   "cell_type": "markdown",
   "id": "a2a3e7c9",
   "metadata": {},
   "source": [
    "# Les exceptions\n",
    "\n",
    "Les exceptions sont le mécanisme permettant d'interrompre le programme en cas d'instruction qui ne peut pas être traitée"
   ]
  },
  {
   "cell_type": "code",
   "execution_count": null,
   "id": "d8dd61db",
   "metadata": {},
   "outputs": [],
   "source": [
    "x = input(\"entrez un nombre : \")\n",
    "inverse = 1/float(x)\n",
    "print(f\"l'inverse de ce nombre est {inverse}\")"
   ]
  },
  {
   "cell_type": "code",
   "execution_count": null,
   "id": "34b661e8",
   "metadata": {},
   "outputs": [],
   "source": [
    "# si l'utilisateur entre 0\n",
    "inverse = 1/0\n",
    "print(f\"l'inverse de ce nombre est {inverse}\")"
   ]
  },
  {
   "cell_type": "code",
   "execution_count": null,
   "id": "7ebad299",
   "metadata": {},
   "outputs": [],
   "source": [
    "# pour redemander un nombre à l'utilisateur si celui-ci entre zéro\n",
    "while True:\n",
    "     x = input(\"entrez un nombre non nul: \")\n",
    "     if float(x) == 0: print(\"Vous avez tapé 0 (zéro), veuillez entrez un nombre non nul !!\")\n",
    "     else: break\n",
    "inverse = 1/float(x)\n",
    "print(f\"l'inverse de {x} est {inverse}\")"
   ]
  },
  {
   "cell_type": "code",
   "execution_count": null,
   "id": "320056e6",
   "metadata": {},
   "outputs": [],
   "source": [
    "# et si l'utilisateur ne tape pas un nombre :\n",
    "x = float('a')\n",
    "inverse = 1/x\n",
    "print(f\"l'inverse de ce nombre est {inverse}\")"
   ]
  },
  {
   "cell_type": "code",
   "execution_count": null,
   "id": "4320d006",
   "metadata": {},
   "outputs": [],
   "source": [
    "# pour redemander un nombre à l'utilisateur si celui-ci entre zéro ou s'il entre autre chose qu'un nombre\n",
    "while True:\n",
    "     x = input(\"entrez un nombre non nul: \")\n",
    "     try: \n",
    "         y = float(x)\n",
    "     except: \n",
    "         print(f\"{x} n'est pas un nombre, veuillez entrez un nombre !!\", flush=True)\n",
    "         continue\n",
    "     if y == 0: print(\"Vous avez tapé 0 (zéro), veuillez entrez un nombre non nul !!\")\n",
    "     else: break\n",
    "inverse = 1/y\n",
    "print(f\"l'inverse de {x} est {inverse}\")"
   ]
  },
  {
   "cell_type": "code",
   "execution_count": null,
   "id": "e97f6e4c",
   "metadata": {},
   "outputs": [],
   "source": [
    "# Version plus lisible utilisant le type d'erreur :\n",
    "while True:\n",
    "    x = input(\"entrez un nombre non nul: \")\n",
    "    try: \n",
    "        y = 1/float(x)\n",
    "        break\n",
    "    except ValueError: \n",
    "        print(f\"{x} n'est pas un nombre, veuillez entrez un nombre !!\", flush=True)\n",
    "    except ZeroDivisionError:\n",
    "        print(\"Vous avez tapé 0 (zéro), veuillez entrez un nombre non nul !!\", flush=True)\n",
    "    \n",
    "inverse = y\n",
    "print(f\"l'inverse de {x} est {inverse}\")"
   ]
  }
 ],
 "metadata": {
  "kernelspec": {
   "display_name": "Python 3 (ipykernel)",
   "language": "python",
   "name": "python3"
  },
  "language_info": {
   "codemirror_mode": {
    "name": "ipython",
    "version": 3
   },
   "file_extension": ".py",
   "mimetype": "text/x-python",
   "name": "python",
   "nbconvert_exporter": "python",
   "pygments_lexer": "ipython3",
   "version": "3.12.7"
  }
 },
 "nbformat": 4,
 "nbformat_minor": 5
}
