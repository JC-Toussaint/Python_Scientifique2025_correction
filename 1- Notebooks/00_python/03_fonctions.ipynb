{
 "cells": [
  {
   "cell_type": "markdown",
   "id": "20c50c90",
   "metadata": {},
   "source": [
    "# Les fonctions\n",
    "Groupe d’instructions regroupé sous un nom et s’exécutant à la demande de l'utilisateur, lors de l'appel.\n",
    "\n",
    "Dans la définition précédente, nom_fonction est le nom qui sera utilisée ultérieurement pour appeler la fonction ;\n",
    "Le bloc d'instructions est obligatoire. S'il ne fait rien ou si le code\n",
    "n'est pas encore écrit, on utilise l'instruction pass.\n",
    "\n",
    "La documentation est fortement conseillée.\n",
    "\n",
    "Une fonction peut retourner plusieurs valeurs séparées par des virgules.\n",
    "help(nom_fonction) retourne la doc-string\n"
   ]
  },
  {
   "cell_type": "code",
   "execution_count": null,
   "id": "ac8d7a92",
   "metadata": {},
   "outputs": [],
   "source": [
    "def somme():\n",
    "    \"\"\" somme des 10 premiers entiers\"\"\"\n",
    "    s=0\n",
    "    for x in range(1, 11):  # range(binf, bsup) avec bsup exclu\n",
    "        s+=x\n",
    "    return s\n",
    "\n",
    "# appel de la fonction\n",
    "print (\"La somme est \", somme())\n",
    "\n",
    "help(somme)\n"
   ]
  },
  {
   "cell_type": "code",
   "execution_count": null,
   "id": "26cfd684",
   "metadata": {},
   "outputs": [],
   "source": [
    "def somme(n):\n",
    "    \"\"\" somme des n premiers entiers\"\"\"\n",
    "    s=0\n",
    "    for x in range(1, n+1):  # range(binf, bsup) avec bsup exclu\n",
    "        s+=x\n",
    "    return s\n",
    "\n",
    "# appel de la fonction\n",
    "print (\"La somme des 20 premiers entiers est \", somme(20))\n",
    "\n",
    "help(somme)"
   ]
  },
  {
   "cell_type": "code",
   "execution_count": null,
   "id": "073f5918",
   "metadata": {},
   "outputs": [],
   "source": [
    "def som_dif(x, y):\n",
    "    \"\"\" somme et différence \"\"\"\n",
    "    return x+y, x-y\n",
    "\n",
    "# appel de la fonction\n",
    "print (\"somme et difference sont :\", som_dif(10, 20))\n",
    "#help(som_dif)\n",
    "s, d = som_dif(10, 20)\n",
    "print(s)\n",
    "print(d)"
   ]
  },
  {
   "cell_type": "markdown",
   "id": "b85bfc6b",
   "metadata": {},
   "source": [
    "# Les fonctions : passage de paramètres par nom"
   ]
  },
  {
   "cell_type": "code",
   "execution_count": null,
   "id": "7d1388b2",
   "metadata": {},
   "outputs": [],
   "source": [
    "def f(x, y): \n",
    "    print('x=', x)\n",
    "    print('y=', y)\n",
    "    \n",
    "# appel de la fonction avec la valeur de z par défaut\n",
    "f(10, 20)\n",
    "print(\"-\"*10)\n",
    "\n",
    "# On peut aussi passer les paramètres en spécifiant explicitement leur nom (passage par nom) \n",
    "f(x=11, y=22) \n",
    "print(\"-\"*10)\n",
    "f(y=20, x=10)  "
   ]
  },
  {
   "cell_type": "markdown",
   "id": "37e7fbd0",
   "metadata": {},
   "source": [
    "#  paramètres par défaut"
   ]
  },
  {
   "cell_type": "code",
   "execution_count": null,
   "id": "f49aa894",
   "metadata": {},
   "outputs": [],
   "source": [
    "def f(x, y=0):\n",
    "    print('x=', x)\n",
    "    print('y=', y)\n",
    "\n",
    "# appel de la fonction\n",
    "f(10, 20)\n",
    "print(\"-\"*10)\n",
    "\n",
    "# un paramètre avec une valeur par défaut peut ne pas être spécifié. \n",
    "f(33)"
   ]
  },
  {
   "cell_type": "markdown",
   "id": "9ac6312c",
   "metadata": {},
   "source": [
    "#  Exercice\n",
    "Comprendre le code suivant"
   ]
  },
  {
   "cell_type": "code",
   "execution_count": null,
   "id": "ff3dd479",
   "metadata": {},
   "outputs": [],
   "source": [
    "def square(x):\n",
    "    return x**2\n",
    "\n",
    "def cube(x):\n",
    "    return x**3\n",
    "\n",
    "lst=[square, cube]\n",
    "\n",
    "f = lst[1]\n",
    "print(f)\n",
    "print(f(2))\n",
    "print(\"-\"*10)\n",
    "\n",
    "for f in lst:\n",
    "    print(f(10))"
   ]
  },
  {
   "cell_type": "markdown",
   "id": "9ecf05c9",
   "metadata": {},
   "source": [
    "# Les fonctions à nombre d’arguments variable \n",
    "\n",
    "L'opérateur * permet de \"désassembler\" un tuple"
   ]
  },
  {
   "cell_type": "code",
   "execution_count": null,
   "id": "8503f957",
   "metadata": {},
   "outputs": [],
   "source": [
    "def print_sum(x,y):\n",
    "    print(x+y)\n",
    "\n",
    "tup = (1, 2)\n",
    "print_sum(tup) # erreur car il faut 2 arguments à la fonction print_sum"
   ]
  },
  {
   "cell_type": "code",
   "execution_count": null,
   "id": "b166846c",
   "metadata": {},
   "outputs": [],
   "source": [
    "# écrire le code permettant d'utiliser la fonction print_sum à partir des informations contenues dans la variable tup\n"
   ]
  },
  {
   "cell_type": "markdown",
   "id": "fab364ec",
   "metadata": {},
   "source": [
    "Dans la définition d'une fonction, un paramètre précédé de * permet de passer à une fonction un nombre indéfini d'arguments."
   ]
  },
  {
   "cell_type": "code",
   "execution_count": null,
   "id": "17f62c97",
   "metadata": {},
   "outputs": [],
   "source": [
    "def analyse(*ar) : \n",
    "    print(type(ar))\n",
    "    for e in ar :\n",
    "        print(f\"variable {e} de type : {type(e)}\")\n",
    "\n",
    "analyse('toto', [1, 2, 3], [4, 5])"
   ]
  },
  {
   "cell_type": "code",
   "execution_count": null,
   "id": "b96011a6",
   "metadata": {},
   "outputs": [],
   "source": [
    "def analyse(**ar):\n",
    "    print(type(ar))\n",
    "    for nom, val in ar.items() :\n",
    "        print(f\"la variable {nom} est de type {type(val)}, elle vaut {val}\")\n",
    "        \n",
    "analyse(a='toto', param1=[1, 2, 3], param2=[4, 5])"
   ]
  },
  {
   "cell_type": "markdown",
   "id": "1fc78322",
   "metadata": {},
   "source": [
    "### Exercice :\n",
    "écrire une fontion analyse qui peut analyser à la fois des paramètres nommés et des paramètres non nommés"
   ]
  },
  {
   "cell_type": "code",
   "execution_count": null,
   "id": "d737c5ee-f123-47cc-bd1d-99e323b17d78",
   "metadata": {},
   "outputs": [],
   "source": []
  },
  {
   "cell_type": "markdown",
   "id": "3ec35ff4",
   "metadata": {},
   "source": [
    "# Le typage\n",
    "\n",
    "Python n'est pas un langage qui nécessite de décrire le type d'une variable lorsqu'on la crée. Cependant, indiquer le type d'une variable est possible. Cela permet de rendre votre code plus lisible et est très intéressant pour les gros projets. Il est surtout intéressant de donner le type des arguments et de la valeur de retour des fonctions.\n",
    "\n",
    "Attention, l'annotation des types et purement indicative, on peut la considérer comme un commentaire. Python n'empêche pas le fonctionnement d'un programme lorqu'une variable du mauvais type est fournie à une fonction. "
   ]
  },
  {
   "cell_type": "code",
   "execution_count": null,
   "id": "cb1f0c09",
   "metadata": {},
   "outputs": [],
   "source": [
    "def somme(x: float, y: float) -> float:\n",
    "    \"\"\"retourne la somme des deux arguments\"\"\"\n",
    "    return x+y\n",
    "\n",
    "def som_dif(x: float, y: float) -> tuple[float, float]:\n",
    "    return (x+y, x-y)"
   ]
  }
 ],
 "metadata": {
  "kernelspec": {
   "display_name": "Python 3 (ipykernel)",
   "language": "python",
   "name": "python3"
  },
  "language_info": {
   "codemirror_mode": {
    "name": "ipython",
    "version": 3
   },
   "file_extension": ".py",
   "mimetype": "text/x-python",
   "name": "python",
   "nbconvert_exporter": "python",
   "pygments_lexer": "ipython3",
   "version": "3.12.7"
  }
 },
 "nbformat": 4,
 "nbformat_minor": 5
}
