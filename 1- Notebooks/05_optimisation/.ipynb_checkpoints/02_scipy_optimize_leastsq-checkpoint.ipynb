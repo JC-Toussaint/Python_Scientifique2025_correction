{
 "cells": [
  {
   "cell_type": "markdown",
   "metadata": {},
   "source": [
    "# Méthode des moindres carrés\n",
    "\n",
    "La méthode des moindres carrés, indépendamment élaborée par Legendre et Gauss au début du XIXe siècle, permet de comparer des données expérimentales, généralement entachées d’erreurs de mesure, à un modèle mathématique censé décrire ces données. \n",
    "\n",
    "* Régression linéaire : \n",
    "l'utilisation de la régression linéaire se rencontre par exemple lorsque l'on veut étalonner un appareil de mesure simple dont la loi de comportement est linéaire.\n",
    "\n",
    "On veut minimiser la variance par rapport à a et b :\n",
    "$$ \\sigma^2 =\\sum_{i=0}^{N-1} (y_i-a x_i -b)^2$$\n",
    "\n",
    "En notant  $u=\\left(\n",
    "\\begin{array}{c}\n",
    "a \\\\ b\n",
    "\\end{array}\n",
    "\\right)\n",
    "$\n",
    "et $y=\\left(\n",
    "\\begin{array}{c c}\n",
    "y_{0} \\\\\n",
    "y_{1} \\\\\n",
    "\\vdots\\\\\n",
    "y_{N-1} \\\\\n",
    "\\end{array}\n",
    "\\right)\n",
    "$\n",
    "et en introduisant $A=\\left(\n",
    "\\begin{array}{c c}\n",
    "x_{0}   & 1  \\\\\n",
    "x_{1}   & 1  \\\\\n",
    "\\vdots  & \\vdots \\\\\n",
    "x_{N-1}   & 1  \\\\\n",
    "\\end{array}\n",
    "\\right)$\n",
    "\n",
    "La variance s'écrit : $ (u^t A^t -b) (b-A u) $. La minimisation de la variation par rapport à $u$ donne :\n",
    "$\\delta u^t A^t (b-Au) =0 $. \n",
    "\n",
    "La variable $u$ doit vérifier le système d'équations linéaires :\n",
    "$A^t A u = A^t b$\n"
   ]
  },
  {
   "cell_type": "code",
   "execution_count": 5,
   "metadata": {},
   "outputs": [
    {
     "name": "stdout",
     "output_type": "stream",
     "text": [
      "[[ 2.85  4.5 ]\n",
      " [ 4.5  10.  ]]   <class 'numpy.ndarray'>\n",
      "[3.06492488 5.07982439]   <class 'numpy.ndarray'>   (2,)\n"
     ]
    },
    {
     "data": {
      "image/png": "[encoded data removed]",
      "text/plain": [
       "<Figure size 432x288 with 1 Axes>"
      ]
     },
     "metadata": {
      "needs_background": "light"
     },
     "output_type": "display_data"
    }
   ],
   "source": [
    "import matplotlib.pyplot as plt\n",
    "import numpy as np\n",
    "from scipy import optimize\n",
    "\n",
    "def f(coeff, x, y):\n",
    "    d=(y-coeff[0]*x-coeff[1])\n",
    "    return d\n",
    "\n",
    "x=np.linspace(0, 1, 10, endpoint=False) \n",
    "y=x.copy()+np.random.rand(x.shape[0])*0.1\n",
    "\n",
    "plt.figure()\n",
    "plt.plot(x, y, 'o')\n",
    "guest=(0, 0)\n",
    "\n",
    "res = optimize.leastsq(f, guest[:], args=(x, y))\n",
    "\n",
    "xfit=np.linspace(0, 1, 2, endpoint=True) \n",
    "yfit=res[0][0]*xfit+res[0][1]\n",
    "plt.plot(xfit, yfit, 'r-')\n",
    "\n",
    "\n",
    "# Approche implementation moindre carrée sous forme syslin\n",
    "un=np.ones_like(x)\n",
    "A=np.vstack((x, un))\n",
    "\n",
    "R=A.dot(A.T)\n",
    "#print(R.shape)\n",
    "b=A.dot(y)\n",
    "\n",
    "print(R, ' ', type(R))\n",
    "print(b, ' ', type(b), ' ', b.shape)\n",
    "coeff=np.linalg.solve(R, b)\n",
    "yfit2=coeff[0]*xfit+coeff[1]\n",
    "plt.plot(xfit, yfit2, 'g.-')\n",
    "plt.grid()\n",
    "plt.show()"
   ]
  },
  {
   "cell_type": "code",
   "execution_count": 75,
   "metadata": {},
   "outputs": [
    {
     "name": "stdout",
     "output_type": "stream",
     "text": [
      "[ 1.02018134  0.02995163]\n"
     ]
    }
   ],
   "source": [
    "print(coeff)"
   ]
  },
  {
   "cell_type": "code",
   "execution_count": 76,
   "metadata": {},
   "outputs": [
    {
     "name": "stdout",
     "output_type": "stream",
     "text": [
      "(array([ 1.02018134,  0.02995163]), 3)\n"
     ]
    }
   ],
   "source": [
    "print(res)"
   ]
  },
  {
   "cell_type": "code",
   "execution_count": null,
   "metadata": {
    "collapsed": true
   },
   "outputs": [],
   "source": [
    "import matplotlib.pyplot as plt\n",
    "from scipy.optimize import curve_fit\n",
    "\n",
    "def func(x, a, b, c):\n",
    "\n",
    "    return a * np.exp(-b * x) + c"
   ]
  }
 ],
 "metadata": {
  "anaconda-cloud": {},
  "kernelspec": {
   "display_name": "Python 3 (ipykernel)",
   "language": "python",
   "name": "python3"
  },
  "language_info": {
   "codemirror_mode": {
    "name": "ipython",
    "version": 3
   },
   "file_extension": ".py",
   "mimetype": "text/x-python",
   "name": "python",
   "nbconvert_exporter": "python",
   "pygments_lexer": "ipython3",
   "version": "3.9.7"
  }
 },
 "nbformat": 4,
 "nbformat_minor": 1
}
