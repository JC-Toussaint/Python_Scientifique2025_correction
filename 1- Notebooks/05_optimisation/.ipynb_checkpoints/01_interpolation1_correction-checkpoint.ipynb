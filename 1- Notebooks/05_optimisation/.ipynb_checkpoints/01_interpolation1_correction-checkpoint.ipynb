{
 "cells": [
  {
   "cell_type": "markdown",
   "metadata": {},
   "source": [
    "# Interpolation par collocation\n",
    "\n",
    "L'interpolation polynomiale consiste à faire passer un polynôme de degré n passant par les (n + 1) points\n",
    "de collocation $((x_i, y_i)$ pour $i \\in [0, n]$ :\n",
    "$y_i = P_n(x_i) =  \\sum_{j=0}^n a_j x_i^j$\n",
    "\n",
    "L'approche la plus directe revient à résoudre un système d'équations linéaires où intervient la matrice de Vandermonde: \n",
    "\n",
    "$$\n",
    "\\left(\n",
    "\\begin{array}{c c c c}\n",
    "x_{0}^0   & x_{0}^1   & \\cdots & x_{0}^n \\\\\n",
    "x_{1}^0   & x_{1}^1   & \\cdots & x_{1}^n \\\\\n",
    "\\vdots         & \\vdots         & \\ddots & \\vdots \\\\\n",
    "x_{n}^0   & x_{n}^1   & \\cdots & x_{n}^n \\\\\n",
    "\\end{array}\n",
    "\\right)\n",
    "\\left(\n",
    "\\begin{array}{c}\n",
    "a_0 \\\\ a_1 \\\\ \\vdots \\\\ a_n\n",
    "\\end{array}\n",
    "\\right)\n",
    "=\n",
    "\\left(\n",
    "\\begin{array}{c}\n",
    "y_0 \\\\ y_1 \\\\ \\vdots \\\\ y_n\n",
    "\\end{array}\n",
    "\\right)\n",
    "$$\n",
    "\n",
    "L'approche la plus intelligente, non abordée ici,  est celle qui utilise les polynômes d'interpolation de Lagrange."
   ]
  },
  {
   "cell_type": "code",
   "execution_count": 2,
   "metadata": {},
   "outputs": [
    {
     "data": {
      "image/png": "[encoded data removed]",
      "text/plain": [
       "<Figure size 432x288 with 1 Axes>"
      ]
     },
     "metadata": {
      "needs_background": "light"
     },
     "output_type": "display_data"
    }
   ],
   "source": [
    "#%matplotlib inline\n",
    "import math\n",
    "import matplotlib.pyplot as plt\n",
    "import numpy as np\n",
    "from scipy.interpolate import interp1d\n",
    "\n",
    "a=1/8\n",
    "def f(x):\n",
    "    return np.exp(-a*x**2)\n",
    "\n",
    "x = np.linspace(-10, 10, num=11, endpoint=True)\n",
    "y = f(x)\n",
    "\n",
    "interpf  = interp1d(x, y, kind='cubic')\n",
    "\n",
    "ord=5\n",
    "interpfn = interp1d(x, y, kind=ord)\n",
    "\n",
    "xnew = np.linspace(-10, 10, num=41, endpoint=True)\n",
    "ynew=interpfn(xnew)\n",
    "\n",
    "plt.plot(x, y, 'o', xnew, interpf(xnew), 'b-', xnew, interpfn(xnew), '--')\n",
    "\n",
    "x = np.linspace(-10, 10, num=101, endpoint=True)\n",
    "y = f(x)\n",
    "plt.plot(x, y, 'r-')\n",
    "plt.legend(['data', 'cubic', 'ord'+str(ord), 'ana'], loc='best')\n",
    "plt.grid()\n"
   ]
  },
  {
   "cell_type": "markdown",
   "metadata": {},
   "source": [
    "Exercice : déterminer l'interpolée d'ordre $n \\in [5, 10]$,  passant par (n+1) points d'abscisses équidistantes dans l'intervalle $x_i \\in [0, 2 \\pi]$ et d'ordonnées $y_i = \\sin(x_i)$\n",
    "\n",
    "Exercice : faites de même avec des ordonnées bruitées avec un bruit blanc. On utilisera np.random.rand(x.shape[0])\n",
    "avec une amplitude de 0.1 . Commenter"
   ]
  },
  {
   "cell_type": "code",
   "execution_count": 10,
   "metadata": {},
   "outputs": [],
   "source": [
    "#%matplotlib inline\n",
    "import math\n",
    "import matplotlib.pyplot as plt\n",
    "import numpy as np\n",
    "from scipy.interpolate import interp1d\n"
   ]
  }
 ],
 "metadata": {
  "anaconda-cloud": {},
  "kernelspec": {
   "display_name": "Python 3 (ipykernel)",
   "language": "python",
   "name": "python3"
  },
  "language_info": {
   "codemirror_mode": {
    "name": "ipython",
    "version": 3
   },
   "file_extension": ".py",
   "mimetype": "text/x-python",
   "name": "python",
   "nbconvert_exporter": "python",
   "pygments_lexer": "ipython3",
   "version": "3.9.7"
  }
 },
 "nbformat": 4,
 "nbformat_minor": 1
}
